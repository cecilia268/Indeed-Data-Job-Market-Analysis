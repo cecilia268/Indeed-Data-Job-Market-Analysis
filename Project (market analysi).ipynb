{
 "cells": [
  {
   "cell_type": "code",
   "execution_count": 1,
   "metadata": {},
   "outputs": [],
   "source": [
    "import pandas as pd\n",
    "\n",
    "import numpy as np\n",
    "\n",
    "import re\n",
    "\n",
    "import seaborn as sns\n",
    "\n",
    "import matplotlib.pyplot as plt"
   ]
  },
  {
   "cell_type": "code",
   "execution_count": 2,
   "metadata": {},
   "outputs": [],
   "source": [
    "ca_da = pd.read_csv(\"/Users/xugao/Desktop/updated BD/ca_data+analyst_jd9 (1).csv\")\n",
    "\n",
    "skill_set = pd.read_excel(\"/Users/xugao/Downloads/skils_list (2).xlsx\", sheet_name='Skill Set')"
   ]
  },
  {
   "cell_type": "code",
   "execution_count": 3,
   "metadata": {},
   "outputs": [
    {
     "data": {
      "text/html": [
       "<div>\n",
       "<style scoped>\n",
       "    .dataframe tbody tr th:only-of-type {\n",
       "        vertical-align: middle;\n",
       "    }\n",
       "\n",
       "    .dataframe tbody tr th {\n",
       "        vertical-align: top;\n",
       "    }\n",
       "\n",
       "    .dataframe thead th {\n",
       "        text-align: right;\n",
       "    }\n",
       "</style>\n",
       "<table border=\"1\" class=\"dataframe\">\n",
       "  <thead>\n",
       "    <tr style=\"text-align: right;\">\n",
       "      <th></th>\n",
       "      <th>Technical Skills</th>\n",
       "      <th>Soft Skills</th>\n",
       "    </tr>\n",
       "  </thead>\n",
       "  <tbody>\n",
       "    <tr>\n",
       "      <th>0</th>\n",
       "      <td>AWS</td>\n",
       "      <td>Communication skills</td>\n",
       "    </tr>\n",
       "    <tr>\n",
       "      <th>1</th>\n",
       "      <td>GCP</td>\n",
       "      <td>Collaboration</td>\n",
       "    </tr>\n",
       "    <tr>\n",
       "      <th>2</th>\n",
       "      <td>Azure</td>\n",
       "      <td>Detail orientation</td>\n",
       "    </tr>\n",
       "    <tr>\n",
       "      <th>3</th>\n",
       "      <td>Cyber security</td>\n",
       "      <td>Troubleshooting</td>\n",
       "    </tr>\n",
       "    <tr>\n",
       "      <th>4</th>\n",
       "      <td>SQL</td>\n",
       "      <td>Problem Solving</td>\n",
       "    </tr>\n",
       "    <tr>\n",
       "      <th>...</th>\n",
       "      <td>...</td>\n",
       "      <td>...</td>\n",
       "    </tr>\n",
       "    <tr>\n",
       "      <th>85</th>\n",
       "      <td>Weka</td>\n",
       "      <td>NaN</td>\n",
       "    </tr>\n",
       "    <tr>\n",
       "      <th>86</th>\n",
       "      <td>MATLAB</td>\n",
       "      <td>NaN</td>\n",
       "    </tr>\n",
       "    <tr>\n",
       "      <th>87</th>\n",
       "      <td>Google Cloud ML</td>\n",
       "      <td>NaN</td>\n",
       "    </tr>\n",
       "    <tr>\n",
       "      <th>88</th>\n",
       "      <td>Amazon Machine Learning</td>\n",
       "      <td>NaN</td>\n",
       "    </tr>\n",
       "    <tr>\n",
       "      <th>89</th>\n",
       "      <td>IBM Watson</td>\n",
       "      <td>NaN</td>\n",
       "    </tr>\n",
       "  </tbody>\n",
       "</table>\n",
       "<p>90 rows × 2 columns</p>\n",
       "</div>"
      ],
      "text/plain": [
       "          Technical Skills            Soft Skills\n",
       "0                       AWS  Communication skills\n",
       "1                       GCP         Collaboration\n",
       "2                     Azure    Detail orientation\n",
       "3            Cyber security       Troubleshooting\n",
       "4                       SQL      Problem Solving \n",
       "..                      ...                   ...\n",
       "85                     Weka                   NaN\n",
       "86                   MATLAB                   NaN\n",
       "87          Google Cloud ML                   NaN\n",
       "88  Amazon Machine Learning                   NaN\n",
       "89               IBM Watson                   NaN\n",
       "\n",
       "[90 rows x 2 columns]"
      ]
     },
     "execution_count": 3,
     "metadata": {},
     "output_type": "execute_result"
    }
   ],
   "source": [
    "skill_set"
   ]
  },
  {
   "cell_type": "code",
   "execution_count": 90,
   "metadata": {},
   "outputs": [],
   "source": [
    "#ca_ds['jobid']=ca_ds['url'].apply(lambda x : x.split(\"=\")[1])"
   ]
  },
  {
   "cell_type": "code",
   "execution_count": 4,
   "metadata": {
    "scrolled": true
   },
   "outputs": [
    {
     "data": {
      "text/html": [
       "<div>\n",
       "<style scoped>\n",
       "    .dataframe tbody tr th:only-of-type {\n",
       "        vertical-align: middle;\n",
       "    }\n",
       "\n",
       "    .dataframe tbody tr th {\n",
       "        vertical-align: top;\n",
       "    }\n",
       "\n",
       "    .dataframe thead th {\n",
       "        text-align: right;\n",
       "    }\n",
       "</style>\n",
       "<table border=\"1\" class=\"dataframe\">\n",
       "  <thead>\n",
       "    <tr style=\"text-align: right;\">\n",
       "      <th></th>\n",
       "      <th>Unnamed: 0</th>\n",
       "      <th>url</th>\n",
       "      <th>description</th>\n",
       "    </tr>\n",
       "  </thead>\n",
       "  <tbody>\n",
       "    <tr>\n",
       "      <th>0</th>\n",
       "      <td>0</td>\n",
       "      <td>https://ca.indeed.com/viewjob?jk=7a19fe73adae9c11</td>\n",
       "      <td>Job SummaryThe Data Analyst, under the directi...</td>\n",
       "    </tr>\n",
       "    <tr>\n",
       "      <th>1</th>\n",
       "      <td>1</td>\n",
       "      <td>https://ca.indeed.com/viewjob?jk=b93733d56745cf63</td>\n",
       "      <td>\\n\\nPosition: IP Procurement Data Analyst co-o...</td>\n",
       "    </tr>\n",
       "    <tr>\n",
       "      <th>2</th>\n",
       "      <td>2</td>\n",
       "      <td>https://ca.indeed.com/viewjob?jk=36bc94d6a898d0ec</td>\n",
       "      <td>\\nThe Big Data Analyst is a seasoned professio...</td>\n",
       "    </tr>\n",
       "    <tr>\n",
       "      <th>3</th>\n",
       "      <td>3</td>\n",
       "      <td>https://ca.indeed.com/viewjob?jk=ef6c647cc4526211</td>\n",
       "      <td>Rubicon Organicsâ mission is to grow the bes...</td>\n",
       "    </tr>\n",
       "    <tr>\n",
       "      <th>4</th>\n",
       "      <td>4</td>\n",
       "      <td>https://ca.indeed.com/viewjob?jk=ddd2e22afb325a23</td>\n",
       "      <td>The Role\\nYou Will Be Responsible For\\n\\nDefin...</td>\n",
       "    </tr>\n",
       "    <tr>\n",
       "      <th>...</th>\n",
       "      <td>...</td>\n",
       "      <td>...</td>\n",
       "      <td>...</td>\n",
       "    </tr>\n",
       "    <tr>\n",
       "      <th>196</th>\n",
       "      <td>196</td>\n",
       "      <td>https://ca.indeed.com/viewjob?jk=731702f9e0c18240</td>\n",
       "      <td>\\nFounded in 1987, Croesus is a WealthTech off...</td>\n",
       "    </tr>\n",
       "    <tr>\n",
       "      <th>197</th>\n",
       "      <td>197</td>\n",
       "      <td>https://ca.indeed.com/viewjob?jk=829a1025b8be5e43</td>\n",
       "      <td>Souhaitez-vous faire partie du paysage dynamiq...</td>\n",
       "    </tr>\n",
       "    <tr>\n",
       "      <th>198</th>\n",
       "      <td>198</td>\n",
       "      <td>https://ca.indeed.com/viewjob?jk=19887884938d108a</td>\n",
       "      <td>\\n\\nPurpose: Student Counselling, Health &amp; Wel...</td>\n",
       "    </tr>\n",
       "    <tr>\n",
       "      <th>199</th>\n",
       "      <td>199</td>\n",
       "      <td>https://ca.indeed.com/viewjob?jk=959280adc3743e2d</td>\n",
       "      <td>\\n\\n\\n\\n\\n\\n\\n\\n\\n\\n\\n\\n           If you are ...</td>\n",
       "    </tr>\n",
       "    <tr>\n",
       "      <th>200</th>\n",
       "      <td>200</td>\n",
       "      <td>https://ca.indeed.com/viewjob?jk=7e8e1e83b067d700</td>\n",
       "      <td>About Us:\\n For over 40 years, Immigrant Servi...</td>\n",
       "    </tr>\n",
       "  </tbody>\n",
       "</table>\n",
       "<p>201 rows × 3 columns</p>\n",
       "</div>"
      ],
      "text/plain": [
       "     Unnamed: 0                                                url  \\\n",
       "0             0  https://ca.indeed.com/viewjob?jk=7a19fe73adae9c11   \n",
       "1             1  https://ca.indeed.com/viewjob?jk=b93733d56745cf63   \n",
       "2             2  https://ca.indeed.com/viewjob?jk=36bc94d6a898d0ec   \n",
       "3             3  https://ca.indeed.com/viewjob?jk=ef6c647cc4526211   \n",
       "4             4  https://ca.indeed.com/viewjob?jk=ddd2e22afb325a23   \n",
       "..          ...                                                ...   \n",
       "196         196  https://ca.indeed.com/viewjob?jk=731702f9e0c18240   \n",
       "197         197  https://ca.indeed.com/viewjob?jk=829a1025b8be5e43   \n",
       "198         198  https://ca.indeed.com/viewjob?jk=19887884938d108a   \n",
       "199         199  https://ca.indeed.com/viewjob?jk=959280adc3743e2d   \n",
       "200         200  https://ca.indeed.com/viewjob?jk=7e8e1e83b067d700   \n",
       "\n",
       "                                           description  \n",
       "0    Job SummaryThe Data Analyst, under the directi...  \n",
       "1    \\n\\nPosition: IP Procurement Data Analyst co-o...  \n",
       "2    \\nThe Big Data Analyst is a seasoned professio...  \n",
       "3    Rubicon Organicsâ mission is to grow the bes...  \n",
       "4    The Role\\nYou Will Be Responsible For\\n\\nDefin...  \n",
       "..                                                 ...  \n",
       "196  \\nFounded in 1987, Croesus is a WealthTech off...  \n",
       "197  Souhaitez-vous faire partie du paysage dynamiq...  \n",
       "198  \\n\\nPurpose: Student Counselling, Health & Wel...  \n",
       "199  \\n\\n\\n\\n\\n\\n\\n\\n\\n\\n\\n\\n           If you are ...  \n",
       "200  About Us:\\n For over 40 years, Immigrant Servi...  \n",
       "\n",
       "[201 rows x 3 columns]"
      ]
     },
     "execution_count": 4,
     "metadata": {},
     "output_type": "execute_result"
    }
   ],
   "source": [
    "ca_da_jd = pd.read_csv(\"/Users/xugao/Desktop/updated BD/ca_data+analyst_jd9 (1).csv\")\n",
    "ca_da_jd"
   ]
  },
  {
   "cell_type": "code",
   "execution_count": 6,
   "metadata": {},
   "outputs": [],
   "source": [
    "ca_da_jd['jobid']=ca_da_jd['url'].apply(lambda x : x.split(\"=\")[1])"
   ]
  },
  {
   "cell_type": "code",
   "execution_count": 7,
   "metadata": {},
   "outputs": [
    {
     "data": {
      "text/html": [
       "<div>\n",
       "<style scoped>\n",
       "    .dataframe tbody tr th:only-of-type {\n",
       "        vertical-align: middle;\n",
       "    }\n",
       "\n",
       "    .dataframe tbody tr th {\n",
       "        vertical-align: top;\n",
       "    }\n",
       "\n",
       "    .dataframe thead th {\n",
       "        text-align: right;\n",
       "    }\n",
       "</style>\n",
       "<table border=\"1\" class=\"dataframe\">\n",
       "  <thead>\n",
       "    <tr style=\"text-align: right;\">\n",
       "      <th></th>\n",
       "      <th>Unnamed: 0</th>\n",
       "      <th>url</th>\n",
       "      <th>description</th>\n",
       "      <th>jobid</th>\n",
       "    </tr>\n",
       "  </thead>\n",
       "  <tbody>\n",
       "    <tr>\n",
       "      <th>0</th>\n",
       "      <td>0</td>\n",
       "      <td>https://ca.indeed.com/viewjob?jk=7a19fe73adae9c11</td>\n",
       "      <td>Job SummaryThe Data Analyst, under the directi...</td>\n",
       "      <td>7a19fe73adae9c11</td>\n",
       "    </tr>\n",
       "    <tr>\n",
       "      <th>1</th>\n",
       "      <td>1</td>\n",
       "      <td>https://ca.indeed.com/viewjob?jk=b93733d56745cf63</td>\n",
       "      <td>\\n\\nPosition: IP Procurement Data Analyst co-o...</td>\n",
       "      <td>b93733d56745cf63</td>\n",
       "    </tr>\n",
       "    <tr>\n",
       "      <th>2</th>\n",
       "      <td>2</td>\n",
       "      <td>https://ca.indeed.com/viewjob?jk=36bc94d6a898d0ec</td>\n",
       "      <td>\\nThe Big Data Analyst is a seasoned professio...</td>\n",
       "      <td>36bc94d6a898d0ec</td>\n",
       "    </tr>\n",
       "    <tr>\n",
       "      <th>3</th>\n",
       "      <td>3</td>\n",
       "      <td>https://ca.indeed.com/viewjob?jk=ef6c647cc4526211</td>\n",
       "      <td>Rubicon Organicsâ mission is to grow the bes...</td>\n",
       "      <td>ef6c647cc4526211</td>\n",
       "    </tr>\n",
       "    <tr>\n",
       "      <th>4</th>\n",
       "      <td>4</td>\n",
       "      <td>https://ca.indeed.com/viewjob?jk=ddd2e22afb325a23</td>\n",
       "      <td>The Role\\nYou Will Be Responsible For\\n\\nDefin...</td>\n",
       "      <td>ddd2e22afb325a23</td>\n",
       "    </tr>\n",
       "    <tr>\n",
       "      <th>...</th>\n",
       "      <td>...</td>\n",
       "      <td>...</td>\n",
       "      <td>...</td>\n",
       "      <td>...</td>\n",
       "    </tr>\n",
       "    <tr>\n",
       "      <th>196</th>\n",
       "      <td>196</td>\n",
       "      <td>https://ca.indeed.com/viewjob?jk=731702f9e0c18240</td>\n",
       "      <td>\\nFounded in 1987, Croesus is a WealthTech off...</td>\n",
       "      <td>731702f9e0c18240</td>\n",
       "    </tr>\n",
       "    <tr>\n",
       "      <th>197</th>\n",
       "      <td>197</td>\n",
       "      <td>https://ca.indeed.com/viewjob?jk=829a1025b8be5e43</td>\n",
       "      <td>Souhaitez-vous faire partie du paysage dynamiq...</td>\n",
       "      <td>829a1025b8be5e43</td>\n",
       "    </tr>\n",
       "    <tr>\n",
       "      <th>198</th>\n",
       "      <td>198</td>\n",
       "      <td>https://ca.indeed.com/viewjob?jk=19887884938d108a</td>\n",
       "      <td>\\n\\nPurpose: Student Counselling, Health &amp; Wel...</td>\n",
       "      <td>19887884938d108a</td>\n",
       "    </tr>\n",
       "    <tr>\n",
       "      <th>199</th>\n",
       "      <td>199</td>\n",
       "      <td>https://ca.indeed.com/viewjob?jk=959280adc3743e2d</td>\n",
       "      <td>\\n\\n\\n\\n\\n\\n\\n\\n\\n\\n\\n\\n           If you are ...</td>\n",
       "      <td>959280adc3743e2d</td>\n",
       "    </tr>\n",
       "    <tr>\n",
       "      <th>200</th>\n",
       "      <td>200</td>\n",
       "      <td>https://ca.indeed.com/viewjob?jk=7e8e1e83b067d700</td>\n",
       "      <td>About Us:\\n For over 40 years, Immigrant Servi...</td>\n",
       "      <td>7e8e1e83b067d700</td>\n",
       "    </tr>\n",
       "  </tbody>\n",
       "</table>\n",
       "<p>201 rows × 4 columns</p>\n",
       "</div>"
      ],
      "text/plain": [
       "     Unnamed: 0                                                url  \\\n",
       "0             0  https://ca.indeed.com/viewjob?jk=7a19fe73adae9c11   \n",
       "1             1  https://ca.indeed.com/viewjob?jk=b93733d56745cf63   \n",
       "2             2  https://ca.indeed.com/viewjob?jk=36bc94d6a898d0ec   \n",
       "3             3  https://ca.indeed.com/viewjob?jk=ef6c647cc4526211   \n",
       "4             4  https://ca.indeed.com/viewjob?jk=ddd2e22afb325a23   \n",
       "..          ...                                                ...   \n",
       "196         196  https://ca.indeed.com/viewjob?jk=731702f9e0c18240   \n",
       "197         197  https://ca.indeed.com/viewjob?jk=829a1025b8be5e43   \n",
       "198         198  https://ca.indeed.com/viewjob?jk=19887884938d108a   \n",
       "199         199  https://ca.indeed.com/viewjob?jk=959280adc3743e2d   \n",
       "200         200  https://ca.indeed.com/viewjob?jk=7e8e1e83b067d700   \n",
       "\n",
       "                                           description             jobid  \n",
       "0    Job SummaryThe Data Analyst, under the directi...  7a19fe73adae9c11  \n",
       "1    \\n\\nPosition: IP Procurement Data Analyst co-o...  b93733d56745cf63  \n",
       "2    \\nThe Big Data Analyst is a seasoned professio...  36bc94d6a898d0ec  \n",
       "3    Rubicon Organicsâ mission is to grow the bes...  ef6c647cc4526211  \n",
       "4    The Role\\nYou Will Be Responsible For\\n\\nDefin...  ddd2e22afb325a23  \n",
       "..                                                 ...               ...  \n",
       "196  \\nFounded in 1987, Croesus is a WealthTech off...  731702f9e0c18240  \n",
       "197  Souhaitez-vous faire partie du paysage dynamiq...  829a1025b8be5e43  \n",
       "198  \\n\\nPurpose: Student Counselling, Health & Wel...  19887884938d108a  \n",
       "199  \\n\\n\\n\\n\\n\\n\\n\\n\\n\\n\\n\\n           If you are ...  959280adc3743e2d  \n",
       "200  About Us:\\n For over 40 years, Immigrant Servi...  7e8e1e83b067d700  \n",
       "\n",
       "[201 rows x 4 columns]"
      ]
     },
     "execution_count": 7,
     "metadata": {},
     "output_type": "execute_result"
    }
   ],
   "source": [
    "ca_da_jd"
   ]
  },
  {
   "cell_type": "code",
   "execution_count": 10,
   "metadata": {},
   "outputs": [
    {
     "data": {
      "text/html": [
       "<div>\n",
       "<style scoped>\n",
       "    .dataframe tbody tr th:only-of-type {\n",
       "        vertical-align: middle;\n",
       "    }\n",
       "\n",
       "    .dataframe tbody tr th {\n",
       "        vertical-align: top;\n",
       "    }\n",
       "\n",
       "    .dataframe thead th {\n",
       "        text-align: right;\n",
       "    }\n",
       "</style>\n",
       "<table border=\"1\" class=\"dataframe\">\n",
       "  <thead>\n",
       "    <tr style=\"text-align: right;\">\n",
       "      <th></th>\n",
       "      <th>Unnamed: 0</th>\n",
       "      <th>jobid</th>\n",
       "      <th>jobid_location</th>\n",
       "    </tr>\n",
       "  </thead>\n",
       "  <tbody>\n",
       "    <tr>\n",
       "      <th>0</th>\n",
       "      <td>0</td>\n",
       "      <td>438e43e2f086e900</td>\n",
       "      <td>Lajord, SK</td>\n",
       "    </tr>\n",
       "    <tr>\n",
       "      <th>1</th>\n",
       "      <td>1</td>\n",
       "      <td>ffd8877bc76ed677</td>\n",
       "      <td>Moncton, NB+ 1Â lieu</td>\n",
       "    </tr>\n",
       "    <tr>\n",
       "      <th>2</th>\n",
       "      <td>2</td>\n",
       "      <td>6cc5a97cdb3aa658</td>\n",
       "      <td>TÃ©lÃ©travail hybride Ã  Langley, BC</td>\n",
       "    </tr>\n",
       "    <tr>\n",
       "      <th>3</th>\n",
       "      <td>3</td>\n",
       "      <td>23f033f3c9422772</td>\n",
       "      <td>Halifax, NS</td>\n",
       "    </tr>\n",
       "    <tr>\n",
       "      <th>4</th>\n",
       "      <td>4</td>\n",
       "      <td>a1f60ba333ead379</td>\n",
       "      <td>Vancouver, BC</td>\n",
       "    </tr>\n",
       "    <tr>\n",
       "      <th>...</th>\n",
       "      <td>...</td>\n",
       "      <td>...</td>\n",
       "      <td>...</td>\n",
       "    </tr>\n",
       "    <tr>\n",
       "      <th>196</th>\n",
       "      <td>521</td>\n",
       "      <td>8abefb22dd7ec27a</td>\n",
       "      <td>London, ON</td>\n",
       "    </tr>\n",
       "    <tr>\n",
       "      <th>197</th>\n",
       "      <td>522</td>\n",
       "      <td>8c65334ccaf1818d</td>\n",
       "      <td>Toronto, ON</td>\n",
       "    </tr>\n",
       "    <tr>\n",
       "      <th>198</th>\n",
       "      <td>554</td>\n",
       "      <td>9a1504e2fed873df</td>\n",
       "      <td>MontrÃ©al, QC</td>\n",
       "    </tr>\n",
       "    <tr>\n",
       "      <th>199</th>\n",
       "      <td>555</td>\n",
       "      <td>4a86eaa48c3ab0dc</td>\n",
       "      <td>MontrÃ©al, QC</td>\n",
       "    </tr>\n",
       "    <tr>\n",
       "      <th>200</th>\n",
       "      <td>893</td>\n",
       "      <td>594f8db6bb039aae</td>\n",
       "      <td>Hybrid remote in Toronto, ON</td>\n",
       "    </tr>\n",
       "  </tbody>\n",
       "</table>\n",
       "<p>201 rows × 3 columns</p>\n",
       "</div>"
      ],
      "text/plain": [
       "     Unnamed: 0             jobid                        jobid_location\n",
       "0             0  438e43e2f086e900                            Lajord, SK\n",
       "1             1  ffd8877bc76ed677                  Moncton, NB+ 1Â lieu\n",
       "2             2  6cc5a97cdb3aa658  TÃ©lÃ©travail hybride Ã  Langley, BC\n",
       "3             3  23f033f3c9422772                           Halifax, NS\n",
       "4             4  a1f60ba333ead379                         Vancouver, BC\n",
       "..          ...               ...                                   ...\n",
       "196         521  8abefb22dd7ec27a                            London, ON\n",
       "197         522  8c65334ccaf1818d                           Toronto, ON\n",
       "198         554  9a1504e2fed873df                         MontrÃ©al, QC\n",
       "199         555  4a86eaa48c3ab0dc                         MontrÃ©al, QC\n",
       "200         893  594f8db6bb039aae          Hybrid remote in Toronto, ON\n",
       "\n",
       "[201 rows x 3 columns]"
      ]
     },
     "execution_count": 10,
     "metadata": {},
     "output_type": "execute_result"
    }
   ],
   "source": [
    "ca_da_id = pd.read_csv(\"/Users/xugao/Desktop/updated BD/ca_data+analyst_jobids9.csv\")\n",
    "ca_da_id"
   ]
  },
  {
   "cell_type": "code",
   "execution_count": 11,
   "metadata": {},
   "outputs": [],
   "source": [
    "ca_da_all = pd.merge(ca_da_jd,ca_da_id, on='jobid',how=\"left\")"
   ]
  },
  {
   "cell_type": "code",
   "execution_count": 12,
   "metadata": {},
   "outputs": [],
   "source": [
    "import unicodedata\n",
    "\n",
    "\n",
    "def strip_accents(description):\n",
    "    \"\"\"\n",
    "    Strip accents from input String.\n",
    "\n",
    "    :param text: The input string.\n",
    "    :type text: String.\n",
    "\n",
    "    :returns: The processed String.\n",
    "    :rtype: String.\n",
    "    \"\"\"\n",
    "    try:\n",
    "        text = unicode(description, 'utf-8')\n",
    "    except (TypeError, NameError): # unicode is a default on python 3 \n",
    "        pass\n",
    "    description = unicodedata.normalize('NFD', description)\n",
    "    description = description.encode('ascii', 'ignore')\n",
    "    description = description.decode(\"utf-8\")\n",
    "    return str(description)\n",
    "\n",
    "def cleaner(description):\n",
    "    description= re.sub(r\"(?:\\@|http?\\://|https?\\://|www)\\S+\", \" \", description) \n",
    "    \n",
    "    description = re.sub(r\"won\\'t\", \"will not\", description) # fix contractions\n",
    "    description = re.sub(r\"can\\'t\", \"can not\", description)\n",
    "    description = re.sub(r\"n\\'t\", \" not\", description)\n",
    "    description = re.sub(r\"\\'re\", \" are\", description)\n",
    "    description = re.sub(r\"\\'s\", \" is\", description)\n",
    "    description = re.sub(r\"\\'d\", \" would\", description)\n",
    "    description = re.sub(r\"\\'ll\", \" will\", description)\n",
    "    description = re.sub(r\"\\'t\", \" not\", description)\n",
    "    description = re.sub(r\"\\'ve\", \" have\", description)\n",
    "    description = re.sub(r\"\\'m\", \" am\", description)\n",
    "    \n",
    "    #description = re.sub(r\"[^a-zA-z]\", \" \", description) \n",
    "    description = re.sub(\"(^|\\W)\\d+($|\\W)\", \" \", description)  \n",
    "    description= re.sub('\\W+',' ',description)\n",
    "    description = re.sub(r\"\\s+\", \" \", description) \n",
    "    description = description.lower()  \n",
    "    description = description.strip()\n",
    "    description = re.sub('string.punctuation',' ',description)\n",
    "    description = re.sub(r\"Ã\",\"A\",description)\n",
    "    description = re.sub(r\"ã\",\"a\",description)\n",
    "    \n",
    "    return description\n",
    "\n",
    "ca_da_all['description_clean'] = ca_da_all['description'].apply(cleaner)"
   ]
  },
  {
   "cell_type": "code",
   "execution_count": 22,
   "metadata": {},
   "outputs": [],
   "source": [
    "#ca_da_all['joblocation_clean']=ca_da_all['jobid_location'].apply(strip_accents)"
   ]
  },
  {
   "cell_type": "code",
   "execution_count": 13,
   "metadata": {},
   "outputs": [],
   "source": [
    "# clean on jobid location\n",
    "\n",
    "ca_da_all['joblocation_clean']=ca_da_all['jobid_location'].apply(cleaner)"
   ]
  },
  {
   "cell_type": "code",
   "execution_count": 199,
   "metadata": {},
   "outputs": [
    {
     "data": {
      "text/plain": [
       "toronto on                             38\n",
       "montra al qc                           17\n",
       "calgary ab                             13\n",
       "vancouver bc                            6\n",
       "mississauga on                          6\n",
       "                                       ..\n",
       "london on                               1\n",
       "ireland on                              1\n",
       "vancouver bc location                   1\n",
       "ta la travail hybride a langley bc      1\n",
       "ta la travail a waterloo on 1â lieu     1\n",
       "Name: joblocation_clean, Length: 84, dtype: int64"
      ]
     },
     "execution_count": 199,
     "metadata": {},
     "output_type": "execute_result"
    }
   ],
   "source": [
    "ca_da_all['joblocation_clean'].value_counts()\n",
    "\n",
    "#TÃ©lÃ©travail hybride Ã  Toronto, ON - Job is based out of Toronto, is hybrid, and is remote\n",
    "#TÃ©lÃ©travail Ã  Edmonton, AB - Job is based out of Edmonton, is not hybrid, and is remote\n",
    "#TÃ©lÃ©travail - job is remote\n",
    "\n",
    "\n",
    "##if travail is followed by the word hybrid-- hybrid\n",
    "## travail is followed by space or \"-\" , as long as not followed by hybrid, its remote"
   ]
  },
  {
   "cell_type": "code",
   "execution_count": 141,
   "metadata": {},
   "outputs": [
    {
     "data": {
      "image/png": "[encoded data removed]",
      "text/plain": [
       "<Figure size 720x576 with 1 Axes>"
      ]
     },
     "metadata": {},
     "output_type": "display_data"
    }
   ],
   "source": [
    "plt.figure(figsize=(10,8))\n",
    "ca_da_all[\"joblocation_clean\"].value_counts().head().plot(kind='pie',autopct='%1.1f%%')\n",
    "circle =  plt.Circle( (0,0), 0.5, color='white')\n",
    "plot = plt.gcf()\n",
    "plot.gca().add_artist(circle)\n",
    " \n",
    "\n",
    "# display the plot\n",
    "plt.show()"
   ]
  },
  {
   "cell_type": "code",
   "execution_count": 161,
   "metadata": {},
   "outputs": [
    {
     "name": "stderr",
     "output_type": "stream",
     "text": [
      "<ipython-input-161-e9ca10b4e097>:29: SettingWithCopyWarning: \n",
      "A value is trying to be set on a copy of a slice from a DataFrame\n",
      "\n",
      "See the caveats in the documentation: https://pandas.pydata.org/pandas-docs/stable/user_guide/indexing.html#returning-a-view-versus-a-copy\n",
      "  ca_da_all['Hybride_remote'][i]=keywords_found\n"
     ]
    }
   ],
   "source": [
    "## extract htbrid and remote info from jobid_location and create a new column\n",
    "# remote and travail are both remote, replace travil with remote\n",
    "\n",
    "\n",
    "from flashtext import KeywordProcessor\n",
    "\n",
    "keyword_processor = KeywordProcessor()\n",
    "\n",
    "Hybride_remote= ['travail hybride','remote','travail']\n",
    "\n",
    "ca_da_all[\"Hybride_remote\"]=''\n",
    "\n",
    "for i in Hybride_remote:\n",
    "    \n",
    "    if i != i:\n",
    "        \n",
    "        pass\n",
    "    \n",
    "    else:\n",
    "        \n",
    "        keyword_processor.add_keyword(i)\n",
    "        \n",
    "#keywords_found = keyword_processor.extract_keywords(ca_ds_jd[\"description_clean\"][0])\n",
    "\n",
    "for i in range(len(ca_da_all)):\n",
    "    \n",
    "    keywords_found = keyword_processor.extract_keywords(ca_da_all[\"joblocation_clean\"][i])\n",
    "\n",
    "    ca_da_all['Hybride_remote'][i]=keywords_found"
   ]
  },
  {
   "cell_type": "code",
   "execution_count": 162,
   "metadata": {},
   "outputs": [],
   "source": [
    "# reomve square bracket\n",
    "ca_da_all['Hybride_remote']=ca_da_all['Hybride_remote'].astype(str).str.replace(\"[\\]\\[]\",'')\n",
    "\n",
    "ca_da_all['Hybride_remote'] = ca_da_all['Hybride_remote'].str.replace('travail','remote',regex=True)"
   ]
  },
  {
   "cell_type": "code",
   "execution_count": 167,
   "metadata": {},
   "outputs": [
    {
     "data": {
      "text/plain": [
       "<matplotlib.legend.Legend at 0x7f841e822190>"
      ]
     },
     "execution_count": 167,
     "metadata": {},
     "output_type": "execute_result"
    },
    {
     "data": {
      "image/png": "[encoded data removed]",
      "text/plain": [
       "<Figure size 720x576 with 1 Axes>"
      ]
     },
     "metadata": {},
     "output_type": "display_data"
    }
   ],
   "source": [
    "plt.figure(figsize=(10,8))\n",
    "plt.style.use('dark_background')\n",
    "x=ca_da_all['Hybride_remote'].value_counts()\n",
    "\n",
    "\n",
    "labels = ['on-site','remote','travail hybride']\n",
    "plt.pie(x, explode=[0.0,0.1,0.2], autopct='%1.1f%%',labels=labels)\n",
    "plt.legend(title = \"Distribution on remote/hybride\")"
   ]
  },
  {
   "cell_type": "code",
   "execution_count": 87,
   "metadata": {},
   "outputs": [
    {
     "name": "stdout",
     "output_type": "stream",
     "text": [
      "!\"#$%&'()*+,-./:;<=>?@[\\]^_`{|}~\n"
     ]
    },
    {
     "ename": "NameError",
     "evalue": "name 'ca_ds_all' is not defined",
     "output_type": "error",
     "traceback": [
      "\u001b[0;31m---------------------------------------------------------------------------\u001b[0m",
      "\u001b[0;31mNameError\u001b[0m                                 Traceback (most recent call last)",
      "\u001b[0;32m<ipython-input-87-acc0b44f67f9>\u001b[0m in \u001b[0;36m<module>\u001b[0;34m\u001b[0m\n\u001b[1;32m      7\u001b[0m \u001b[0;34m\u001b[0m\u001b[0m\n\u001b[1;32m      8\u001b[0m \u001b[0;31m# remove puctuation in location\u001b[0m\u001b[0;34m\u001b[0m\u001b[0;34m\u001b[0m\u001b[0;34m\u001b[0m\u001b[0m\n\u001b[0;32m----> 9\u001b[0;31m \u001b[0mtext\u001b[0m \u001b[0;34m=\u001b[0m \u001b[0mca_ds_all\u001b[0m\u001b[0;34m[\u001b[0m\u001b[0;34m'joblocation_clean'\u001b[0m\u001b[0;34m]\u001b[0m\u001b[0;34m\u001b[0m\u001b[0;34m\u001b[0m\u001b[0m\n\u001b[0m\u001b[1;32m     10\u001b[0m \u001b[0mca_ds_all\u001b[0m\u001b[0;34m[\u001b[0m\u001b[0;34m'joblocation_clean_pun'\u001b[0m\u001b[0;34m]\u001b[0m\u001b[0;34m=\u001b[0m\u001b[0;34m\"\"\u001b[0m\u001b[0;34m.\u001b[0m\u001b[0mjoin\u001b[0m\u001b[0;34m(\u001b[0m\u001b[0;34m[\u001b[0m\u001b[0mchar\u001b[0m \u001b[0;32mfor\u001b[0m \u001b[0mchar\u001b[0m \u001b[0;32min\u001b[0m \u001b[0mtext\u001b[0m \u001b[0;32mif\u001b[0m \u001b[0mchar\u001b[0m \u001b[0;32mnot\u001b[0m \u001b[0;32min\u001b[0m \u001b[0mstring\u001b[0m\u001b[0;34m.\u001b[0m\u001b[0mpunctuation\u001b[0m\u001b[0;34m]\u001b[0m\u001b[0;34m)\u001b[0m\u001b[0;34m\u001b[0m\u001b[0;34m\u001b[0m\u001b[0m\n\u001b[1;32m     11\u001b[0m \u001b[0;34m\u001b[0m\u001b[0m\n",
      "\u001b[0;31mNameError\u001b[0m: name 'ca_ds_all' is not defined"
     ]
    }
   ],
   "source": [
    "# remove punctuation\n",
    "\n",
    "import string\n",
    "from nltk.corpus import stopwords\n",
    "\n",
    "print(string.punctuation)\n",
    "\n",
    "# remove puctuation in location\n",
    "text = ca_ds_all['joblocation_clean']\n",
    "ca_ds_all['joblocation_clean_pun']=\"\".join([char for char in text if char not in string.punctuation])\n",
    "\n",
    "def remove_stopwords(text):\n",
    "    \n",
    "    text = ca_ds_jd[\"description_clean_puc\"]\n",
    "    \n",
    "    return \" \".join([word for word in str(text).split() if word not in STOPWORDS])\n",
    "\n",
    "\n",
    "ca_ds_jd[\"description_stop_re\"] = ca_ds_jd[\"description_clean_puc\"].apply(lambda text: remove_stopwords(text))"
   ]
  },
  {
   "cell_type": "code",
   "execution_count": null,
   "metadata": {},
   "outputs": [],
   "source": [
    "!pip install nltk"
   ]
  },
  {
   "cell_type": "code",
   "execution_count": 13,
   "metadata": {},
   "outputs": [],
   "source": [
    "import nltk\n",
    "\n",
    "from nltk.stem import WordNetLemmatizer\n",
    "\n",
    "lemmatizer = nltk.stem.WordNetLemmatizer()\n",
    "\n",
    "\n",
    "ca_ds_jd[\"description_lemma\"] = ca_ds_jd[\"description_tokenized\"].apply(lambda x:[lemmatizer.lemmatize(word) for word in x])"
   ]
  },
  {
   "cell_type": "code",
   "execution_count": null,
   "metadata": {},
   "outputs": [],
   "source": [
    "conda install -c conda-forge flashtext"
   ]
  },
  {
   "cell_type": "code",
   "execution_count": null,
   "metadata": {},
   "outputs": [],
   "source": [
    "#!pip install flashtext"
   ]
  },
  {
   "cell_type": "code",
   "execution_count": 155,
   "metadata": {},
   "outputs": [
    {
     "name": "stderr",
     "output_type": "stream",
     "text": [
      "<ipython-input-155-d85300f7e29c>:30: SettingWithCopyWarning: \n",
      "A value is trying to be set on a copy of a slice from a DataFrame\n",
      "\n",
      "See the caveats in the documentation: https://pandas.pydata.org/pandas-docs/stable/user_guide/indexing.html#returning-a-view-versus-a-copy\n",
      "  ca_da_all[\"tech_skill\"][i] = keywords_found\n"
     ]
    }
   ],
   "source": [
    "# extract technical skills \n",
    "\n",
    "from flashtext import KeywordProcessor\n",
    "\n",
    "\n",
    "keyword_processor = KeywordProcessor()\n",
    "\n",
    "\n",
    "tech_skill = skill_set.iloc[:,0].to_list()\n",
    "\n",
    "\n",
    "ca_da_all[\"tech_skill\"]=''\n",
    "\n",
    "for i in tech_skill:\n",
    "    \n",
    "    if i != i:\n",
    "        pass\n",
    "    \n",
    "    else:\n",
    "        \n",
    "        keyword_processor.add_keyword(i)\n",
    "        \n",
    "keywords_found = keyword_processor.extract_keywords(ca_da_all[\"description_clean\"][0])\n",
    "\n",
    "\n",
    "for i in range(len(ca_da_all)):\n",
    "    \n",
    "    keywords_found = keyword_processor.extract_keywords(ca_da_all[\"description_clean\"][i])\n",
    "    \n",
    "    ca_da_all[\"tech_skill\"][i] = keywords_found"
   ]
  },
  {
   "cell_type": "code",
   "execution_count": null,
   "metadata": {},
   "outputs": [],
   "source": [
    "!pip install compiler"
   ]
  },
  {
   "cell_type": "code",
   "execution_count": 156,
   "metadata": {},
   "outputs": [],
   "source": [
    "# convert nested list single list \n",
    "# summarize the frequencey of each teck skills\n",
    "\n",
    "from nltk import flatten\n",
    "\n",
    "uniqueskillcount=0\n",
    "    \n",
    "tech_skill_list =[i for i in ca_da_all[\"tech_skill\"]]\n",
    "    \n",
    "tech_skill = list(flatten([q for q in tech_skill_list]))\n",
    "\n",
    "\n",
    "\n",
    "tech_skill_count={}\n",
    "\n",
    "for w in tech_skill:\n",
    "    \n",
    "    if w in tech_skill_count:\n",
    "        \n",
    "        tech_skill_count[w] += 1\n",
    "    else:\n",
    "        \n",
    "        tech_skill_count[w] = 1"
   ]
  },
  {
   "cell_type": "code",
   "execution_count": 158,
   "metadata": {},
   "outputs": [
    {
     "name": "stdout",
     "output_type": "stream",
     "text": [
      "{'SQL': 176, 'Python': 99, 'Tableau': 69, 'Power BI': 57, 'Java': 13, 'C': 34, 'MySQL': 7, 'Hive': 7, 'Scala': 4, 'PHP': 1, 'JavaScript': 10, 'Azure': 23, 'Spark': 15, 'R': 120, 'SQL Server': 13, 'Deployment': 11, 'MATLAB': 7, 'NoSQL': 7, 'Hadoop': 12, 'AWS': 11, 'XML': 3, 'SaaS': 7, 'Git': 4, 'Pytorch': 1, 'Tensorflow': 1, 'Cassandra': 1, 'GCP': 4, 'Linux': 3, 'Docker': 1, 'Kubernetes': 2, 'Kafka': 2, 'SOAP': 1, 'HDFS': 2, 'Redshift': 2, 'Mongodb': 2}\n"
     ]
    }
   ],
   "source": [
    "print(tech_skill_count)"
   ]
  },
  {
   "cell_type": "code",
   "execution_count": 157,
   "metadata": {},
   "outputs": [
    {
     "data": {
      "text/html": [
       "<div>\n",
       "<style scoped>\n",
       "    .dataframe tbody tr th:only-of-type {\n",
       "        vertical-align: middle;\n",
       "    }\n",
       "\n",
       "    .dataframe tbody tr th {\n",
       "        vertical-align: top;\n",
       "    }\n",
       "\n",
       "    .dataframe thead th {\n",
       "        text-align: right;\n",
       "    }\n",
       "</style>\n",
       "<table border=\"1\" class=\"dataframe\">\n",
       "  <thead>\n",
       "    <tr style=\"text-align: right;\">\n",
       "      <th></th>\n",
       "      <th>tech skill</th>\n",
       "      <th>count</th>\n",
       "    </tr>\n",
       "  </thead>\n",
       "  <tbody>\n",
       "    <tr>\n",
       "      <th>0</th>\n",
       "      <td>SQL</td>\n",
       "      <td>176</td>\n",
       "    </tr>\n",
       "    <tr>\n",
       "      <th>13</th>\n",
       "      <td>R</td>\n",
       "      <td>120</td>\n",
       "    </tr>\n",
       "    <tr>\n",
       "      <th>1</th>\n",
       "      <td>Python</td>\n",
       "      <td>99</td>\n",
       "    </tr>\n",
       "    <tr>\n",
       "      <th>2</th>\n",
       "      <td>Tableau</td>\n",
       "      <td>69</td>\n",
       "    </tr>\n",
       "    <tr>\n",
       "      <th>3</th>\n",
       "      <td>Power BI</td>\n",
       "      <td>57</td>\n",
       "    </tr>\n",
       "    <tr>\n",
       "      <th>5</th>\n",
       "      <td>C</td>\n",
       "      <td>34</td>\n",
       "    </tr>\n",
       "    <tr>\n",
       "      <th>11</th>\n",
       "      <td>Azure</td>\n",
       "      <td>23</td>\n",
       "    </tr>\n",
       "    <tr>\n",
       "      <th>12</th>\n",
       "      <td>Spark</td>\n",
       "      <td>15</td>\n",
       "    </tr>\n",
       "    <tr>\n",
       "      <th>4</th>\n",
       "      <td>Java</td>\n",
       "      <td>13</td>\n",
       "    </tr>\n",
       "    <tr>\n",
       "      <th>14</th>\n",
       "      <td>SQL Server</td>\n",
       "      <td>13</td>\n",
       "    </tr>\n",
       "    <tr>\n",
       "      <th>18</th>\n",
       "      <td>Hadoop</td>\n",
       "      <td>12</td>\n",
       "    </tr>\n",
       "    <tr>\n",
       "      <th>19</th>\n",
       "      <td>AWS</td>\n",
       "      <td>11</td>\n",
       "    </tr>\n",
       "    <tr>\n",
       "      <th>15</th>\n",
       "      <td>Deployment</td>\n",
       "      <td>11</td>\n",
       "    </tr>\n",
       "    <tr>\n",
       "      <th>10</th>\n",
       "      <td>JavaScript</td>\n",
       "      <td>10</td>\n",
       "    </tr>\n",
       "    <tr>\n",
       "      <th>16</th>\n",
       "      <td>MATLAB</td>\n",
       "      <td>7</td>\n",
       "    </tr>\n",
       "    <tr>\n",
       "      <th>21</th>\n",
       "      <td>SaaS</td>\n",
       "      <td>7</td>\n",
       "    </tr>\n",
       "    <tr>\n",
       "      <th>17</th>\n",
       "      <td>NoSQL</td>\n",
       "      <td>7</td>\n",
       "    </tr>\n",
       "    <tr>\n",
       "      <th>7</th>\n",
       "      <td>Hive</td>\n",
       "      <td>7</td>\n",
       "    </tr>\n",
       "    <tr>\n",
       "      <th>6</th>\n",
       "      <td>MySQL</td>\n",
       "      <td>7</td>\n",
       "    </tr>\n",
       "    <tr>\n",
       "      <th>26</th>\n",
       "      <td>GCP</td>\n",
       "      <td>4</td>\n",
       "    </tr>\n",
       "    <tr>\n",
       "      <th>22</th>\n",
       "      <td>Git</td>\n",
       "      <td>4</td>\n",
       "    </tr>\n",
       "    <tr>\n",
       "      <th>8</th>\n",
       "      <td>Scala</td>\n",
       "      <td>4</td>\n",
       "    </tr>\n",
       "    <tr>\n",
       "      <th>20</th>\n",
       "      <td>XML</td>\n",
       "      <td>3</td>\n",
       "    </tr>\n",
       "    <tr>\n",
       "      <th>27</th>\n",
       "      <td>Linux</td>\n",
       "      <td>3</td>\n",
       "    </tr>\n",
       "    <tr>\n",
       "      <th>29</th>\n",
       "      <td>Kubernetes</td>\n",
       "      <td>2</td>\n",
       "    </tr>\n",
       "    <tr>\n",
       "      <th>33</th>\n",
       "      <td>Redshift</td>\n",
       "      <td>2</td>\n",
       "    </tr>\n",
       "    <tr>\n",
       "      <th>32</th>\n",
       "      <td>HDFS</td>\n",
       "      <td>2</td>\n",
       "    </tr>\n",
       "    <tr>\n",
       "      <th>30</th>\n",
       "      <td>Kafka</td>\n",
       "      <td>2</td>\n",
       "    </tr>\n",
       "    <tr>\n",
       "      <th>34</th>\n",
       "      <td>Mongodb</td>\n",
       "      <td>2</td>\n",
       "    </tr>\n",
       "    <tr>\n",
       "      <th>28</th>\n",
       "      <td>Docker</td>\n",
       "      <td>1</td>\n",
       "    </tr>\n",
       "    <tr>\n",
       "      <th>25</th>\n",
       "      <td>Cassandra</td>\n",
       "      <td>1</td>\n",
       "    </tr>\n",
       "    <tr>\n",
       "      <th>31</th>\n",
       "      <td>SOAP</td>\n",
       "      <td>1</td>\n",
       "    </tr>\n",
       "    <tr>\n",
       "      <th>24</th>\n",
       "      <td>Tensorflow</td>\n",
       "      <td>1</td>\n",
       "    </tr>\n",
       "    <tr>\n",
       "      <th>23</th>\n",
       "      <td>Pytorch</td>\n",
       "      <td>1</td>\n",
       "    </tr>\n",
       "    <tr>\n",
       "      <th>9</th>\n",
       "      <td>PHP</td>\n",
       "      <td>1</td>\n",
       "    </tr>\n",
       "  </tbody>\n",
       "</table>\n",
       "</div>"
      ],
      "text/plain": [
       "    tech skill  count\n",
       "0          SQL    176\n",
       "13           R    120\n",
       "1       Python     99\n",
       "2      Tableau     69\n",
       "3     Power BI     57\n",
       "5            C     34\n",
       "11       Azure     23\n",
       "12       Spark     15\n",
       "4         Java     13\n",
       "14  SQL Server     13\n",
       "18      Hadoop     12\n",
       "19         AWS     11\n",
       "15  Deployment     11\n",
       "10  JavaScript     10\n",
       "16      MATLAB      7\n",
       "21        SaaS      7\n",
       "17       NoSQL      7\n",
       "7         Hive      7\n",
       "6        MySQL      7\n",
       "26         GCP      4\n",
       "22         Git      4\n",
       "8        Scala      4\n",
       "20         XML      3\n",
       "27       Linux      3\n",
       "29  Kubernetes      2\n",
       "33    Redshift      2\n",
       "32        HDFS      2\n",
       "30       Kafka      2\n",
       "34     Mongodb      2\n",
       "28      Docker      1\n",
       "25   Cassandra      1\n",
       "31        SOAP      1\n",
       "24  Tensorflow      1\n",
       "23     Pytorch      1\n",
       "9          PHP      1"
      ]
     },
     "execution_count": 157,
     "metadata": {},
     "output_type": "execute_result"
    }
   ],
   "source": [
    "# convert dictionary soft skill list to dataframe type\n",
    "\n",
    "\n",
    "skill_items = list(tech_skill_count.items())\n",
    "\n",
    "skill_list = pd.DataFrame(skill_items)\n",
    "\n",
    "skill_list= skill_list.rename(columns={0:\"tech skill\",1:\"count\"}).reset_index().sort_values(by=\"count\",ascending=False)\n",
    "\n",
    "\n",
    "skill_list.drop(columns=\"index\")"
   ]
  },
  {
   "cell_type": "code",
   "execution_count": 159,
   "metadata": {},
   "outputs": [
    {
     "data": {
      "text/plain": [
       "<matplotlib.axes._subplots.AxesSubplot at 0x7fea7b3af550>"
      ]
     },
     "execution_count": 159,
     "metadata": {},
     "output_type": "execute_result"
    },
    {
     "data": {
      "image/png": "[encoded data removed]",
      "text/plain": [
       "<Figure size 1008x648 with 1 Axes>"
      ]
     },
     "metadata": {
      "needs_background": "light"
     },
     "output_type": "display_data"
    }
   ],
   "source": [
    "skill_list.plot.bar(x=\"tech skill\", y=\"count\", figsize=(14,9), rot=45)"
   ]
  },
  {
   "cell_type": "code",
   "execution_count": 160,
   "metadata": {},
   "outputs": [
    {
     "name": "stderr",
     "output_type": "stream",
     "text": [
      "<ipython-input-160-1ca4d58a0a42>:31: SettingWithCopyWarning: \n",
      "A value is trying to be set on a copy of a slice from a DataFrame\n",
      "\n",
      "See the caveats in the documentation: https://pandas.pydata.org/pandas-docs/stable/user_guide/indexing.html#returning-a-view-versus-a-copy\n",
      "  ca_da_all['soft_skill'][i]=keywords_found\n"
     ]
    }
   ],
   "source": [
    "# extract soft skills\n",
    "\n",
    "\n",
    "from flashtext import KeywordProcessor\n",
    "\n",
    "keyword_processor = KeywordProcessor()\n",
    "\n",
    "soft_skill = skill_set.iloc[:,1].to_list()\n",
    "\n",
    "# keyword_processor.add_keyword(keyword_names)\n",
    "\n",
    "\n",
    "ca_da_all['soft_skill']=''\n",
    "\n",
    "for i  in soft_skill:\n",
    "    \n",
    "    if i != i:\n",
    "        \n",
    "        pass \n",
    "    \n",
    "    else:\n",
    "         \n",
    "        keyword_processor.add_keyword(i)\n",
    "    \n",
    "keywords_found = keyword_processor.extract_keywords(ca_da_all[\"description_clean\"][0])\n",
    "\n",
    "for i in range(len(ca_da_all)):\n",
    "    \n",
    "    keywords_found = keyword_processor.extract_keywords(ca_da_all[\"description_clean\"][i])\n",
    "    \n",
    "    ca_da_all['soft_skill'][i]=keywords_found\n",
    "    "
   ]
  },
  {
   "cell_type": "code",
   "execution_count": 161,
   "metadata": {},
   "outputs": [],
   "source": [
    "from nltk import flatten\n",
    "\n",
    "#def count_soft_skill(x):\n",
    "    \n",
    "uniqueskillcount=0\n",
    "    \n",
    "soft_skill_list =[i for i in ca_da_all[\"soft_skill\"]]\n",
    "    \n",
    "soft_skill = list(flatten([q for q in soft_skill_list]))\n",
    "\n",
    "\n",
    "\n",
    "soft_skill_count={}\n",
    "\n",
    "for w in soft_skill:\n",
    "    \n",
    "    if w in soft_skill_count:\n",
    "        \n",
    "        soft_skill_count[w] += 1\n",
    "    else:\n",
    "        \n",
    "        soft_skill_count[w] = 1"
   ]
  },
  {
   "cell_type": "code",
   "execution_count": 162,
   "metadata": {},
   "outputs": [
    {
     "data": {
      "text/html": [
       "<div>\n",
       "<style scoped>\n",
       "    .dataframe tbody tr th:only-of-type {\n",
       "        vertical-align: middle;\n",
       "    }\n",
       "\n",
       "    .dataframe tbody tr th {\n",
       "        vertical-align: top;\n",
       "    }\n",
       "\n",
       "    .dataframe thead th {\n",
       "        text-align: right;\n",
       "    }\n",
       "</style>\n",
       "<table border=\"1\" class=\"dataframe\">\n",
       "  <thead>\n",
       "    <tr style=\"text-align: right;\">\n",
       "      <th></th>\n",
       "      <th>soft skill</th>\n",
       "      <th>count</th>\n",
       "    </tr>\n",
       "  </thead>\n",
       "  <tbody>\n",
       "    <tr>\n",
       "      <th>1</th>\n",
       "      <td>Communication skills</td>\n",
       "      <td>93</td>\n",
       "    </tr>\n",
       "    <tr>\n",
       "      <th>4</th>\n",
       "      <td>Communication</td>\n",
       "      <td>82</td>\n",
       "    </tr>\n",
       "    <tr>\n",
       "      <th>6</th>\n",
       "      <td>Problem Solving</td>\n",
       "      <td>64</td>\n",
       "    </tr>\n",
       "    <tr>\n",
       "      <th>2</th>\n",
       "      <td>Leadership</td>\n",
       "      <td>61</td>\n",
       "    </tr>\n",
       "    <tr>\n",
       "      <th>14</th>\n",
       "      <td>Collaboration</td>\n",
       "      <td>52</td>\n",
       "    </tr>\n",
       "    <tr>\n",
       "      <th>8</th>\n",
       "      <td>Interpersonal Skills</td>\n",
       "      <td>22</td>\n",
       "    </tr>\n",
       "    <tr>\n",
       "      <th>0</th>\n",
       "      <td>Time Management</td>\n",
       "      <td>21</td>\n",
       "    </tr>\n",
       "    <tr>\n",
       "      <th>5</th>\n",
       "      <td>Critical Thinking</td>\n",
       "      <td>19</td>\n",
       "    </tr>\n",
       "    <tr>\n",
       "      <th>7</th>\n",
       "      <td>Team Player</td>\n",
       "      <td>19</td>\n",
       "    </tr>\n",
       "    <tr>\n",
       "      <th>9</th>\n",
       "      <td>Ownership</td>\n",
       "      <td>15</td>\n",
       "    </tr>\n",
       "    <tr>\n",
       "      <th>17</th>\n",
       "      <td>Troubleshooting</td>\n",
       "      <td>13</td>\n",
       "    </tr>\n",
       "    <tr>\n",
       "      <th>11</th>\n",
       "      <td>Curiosity</td>\n",
       "      <td>12</td>\n",
       "    </tr>\n",
       "    <tr>\n",
       "      <th>12</th>\n",
       "      <td>Business Acumen</td>\n",
       "      <td>8</td>\n",
       "    </tr>\n",
       "    <tr>\n",
       "      <th>3</th>\n",
       "      <td>Continuous learning</td>\n",
       "      <td>8</td>\n",
       "    </tr>\n",
       "    <tr>\n",
       "      <th>15</th>\n",
       "      <td>Collaboration skills</td>\n",
       "      <td>5</td>\n",
       "    </tr>\n",
       "    <tr>\n",
       "      <th>18</th>\n",
       "      <td>Storytelling</td>\n",
       "      <td>5</td>\n",
       "    </tr>\n",
       "    <tr>\n",
       "      <th>13</th>\n",
       "      <td>Domain Knowledge</td>\n",
       "      <td>3</td>\n",
       "    </tr>\n",
       "    <tr>\n",
       "      <th>16</th>\n",
       "      <td>Work Ethic</td>\n",
       "      <td>3</td>\n",
       "    </tr>\n",
       "    <tr>\n",
       "      <th>20</th>\n",
       "      <td>Adaptability</td>\n",
       "      <td>3</td>\n",
       "    </tr>\n",
       "    <tr>\n",
       "      <th>10</th>\n",
       "      <td>Detail Orientation</td>\n",
       "      <td>2</td>\n",
       "    </tr>\n",
       "    <tr>\n",
       "      <th>19</th>\n",
       "      <td>Empathy</td>\n",
       "      <td>1</td>\n",
       "    </tr>\n",
       "    <tr>\n",
       "      <th>21</th>\n",
       "      <td>Thirst for Learning</td>\n",
       "      <td>1</td>\n",
       "    </tr>\n",
       "    <tr>\n",
       "      <th>22</th>\n",
       "      <td>Team Work</td>\n",
       "      <td>1</td>\n",
       "    </tr>\n",
       "    <tr>\n",
       "      <th>23</th>\n",
       "      <td>Logical Reasoning</td>\n",
       "      <td>1</td>\n",
       "    </tr>\n",
       "  </tbody>\n",
       "</table>\n",
       "</div>"
      ],
      "text/plain": [
       "              soft skill  count\n",
       "1   Communication skills     93\n",
       "4          Communication     82\n",
       "6        Problem Solving     64\n",
       "2             Leadership     61\n",
       "14         Collaboration     52\n",
       "8   Interpersonal Skills     22\n",
       "0        Time Management     21\n",
       "5      Critical Thinking     19\n",
       "7            Team Player     19\n",
       "9              Ownership     15\n",
       "17       Troubleshooting     13\n",
       "11             Curiosity     12\n",
       "12       Business Acumen      8\n",
       "3    Continuous learning      8\n",
       "15  Collaboration skills      5\n",
       "18          Storytelling      5\n",
       "13      Domain Knowledge      3\n",
       "16            Work Ethic      3\n",
       "20          Adaptability      3\n",
       "10    Detail Orientation      2\n",
       "19               Empathy      1\n",
       "21   Thirst for Learning      1\n",
       "22             Team Work      1\n",
       "23     Logical Reasoning      1"
      ]
     },
     "execution_count": 162,
     "metadata": {},
     "output_type": "execute_result"
    }
   ],
   "source": [
    "# convert dictionary soft skill list to dataframe type\n",
    "\n",
    "\n",
    "skill_items = list(soft_skill_count.items())\n",
    "\n",
    "skill_list = pd.DataFrame(skill_items)\n",
    "\n",
    "skill_list= skill_list.rename(columns={0:\"soft skill\",1:\"count\"}).reset_index().sort_values(by=\"count\", ascending=False)\n",
    "\n",
    "\n",
    "skill_list.drop(columns=\"index\")"
   ]
  },
  {
   "cell_type": "code",
   "execution_count": 163,
   "metadata": {},
   "outputs": [
    {
     "data": {
      "text/plain": [
       "<matplotlib.axes._subplots.AxesSubplot at 0x7fea7b4c2df0>"
      ]
     },
     "execution_count": 163,
     "metadata": {},
     "output_type": "execute_result"
    },
    {
     "data": {
      "image/png": "[encoded data removed]",
      "text/plain": [
       "<Figure size 864x576 with 1 Axes>"
      ]
     },
     "metadata": {
      "needs_background": "light"
     },
     "output_type": "display_data"
    }
   ],
   "source": [
    "skill_list.plot.bar(x=\"soft skill\", y=\"count\", figsize=(12,8), rot=45)"
   ]
  },
  {
   "cell_type": "code",
   "execution_count": 200,
   "metadata": {
    "scrolled": true
   },
   "outputs": [
    {
     "name": "stderr",
     "output_type": "stream",
     "text": [
      "<ipython-input-200-7ebc726417df>:33: SettingWithCopyWarning: \n",
      "A value is trying to be set on a copy of a slice from a DataFrame\n",
      "\n",
      "See the caveats in the documentation: https://pandas.pydata.org/pandas-docs/stable/user_guide/indexing.html#returning-a-view-versus-a-copy\n",
      "  ca_da_all['education'][i]=keywords_found\n"
     ]
    }
   ],
   "source": [
    "# extract degree info and create a new column\n",
    "\n",
    "from flashtext import KeywordProcessor\n",
    "\n",
    "keyword_processor = KeywordProcessor()\n",
    "\n",
    "EDUCATION = [\n",
    "            'BE','B.E.', 'B.E', 'BS', 'B.S','C.A.','c.a.','B.Com','B. Com','M. Com', 'M.Com','M. Com .',\n",
    "            'ME', 'M.E', 'M.E.', 'MS', 'M.S','msc',\n",
    "            'BTECH', 'B.TECH', 'M.TECH', 'MTECH',\n",
    "            'PHD', 'phd', 'ph.d', 'Ph.D.','MBA','mba','graduate', 'post-graduate','5 year integrated masters','masters',\n",
    "            'SSC', 'HSC', 'CBSE', 'ICSE', 'X', 'XII'\n",
    "        ]\n",
    "\n",
    "ca_da_all[\"education\"]=''\n",
    "\n",
    "for i in EDUCATION:\n",
    "    \n",
    "    if i != i:\n",
    "        \n",
    "        pass\n",
    "    \n",
    "    else:\n",
    "        \n",
    "        keyword_processor.add_keyword(i)\n",
    "        \n",
    "#keywords_found = keyword_processor.extract_keywords(ca_ds_jd[\"description_clean\"][0])\n",
    "\n",
    "for i in range(len(ca_da_all)):\n",
    "    \n",
    "    keywords_found = keyword_processor.extract_keywords(ca_da_all[\"description_clean\"][i])\n",
    "\n",
    "    ca_da_all['education'][i]=keywords_found\n",
    "    "
   ]
  },
  {
   "cell_type": "code",
   "execution_count": 201,
   "metadata": {},
   "outputs": [],
   "source": [
    "# remove duplicate degree information in each position and remove \"set()\"\n",
    "\n",
    "\n",
    "education_result=[]\n",
    "\n",
    "for i in range(len(ca_da_all[\"education\"])):\n",
    "    \n",
    "    \n",
    "      item = set(ca_da_all[\"education\"][i])\n",
    "        \n",
    "      for char in item:\n",
    "    \n",
    "            if item != \"set()\":\n",
    "      \n",
    "               education_result.append(item)"
   ]
  },
  {
   "cell_type": "code",
   "execution_count": 202,
   "metadata": {},
   "outputs": [],
   "source": [
    "# remove the outer list and count the numbers of different degrees \n",
    "#and save to a dictionary\n",
    "\n",
    "\n",
    "degree_count = {}\n",
    "\n",
    "for w in education_result:\n",
    "    \n",
    "    for char in w:\n",
    "    \n",
    "        if char in degree_count:\n",
    "        \n",
    "             degree_count[char] += 1\n",
    "        \n",
    "        else:\n",
    "        \n",
    "              degree_count[char] = 1"
   ]
  },
  {
   "cell_type": "code",
   "execution_count": 126,
   "metadata": {},
   "outputs": [
    {
     "data": {
      "text/plain": [
       "{'graduate': 23,\n",
       " 'BE': 224,\n",
       " 'MS': 68,\n",
       " 'ME': 21,\n",
       " 'X': 8,\n",
       " 'mba': 5,\n",
       " 'masters': 5,\n",
       " 'BS': 8}"
      ]
     },
     "execution_count": 126,
     "metadata": {},
     "output_type": "execute_result"
    }
   ],
   "source": [
    "degree_count"
   ]
  },
  {
   "cell_type": "code",
   "execution_count": 203,
   "metadata": {},
   "outputs": [
    {
     "data": {
      "text/html": [
       "<div>\n",
       "<style scoped>\n",
       "    .dataframe tbody tr th:only-of-type {\n",
       "        vertical-align: middle;\n",
       "    }\n",
       "\n",
       "    .dataframe tbody tr th {\n",
       "        vertical-align: top;\n",
       "    }\n",
       "\n",
       "    .dataframe thead th {\n",
       "        text-align: right;\n",
       "    }\n",
       "</style>\n",
       "<table border=\"1\" class=\"dataframe\">\n",
       "  <thead>\n",
       "    <tr style=\"text-align: right;\">\n",
       "      <th></th>\n",
       "      <th>degree</th>\n",
       "      <th>count</th>\n",
       "    </tr>\n",
       "  </thead>\n",
       "  <tbody>\n",
       "    <tr>\n",
       "      <th>2</th>\n",
       "      <td>BE</td>\n",
       "      <td>224</td>\n",
       "    </tr>\n",
       "    <tr>\n",
       "      <th>0</th>\n",
       "      <td>MS</td>\n",
       "      <td>68</td>\n",
       "    </tr>\n",
       "    <tr>\n",
       "      <th>1</th>\n",
       "      <td>graduate</td>\n",
       "      <td>23</td>\n",
       "    </tr>\n",
       "    <tr>\n",
       "      <th>3</th>\n",
       "      <td>ME</td>\n",
       "      <td>21</td>\n",
       "    </tr>\n",
       "    <tr>\n",
       "      <th>4</th>\n",
       "      <td>X</td>\n",
       "      <td>8</td>\n",
       "    </tr>\n",
       "    <tr>\n",
       "      <th>7</th>\n",
       "      <td>BS</td>\n",
       "      <td>8</td>\n",
       "    </tr>\n",
       "    <tr>\n",
       "      <th>5</th>\n",
       "      <td>mba</td>\n",
       "      <td>5</td>\n",
       "    </tr>\n",
       "    <tr>\n",
       "      <th>6</th>\n",
       "      <td>masters</td>\n",
       "      <td>5</td>\n",
       "    </tr>\n",
       "  </tbody>\n",
       "</table>\n",
       "</div>"
      ],
      "text/plain": [
       "     degree  count\n",
       "2        BE    224\n",
       "0        MS     68\n",
       "1  graduate     23\n",
       "3        ME     21\n",
       "4         X      8\n",
       "7        BS      8\n",
       "5       mba      5\n",
       "6   masters      5"
      ]
     },
     "execution_count": 203,
     "metadata": {},
     "output_type": "execute_result"
    }
   ],
   "source": [
    "# convert dictionary degreelist to dataframe type\n",
    "\n",
    "\n",
    "degree_items = list(degree_count.items())\n",
    "\n",
    "ca_da_degree_list = pd.DataFrame(degree_items)\n",
    "\n",
    "ca_da_degree_list= ca_da_degree_list.rename(columns={0:\"degree\",1:\"count\"}).reset_index().sort_values(by=\"count\", ascending=False)\n",
    "\n",
    "\n",
    "ca_da_degree_list.drop(columns=\"index\")"
   ]
  },
  {
   "cell_type": "code",
   "execution_count": 208,
   "metadata": {},
   "outputs": [
    {
     "data": {
      "text/plain": [
       "<matplotlib.axes._subplots.AxesSubplot at 0x7f842224af10>"
      ]
     },
     "execution_count": 208,
     "metadata": {},
     "output_type": "execute_result"
    },
    {
     "data": {
      "image/png": "[encoded data removed]",
      "text/plain": [
       "<Figure size 864x576 with 1 Axes>"
      ]
     },
     "metadata": {},
     "output_type": "display_data"
    }
   ],
   "source": [
    "# plot the degree count \n",
    "plt.style.use('dark_background')\n",
    "ca_da_degree_list.plot.bar(x=\"degree\", y=\"count\", figsize=(12,8), rot=45,title=\"ca_da_degree_list\" )"
   ]
  },
  {
   "cell_type": "code",
   "execution_count": null,
   "metadata": {},
   "outputs": [],
   "source": []
  },
  {
   "cell_type": "code",
   "execution_count": 74,
   "metadata": {},
   "outputs": [
    {
     "name": "stderr",
     "output_type": "stream",
     "text": [
      "<ipython-input-74-d915e5d3ff07>:33: SettingWithCopyWarning: \n",
      "A value is trying to be set on a copy of a slice from a DataFrame\n",
      "\n",
      "See the caveats in the documentation: https://pandas.pydata.org/pandas-docs/stable/user_guide/indexing.html#returning-a-view-versus-a-copy\n",
      "  ca_da_all['major'][i] = keyword_found\n"
     ]
    }
   ],
   "source": [
    "# major distribution\n",
    "\n",
    "from flashtext import KeywordProcessor\n",
    "\n",
    "keyword_processor = KeywordProcessor()\n",
    "\n",
    "major = [\"computer science\", \"statistics\", \"mathematics\", \"physics\", \"electrical engineering\", \"economics\",\"computer engineering\",\n",
    "        \"information systems\",\"business\", \"management science\", \"mechanical engineering\", \"chemistry\", \"finance\", \"biology\",\"psychology\",\"Engineering\",\n",
    "        \"information technology\",\"industrial engineering\",\"biomedical engineering\",\"chemical engineering\"]\n",
    "\n",
    "\n",
    "\n",
    "ca_da_all[\"major\"] = ''\n",
    "\n",
    "for i in major:\n",
    "    \n",
    "    if i !=i:\n",
    "        \n",
    "        pass\n",
    "    \n",
    "    else:\n",
    "        \n",
    "        keyword_processor.add_keyword(i)\n",
    "        \n",
    "\n",
    "        \n",
    "for i  in range(len(ca_da_all[\"description_clean\"])):\n",
    "    \n",
    "    \n",
    "    keyword_found = keyword_processor.extract_keywords(ca_da_all[\"description_clean\"][i])\n",
    "    \n",
    "    \n",
    "    ca_da_all['major'][i] = keyword_found"
   ]
  },
  {
   "cell_type": "code",
   "execution_count": 75,
   "metadata": {},
   "outputs": [],
   "source": [
    "# remove duplicate major information in each position and remove \"set()\"\n",
    "\n",
    "\n",
    "major_result=[]\n",
    "\n",
    "for i in range(len(ca_da_all[\"major\"])):\n",
    "    \n",
    "    \n",
    "    item = set(ca_da_all[\"major\"][i])\n",
    "        \n",
    "    for char in item:\n",
    "    \n",
    "            if item != \"set()\":\n",
    "      \n",
    "               major_result.append(item)"
   ]
  },
  {
   "cell_type": "code",
   "execution_count": 76,
   "metadata": {},
   "outputs": [],
   "source": [
    "# remove the outer list and count the numbers of different degrees \n",
    "#and save to a dictionary\n",
    "\n",
    "\n",
    "major_count = {}\n",
    "\n",
    "for w in major_result:\n",
    "    \n",
    "    for char in w:\n",
    "    \n",
    "        if char in major_count:\n",
    "        \n",
    "             major_count[char] += 1\n",
    "        \n",
    "        else:\n",
    "        \n",
    "              major_count[char] = 1"
   ]
  },
  {
   "cell_type": "code",
   "execution_count": 25,
   "metadata": {},
   "outputs": [
    {
     "data": {
      "text/plain": [
       "{'computer science': 575,\n",
       " 'statistics': 531,\n",
       " 'Engineering': 570,\n",
       " 'information technology': 41,\n",
       " 'business': 648,\n",
       " 'mathematics': 421,\n",
       " 'physics': 156,\n",
       " 'finance': 66,\n",
       " 'industrial engineering': 8,\n",
       " 'information systems': 29,\n",
       " 'economics': 147,\n",
       " 'computer engineering': 37,\n",
       " 'biology': 16,\n",
       " 'psychology': 14,\n",
       " 'chemistry': 10,\n",
       " 'chemical engineering': 10,\n",
       " 'electrical engineering': 4}"
      ]
     },
     "execution_count": 25,
     "metadata": {},
     "output_type": "execute_result"
    }
   ],
   "source": [
    "major_count"
   ]
  },
  {
   "cell_type": "code",
   "execution_count": 81,
   "metadata": {},
   "outputs": [
    {
     "data": {
      "text/plain": [
       "<matplotlib.axes._subplots.AxesSubplot at 0x7fd6f2bd4880>"
      ]
     },
     "execution_count": 81,
     "metadata": {},
     "output_type": "execute_result"
    },
    {
     "data": {
      "image/png": "[encoded data removed]",
      "text/plain": [
       "<Figure size 864x576 with 1 Axes>"
      ]
     },
     "metadata": {},
     "output_type": "display_data"
    }
   ],
   "source": [
    "# conver major count dictionary to datarame\n",
    "\n",
    "major_items = list(major_count.items())\n",
    "\n",
    "major_list = pd.DataFrame(major_items)\n",
    "\n",
    "\n",
    "ca_da_major_list= major_list.rename(columns={0:\"ca_ds_major\",1:\"count\"}).reset_index().sort_values(by=\"count\",ascending=False)\n",
    "\n",
    "\n",
    "ca_da_major_list=ca_da_major_list.drop(columns=\"index\")\n",
    "plt.style.use('dark_background')\n",
    "ca_da_major_list.plot.bar(x=\"ca_ds_major\",y=\"count\",figsize=(12,8),rot=30,color='green',title=\"ca_da_major\")"
   ]
  },
  {
   "cell_type": "markdown",
   "metadata": {},
   "source": [
    "## Extracting Experience of Years-Method One"
   ]
  },
  {
   "cell_type": "code",
   "execution_count": 104,
   "metadata": {},
   "outputs": [],
   "source": [
    "tech_skills = skill_set.iloc[:,0].to_list()\n",
    "soft_skills = skill_set.iloc[:,1].to_list()"
   ]
  },
  {
   "cell_type": "code",
   "execution_count": 28,
   "metadata": {},
   "outputs": [],
   "source": [
    "# alternative method of extracting years of experience--worked!!!\n",
    "# Function one\n",
    "import re\n",
    "from collections import defaultdict\n",
    "\n",
    "\n",
    "def extract_skills_experience(job_descriptions):\n",
    "    \n",
    "    tech_skill = list(flatten([q for q in tech_skill_list]))\n",
    "    soft_skill = list(flatten([q for q in soft_skill_list]))\n",
    "    \n",
    "    \n",
    "    skills_experience = defaultdict(list)\n",
    "    \n",
    "    pattern = r\"(\\d+(?:\\.\\d+)?)\\s*(?:year|yrs?)\\s*(?:of\\s*)?[\\w\\s]*?(?:experience|exp|exp\\.)?.*?([a-zA-Z\\s]+)\"\n",
    "    \n",
    "    for description in job_descriptions:\n",
    "        \n",
    "        matches = re.findall(pattern, description, re.IGNORECASE)\n",
    "        \n",
    "             \n",
    "        for match in matches:\n",
    "            \n",
    "            experience, skills = match\n",
    "            \n",
    "            for skill in skills.split():\n",
    "                 #convert the skill name to lowercase to ensure consistency\n",
    "                \n",
    "                if skill in tech_skill:\n",
    "                \n",
    "                    skill = skill.lower()\n",
    "                \n",
    "                    skills_experience[skill].append(float(experience))\n",
    "                \n",
    "                elif skill in soft_skill:\n",
    "                  \n",
    "                    \n",
    "                    skill = skill.lower()\n",
    "                \n",
    "                    skills_experience[skill].append(float(experience))\n",
    "                    \n",
    "                else:\n",
    "                    \n",
    "                    pass\n",
    "                \n",
    "    return dict(skills_experience)"
   ]
  },
  {
   "cell_type": "code",
   "execution_count": 29,
   "metadata": {},
   "outputs": [],
   "source": [
    "## function two\n",
    "\n",
    "def extract_skills_experience(job_descriptions, tech_skills, soft_skills):\n",
    "    \n",
    "    skills_experience = defaultdict(list)\n",
    "    \n",
    "    pattern = r\"(\\d+(?:\\.\\d+)?(?:\\+)?(?:\\-)?\\d*)\\s*(?:year|yrs?)[s]?\\s*(?:of\\s*)?[\\w\\s]*?(?:Experience|experience|exp|exp\\.)?.*?([a-zA-Z\\s\\,]+)\"\n",
    "    for description in job_descriptions:\n",
    "        matches = re.findall(pattern, description, re.IGNORECASE)\n",
    "        for match in matches:\n",
    "            experience, skills = match\n",
    "            for skill in re.split(r'[\\s,]+', skills.lower()):\n",
    "                if skill in tech_skills:\n",
    "                    skills_experience[skill].append(float(experience))\n",
    "                elif skill in soft_skills:\n",
    "                    skills_experience[skill].append(float(experience))\n",
    "                else:\n",
    "                    pass\n",
    "                \n",
    "    return dict(skills_experience) "
   ]
  },
  {
   "cell_type": "code",
   "execution_count": 30,
   "metadata": {},
   "outputs": [
    {
     "ename": "NameError",
     "evalue": "name 'tech_skills' is not defined",
     "output_type": "error",
     "traceback": [
      "\u001b[0;31m---------------------------------------------------------------------------\u001b[0m",
      "\u001b[0;31mNameError\u001b[0m                                 Traceback (most recent call last)",
      "\u001b[0;32m<ipython-input-30-909c5749f20c>\u001b[0m in \u001b[0;36m<module>\u001b[0;34m\u001b[0m\n\u001b[1;32m     10\u001b[0m \u001b[0;31m#job_descriptions_new\u001b[0m\u001b[0;34m\u001b[0m\u001b[0;34m\u001b[0m\u001b[0;34m\u001b[0m\u001b[0m\n\u001b[1;32m     11\u001b[0m \u001b[0;34m\u001b[0m\u001b[0m\n\u001b[0;32m---> 12\u001b[0;31m \u001b[0mskills_experience\u001b[0m \u001b[0;34m=\u001b[0m \u001b[0mextract_skills_experience\u001b[0m\u001b[0;34m(\u001b[0m\u001b[0mjob_descriptions\u001b[0m\u001b[0;34m,\u001b[0m \u001b[0mtech_skills\u001b[0m\u001b[0;34m,\u001b[0m \u001b[0msoft_skills\u001b[0m\u001b[0;34m)\u001b[0m\u001b[0;34m\u001b[0m\u001b[0;34m\u001b[0m\u001b[0m\n\u001b[0m\u001b[1;32m     13\u001b[0m \u001b[0mprint\u001b[0m\u001b[0;34m(\u001b[0m\u001b[0mskills_experience\u001b[0m\u001b[0;34m)\u001b[0m\u001b[0;34m\u001b[0m\u001b[0;34m\u001b[0m\u001b[0m\n",
      "\u001b[0;31mNameError\u001b[0m: name 'tech_skills' is not defined"
     ]
    }
   ],
   "source": [
    "job_descriptions = [\n",
    "    \"7 years of experience with Python and R, 3.5 years of experience with Tableau\",\n",
    "    \"5 yrs of exp in R and python, 2 years of experience with SQL\",\n",
    "    \"Experience: Python, R, SQL - 5 yrs\",\n",
    "    \"3 years of exp. with PYTHON\"\n",
    "]\n",
    "\n",
    "\n",
    "#job_descriptions_new = [i.lower().strip() for i in job_descriptions]\n",
    "#job_descriptions_new \n",
    "\n",
    "skills_experience = extract_skills_experience(job_descriptions, tech_skills, soft_skills)\n",
    "print(skills_experience)\n"
   ]
  },
  {
   "cell_type": "code",
   "execution_count": 31,
   "metadata": {},
   "outputs": [
    {
     "data": {
      "text/plain": [
       "str"
      ]
     },
     "execution_count": 31,
     "metadata": {},
     "output_type": "execute_result"
    }
   ],
   "source": [
    "job_descriptions = \"7 years of experience with Python and R, 3.5 years of experience with Tableau,5 yrs of exp in R and python, 2 years of experience with SQL,3 years of exp. with PYTHON.\"\n",
    "\n",
    "type(job_descriptions)"
   ]
  },
  {
   "cell_type": "markdown",
   "metadata": {},
   "source": [
    "## Extract remote positions\n"
   ]
  },
  {
   "cell_type": "code",
   "execution_count": 61,
   "metadata": {},
   "outputs": [],
   "source": [
    "from nltk import word_tokenize\n",
    "#text = \"\"\"Unlike India, A winter weather advisory remains in effect line from Blue Earth, to Red Wing line in Minnesota,BC,\n",
    "#Alberta,California,Washington,Seattle,Los Angeles,San Francisco.\"\"\"\n",
    "\n",
    "text_1=''.join(str(e) for e in ca_ds_jd['description_clean'][:-1])\n",
    "\n",
    "# pos_tagging, word_tokenize, name entity recognition\n",
    "    \n",
    "tokenized_doc  = word_tokenize(text_1)\n",
    "\n",
    "if not isinstance(text_1, str):\n",
    "    \n",
    "    raise TypeError(\"expected string or bytes-like object\")\n",
    "\n",
    "tagged_sentences = nltk.pos_tag(tokenized_doc)\n",
    "\n",
    "NE= nltk.ne_chunk(tagged_sentences)\n",
    "#NE.draw()\n"
   ]
  },
  {
   "cell_type": "code",
   "execution_count": 60,
   "metadata": {},
   "outputs": [],
   "source": [
    "# extract named entity\n",
    "\n",
    "#def extract_locations(x):\n",
    "    \n",
    "named_entities = []\n",
    "\n",
    "for tagged_tree in NE:\n",
    "    \n",
    "       #print(tagged_tree)\n",
    "        \n",
    "       if hasattr(tagged_tree, 'label'):\n",
    "    \n",
    "          entity_name = ' '.join(c[0] for c in tagged_tree.leaves()) \n",
    "        \n",
    "          entity_type = tagged_tree.label() # get NE category\n",
    "            \n",
    "          named_entities.append((entity_name, entity_type))\n",
    "            \n",
    "          for tag in named_entities:\n",
    "      #print(tag[1])\n",
    "                if tag[1]=='GPE':   #Specify any tag which is required\n",
    "                     print(tag)\n",
    "                \n",
    "                          \n",
    "#print(named_entities)"
   ]
  },
  {
   "cell_type": "code",
   "execution_count": 44,
   "metadata": {},
   "outputs": [],
   "source": [
    "# extract only GPE tags\n",
    "\n",
    "for tag in named_entities:\n",
    "    \n",
    "      #print(tag[1])\n",
    "      if tag[1]=='GPE':   #Specify any tag which is required\n",
    "        print(tag)"
   ]
  },
  {
   "cell_type": "code",
   "execution_count": null,
   "metadata": {},
   "outputs": [
    {
     "name": "stdout",
     "output_type": "stream",
     "text": [
      "Collecting package metadata (current_repodata.json): done\n",
      "Solving environment: failed with initial frozen solve. Retrying with flexible solve.\n",
      "Solving environment: failed with repodata from current_repodata.json, will retry with next repodata source.\n",
      "Collecting package metadata (repodata.json): done\n",
      "Solving environment: done\n",
      "\n",
      "\n",
      "==> WARNING: A newer version of conda exists. <==\n",
      "  current version: 22.9.0\n",
      "  latest version: 22.11.1\n",
      "\n",
      "Please update conda by running\n",
      "\n",
      "    $ conda update -n base -c conda-forge conda\n",
      "\n",
      "\n",
      "\n",
      "## Package Plan ##\n",
      "\n",
      "  environment location: /opt/anaconda3\n",
      "\n",
      "  added / updated specs:\n",
      "    - spacy-model-en_core_web_lg\n",
      "\n",
      "\n",
      "The following packages will be downloaded:\n",
      "\n",
      "    package                    |            build\n",
      "    ---------------------------|-----------------\n",
      "    spacy-model-en_core_web_lg-3.1.0|     pyhd8ed1ab_0       630.6 MB  conda-forge\n",
      "    ------------------------------------------------------------\n",
      "                                           Total:       630.6 MB\n",
      "\n",
      "The following NEW packages will be INSTALLED:\n",
      "\n",
      "  spacy-model-en_co~ conda-forge/noarch::spacy-model-en_core_web_lg-3.1.0-pyhd8ed1ab_0 None\n",
      "\n",
      "\n",
      "\n",
      "Downloading and Extracting Packages\n",
      "spacy-model-en_core_ | 630.6 MB  | ####################################9 | 100% "
     ]
    }
   ],
   "source": [
    "conda install -c conda-forge spacy-model-en_core_web_lg"
   ]
  },
  {
   "cell_type": "markdown",
   "metadata": {},
   "source": [
    "## What sector of companies uses which libraries?\n"
   ]
  },
  {
   "cell_type": "code",
   "execution_count": 78,
   "metadata": {},
   "outputs": [
    {
     "name": "stderr",
     "output_type": "stream",
     "text": [
      "<ipython-input-78-12d83443ed10>:32: SettingWithCopyWarning: \n",
      "A value is trying to be set on a copy of a slice from a DataFrame\n",
      "\n",
      "See the caveats in the documentation: https://pandas.pydata.org/pandas-docs/stable/user_guide/indexing.html#returning-a-view-versus-a-copy\n",
      "  ca_da_all[\"libraries\"][i] = keywords_found\n"
     ]
    }
   ],
   "source": [
    " # extract libraries for ca_data scientist\n",
    "\n",
    "from flashtext import KeywordProcessor\n",
    "\n",
    "\n",
    "keyword_processor = KeywordProcessor()\n",
    "\n",
    "\n",
    "ds_libraries = ['NumPy','Keras','Pandas','PyTorch','SciPy','Scikit-Learn','TensorFlow','Matplotlib','Seaborn',\n",
    "'Theano','OpenCV','Mahotas','SimpleITK','Pillow','Requests','Beautiful Soup','Selenium','ScraPy','PyTest','PyUnit']\n",
    "\n",
    "\n",
    "\n",
    "ca_da_all[\"libraries\"]=''\n",
    "\n",
    "for i in ds_libraries:\n",
    "    \n",
    "    if i != i:\n",
    "        pass\n",
    "    \n",
    "    else:\n",
    "        \n",
    "        keyword_processor.add_keyword(i)\n",
    "        \n",
    "#keywords_found = keyword_processor.extract_keywords(ca_cloud[\"description_stop_re\"][0])\n",
    "\n",
    "\n",
    "for i in range(len(ca_da_all)):\n",
    "    \n",
    "    keywords_found = keyword_processor.extract_keywords(ca_da_all[\"description_clean\"][i])\n",
    "    \n",
    "    ca_da_all[\"libraries\"][i] = keywords_found\n",
    "    "
   ]
  },
  {
   "cell_type": "code",
   "execution_count": 79,
   "metadata": {},
   "outputs": [
    {
     "data": {
      "text/html": [
       "<div>\n",
       "<style scoped>\n",
       "    .dataframe tbody tr th:only-of-type {\n",
       "        vertical-align: middle;\n",
       "    }\n",
       "\n",
       "    .dataframe tbody tr th {\n",
       "        vertical-align: top;\n",
       "    }\n",
       "\n",
       "    .dataframe thead th {\n",
       "        text-align: right;\n",
       "    }\n",
       "</style>\n",
       "<table border=\"1\" class=\"dataframe\">\n",
       "  <thead>\n",
       "    <tr style=\"text-align: right;\">\n",
       "      <th></th>\n",
       "      <th>library skill</th>\n",
       "      <th>count</th>\n",
       "    </tr>\n",
       "  </thead>\n",
       "  <tbody>\n",
       "    <tr>\n",
       "      <th>2</th>\n",
       "      <td>Requests</td>\n",
       "      <td>54</td>\n",
       "    </tr>\n",
       "    <tr>\n",
       "      <th>1</th>\n",
       "      <td>NumPy</td>\n",
       "      <td>4</td>\n",
       "    </tr>\n",
       "    <tr>\n",
       "      <th>0</th>\n",
       "      <td>Pandas</td>\n",
       "      <td>3</td>\n",
       "    </tr>\n",
       "    <tr>\n",
       "      <th>3</th>\n",
       "      <td>OpenCV</td>\n",
       "      <td>1</td>\n",
       "    </tr>\n",
       "    <tr>\n",
       "      <th>4</th>\n",
       "      <td>Matplotlib</td>\n",
       "      <td>1</td>\n",
       "    </tr>\n",
       "    <tr>\n",
       "      <th>5</th>\n",
       "      <td>SciPy</td>\n",
       "      <td>1</td>\n",
       "    </tr>\n",
       "    <tr>\n",
       "      <th>6</th>\n",
       "      <td>PyTorch</td>\n",
       "      <td>1</td>\n",
       "    </tr>\n",
       "    <tr>\n",
       "      <th>7</th>\n",
       "      <td>TensorFlow</td>\n",
       "      <td>1</td>\n",
       "    </tr>\n",
       "  </tbody>\n",
       "</table>\n",
       "</div>"
      ],
      "text/plain": [
       "  library skill  count\n",
       "2      Requests     54\n",
       "1         NumPy      4\n",
       "0        Pandas      3\n",
       "3        OpenCV      1\n",
       "4    Matplotlib      1\n",
       "5         SciPy      1\n",
       "6       PyTorch      1\n",
       "7    TensorFlow      1"
      ]
     },
     "execution_count": 79,
     "metadata": {},
     "output_type": "execute_result"
    }
   ],
   "source": [
    "from nltk import flatten\n",
    "\n",
    "uniqueskillcount=0\n",
    "    \n",
    "library_skill_list =[i for i in ca_da_all[\"libraries\"]]\n",
    "    \n",
    "library_skill = list(flatten([q for q in library_skill_list]))\n",
    "\n",
    "\n",
    "\n",
    "library_skill_count={}\n",
    "\n",
    "for w in library_skill:\n",
    "    \n",
    "    if w in library_skill_count:\n",
    "        \n",
    "        library_skill_count[w] += 1\n",
    "    else:\n",
    "        \n",
    "        library_skill_count[w] = 1\n",
    "        \n",
    "    \n",
    "\n",
    "# convert dictionary soft skill list to dataframe type\n",
    "library_items = list(library_skill_count.items())\n",
    "\n",
    "library_list = pd.DataFrame(library_items)\n",
    "\n",
    "cada_library_list= library_list.rename(columns={0:\"library skill\",1:\"count\"}).reset_index().sort_values(by=\"count\",ascending=False)\n",
    "\n",
    "cada_library_list.drop(columns=\"index\")"
   ]
  },
  {
   "cell_type": "code",
   "execution_count": 80,
   "metadata": {},
   "outputs": [
    {
     "data": {
      "text/plain": [
       "<matplotlib.axes._subplots.AxesSubplot at 0x7fd6f2612190>"
      ]
     },
     "execution_count": 80,
     "metadata": {},
     "output_type": "execute_result"
    },
    {
     "data": {
      "image/png": "[encoded data removed]",
      "text/plain": [
       "<Figure size 864x576 with 1 Axes>"
      ]
     },
     "metadata": {},
     "output_type": "display_data"
    }
   ],
   "source": [
    "plt.style.use('dark_background')\n",
    "cada_library_list.plot.bar(x=\"library skill\",y=\"count\",figsize=(12,8),rot=30,color='pink',title=\"ca_da_library_list\")"
   ]
  },
  {
   "cell_type": "code",
   "execution_count": 169,
   "metadata": {},
   "outputs": [],
   "source": [
    "ca_ds_jd=pd.read_csv(\"/users/xugao/Desktop/updated BD/ca_data+scientist_jd9 copy.csv\")\n",
    "ca_ds_id=pd.read_csv(\"/users/xugao/Desktop/updated BD/ca_data_scientist_jobids9.csv\")"
   ]
  },
  {
   "cell_type": "code",
   "execution_count": 170,
   "metadata": {},
   "outputs": [],
   "source": [
    "ca_ds_jd['jobid']=ca_ds_jd[\"url\"].apply(lambda x : x.split(\"=\")[1])\n",
    "\n",
    "ca_ds = pd.merge(ca_ds_jd,ca_ds_id,on='jobid',how='left')"
   ]
  },
  {
   "cell_type": "code",
   "execution_count": 171,
   "metadata": {},
   "outputs": [],
   "source": [
    "def cleaner(description):\n",
    "    description= re.sub(r\"(?:\\@|http?\\://|https?\\://|www)\\S+\", \" \", description) \n",
    "    \n",
    "    description = re.sub(r\"won\\'t\", \"will not\", description) # fix contractions\n",
    "    description = re.sub(r\"can\\'t\", \"can not\", description)\n",
    "    description = re.sub(r\"n\\'t\", \" not\", description)\n",
    "    description = re.sub(r\"\\'re\", \" are\", description)\n",
    "    description = re.sub(r\"\\'s\", \" is\", description)\n",
    "    description = re.sub(r\"\\'d\", \" would\", description)\n",
    "    description = re.sub(r\"\\'ll\", \" will\", description)\n",
    "    description = re.sub(r\"\\'t\", \" not\", description)\n",
    "    description = re.sub(r\"\\'ve\", \" have\", description)\n",
    "    description = re.sub(r\"\\'m\", \" am\", description)\n",
    "    \n",
    "    #description = re.sub(r\"[^a-zA-z]\", \" \", description) \n",
    "    description = re.sub(\"(^|\\W)\\d+($|\\W)\", \" \", description)  \n",
    "    description= re.sub('\\W+',' ',description)\n",
    "    description = re.sub(r\"\\s+\", \" \", description) \n",
    "    description = description.lower()  \n",
    "    description = description.strip()\n",
    "    description = re.sub(r\"Ã\",\"A\",description)\n",
    "    description = re.sub(r\"ã\",\"a\",description)\n",
    "    \n",
    "    return description\n",
    "\n",
    "ca_ds['description_clean'] = ca_ds['description'].apply(cleaner)\n",
    "ca_ds['joblocation_clean'] = ca_ds['jobid_location'].apply(cleaner)"
   ]
  },
  {
   "cell_type": "code",
   "execution_count": 172,
   "metadata": {},
   "outputs": [
    {
     "data": {
      "image/png": "[encoded data removed]",
      "text/plain": [
       "<Figure size 720x576 with 1 Axes>"
      ]
     },
     "metadata": {},
     "output_type": "display_data"
    }
   ],
   "source": [
    "plt.figure(figsize=(10,8))\n",
    "ca_ds[\"joblocation_clean\"].value_counts().head().plot(kind='pie',autopct='%1.1f%%')\n",
    "circle =  plt.Circle( (0,0), 0.5, color='white')\n",
    "plot = plt.gcf()\n",
    "plot.gca().add_artist(circle)\n",
    " \n",
    "# display the plot\n",
    "plt.show()"
   ]
  },
  {
   "cell_type": "code",
   "execution_count": 173,
   "metadata": {},
   "outputs": [
    {
     "name": "stderr",
     "output_type": "stream",
     "text": [
      "<ipython-input-173-8aa7093d6b0a>:30: SettingWithCopyWarning: \n",
      "A value is trying to be set on a copy of a slice from a DataFrame\n",
      "\n",
      "See the caveats in the documentation: https://pandas.pydata.org/pandas-docs/stable/user_guide/indexing.html#returning-a-view-versus-a-copy\n",
      "  ca_ds['Hybride_remote'][i]=keywords_found\n"
     ]
    }
   ],
   "source": [
    "## extract htbrid and remote info from jobid_location and create a new column\n",
    "# remote and travail are both remote\n",
    "\n",
    "\n",
    "from flashtext import KeywordProcessor\n",
    "\n",
    "keyword_processor = KeywordProcessor()\n",
    "\n",
    "Hybride_remote= [\n",
    "            'travail hybride','remote','travail']\n",
    "\n",
    "ca_ds[\"Hybride_remote\"]=''\n",
    "\n",
    "for i in Hybride_remote:\n",
    "    \n",
    "    if i != i:\n",
    "        \n",
    "        pass\n",
    "    \n",
    "    else:\n",
    "        \n",
    "        keyword_processor.add_keyword(i)\n",
    "        \n",
    "#keywords_found = keyword_processor.extract_keywords(ca_ds_jd[\"description_clean\"][0])\n",
    "\n",
    "for i in range(len(ca_ds)):\n",
    "    \n",
    "    keywords_found = keyword_processor.extract_keywords(ca_ds[\"joblocation_clean\"][i])\n",
    "\n",
    "    ca_ds['Hybride_remote'][i]=keywords_found\n",
    "    "
   ]
  },
  {
   "cell_type": "code",
   "execution_count": 174,
   "metadata": {},
   "outputs": [],
   "source": [
    "# reomve square bracket\n",
    "ca_ds['Hybride_remote']=ca_ds['Hybride_remote'].astype(str).str.replace(\"[\\]\\[]\",'')\n",
    "\n",
    "ca_ds['Hybride_remote'] = ca_ds['Hybride_remote'].str.replace('travail','remote',regex=True)"
   ]
  },
  {
   "cell_type": "code",
   "execution_count": 175,
   "metadata": {},
   "outputs": [
    {
     "data": {
      "text/plain": [
       "<matplotlib.legend.Legend at 0x7f8420425f70>"
      ]
     },
     "execution_count": 175,
     "metadata": {},
     "output_type": "execute_result"
    },
    {
     "data": {
      "image/png": "[encoded data removed]",
      "text/plain": [
       "<Figure size 720x576 with 1 Axes>"
      ]
     },
     "metadata": {},
     "output_type": "display_data"
    }
   ],
   "source": [
    "plt.style.use('dark_background')\n",
    "plt.figure(figsize=(10,8))\n",
    "\n",
    "x=ca_ds['Hybride_remote'].value_counts()\n",
    "\n",
    "labels = ['on-site','remote','travail hybride']\n",
    "plt.pie(x, explode=[0.0,0.1,0.2], autopct='%1.1f%%',labels=labels)\n",
    "plt.legend(title = \"Distribution on remote/hybride\")\n",
    "\n"
   ]
  },
  {
   "cell_type": "code",
   "execution_count": 13,
   "metadata": {},
   "outputs": [
    {
     "name": "stderr",
     "output_type": "stream",
     "text": [
      "<ipython-input-13-895248f15a7f>:33: SettingWithCopyWarning: \n",
      "A value is trying to be set on a copy of a slice from a DataFrame\n",
      "\n",
      "See the caveats in the documentation: https://pandas.pydata.org/pandas-docs/stable/user_guide/indexing.html#returning-a-view-versus-a-copy\n",
      "  ca_ds['education'][i]=keywords_found\n"
     ]
    }
   ],
   "source": [
    "# extract degree info and create a new column\n",
    "\n",
    "from flashtext import KeywordProcessor\n",
    "\n",
    "keyword_processor = KeywordProcessor()\n",
    "\n",
    "EDUCATION = [\n",
    "            'BE','B.E.', 'B.E', 'BS', 'B.S','C.A.','c.a.','B.Com','B. Com','M. Com', 'M.Com','M. Com .',\n",
    "            'ME', 'M.E', 'M.E.', 'MS', 'M.S','msc',\n",
    "            'BTECH', 'B.TECH', 'M.TECH', 'MTECH',\n",
    "            'PHD', 'phd', 'ph.d', 'Ph.D.','MBA','mba','graduate', 'post-graduate','5 year integrated masters','masters',\n",
    "            'SSC', 'HSC', 'CBSE', 'ICSE', 'X', 'XII'\n",
    "        ]\n",
    "\n",
    "ca_ds[\"education\"]=''\n",
    "\n",
    "for i in EDUCATION:\n",
    "    \n",
    "    if i != i:\n",
    "        \n",
    "        pass\n",
    "    \n",
    "    else:\n",
    "        \n",
    "        keyword_processor.add_keyword(i)\n",
    "        \n",
    "#keywords_found = keyword_processor.extract_keywords(ca_ds_jd[\"description_clean\"][0])\n",
    "\n",
    "for i in range(len(ca_ds)):\n",
    "    \n",
    "    keywords_found = keyword_processor.extract_keywords(ca_ds[\"description_clean\"][i])\n",
    "\n",
    "    ca_ds['education'][i]=keywords_found\n",
    "    "
   ]
  },
  {
   "cell_type": "code",
   "execution_count": 14,
   "metadata": {},
   "outputs": [],
   "source": [
    "# remove duplicate degree information in each position and remove \"set()\"\n",
    "\n",
    "\n",
    "education_result=[]\n",
    "\n",
    "for i in range(len(ca_ds[\"education\"])):\n",
    "    \n",
    "    \n",
    "      item = set(ca_ds[\"education\"][i])\n",
    "        \n",
    "      for char in item:\n",
    "    \n",
    "            if item != \"set()\":\n",
    "      \n",
    "               education_result.append(item)"
   ]
  },
  {
   "cell_type": "code",
   "execution_count": 15,
   "metadata": {},
   "outputs": [],
   "source": [
    "# remove the outer list and count the numbers of different degrees \n",
    "#and save to a dictionary\n",
    "\n",
    "\n",
    "degree_count = {}\n",
    "\n",
    "for w in education_result:\n",
    "    \n",
    "    for char in w:\n",
    "    \n",
    "        if char in degree_count:\n",
    "        \n",
    "             degree_count[char] += 1\n",
    "        \n",
    "        else:\n",
    "        \n",
    "              degree_count[char] = 1"
   ]
  },
  {
   "cell_type": "code",
   "execution_count": 16,
   "metadata": {},
   "outputs": [
    {
     "data": {
      "text/html": [
       "<div>\n",
       "<style scoped>\n",
       "    .dataframe tbody tr th:only-of-type {\n",
       "        vertical-align: middle;\n",
       "    }\n",
       "\n",
       "    .dataframe tbody tr th {\n",
       "        vertical-align: top;\n",
       "    }\n",
       "\n",
       "    .dataframe thead th {\n",
       "        text-align: right;\n",
       "    }\n",
       "</style>\n",
       "<table border=\"1\" class=\"dataframe\">\n",
       "  <thead>\n",
       "    <tr style=\"text-align: right;\">\n",
       "      <th></th>\n",
       "      <th>degree</th>\n",
       "      <th>count</th>\n",
       "    </tr>\n",
       "  </thead>\n",
       "  <tbody>\n",
       "    <tr>\n",
       "      <th>1</th>\n",
       "      <td>BE</td>\n",
       "      <td>195</td>\n",
       "    </tr>\n",
       "    <tr>\n",
       "      <th>3</th>\n",
       "      <td>phd</td>\n",
       "      <td>92</td>\n",
       "    </tr>\n",
       "    <tr>\n",
       "      <th>0</th>\n",
       "      <td>msc</td>\n",
       "      <td>58</td>\n",
       "    </tr>\n",
       "    <tr>\n",
       "      <th>2</th>\n",
       "      <td>MS</td>\n",
       "      <td>49</td>\n",
       "    </tr>\n",
       "    <tr>\n",
       "      <th>5</th>\n",
       "      <td>graduate</td>\n",
       "      <td>35</td>\n",
       "    </tr>\n",
       "    <tr>\n",
       "      <th>8</th>\n",
       "      <td>BS</td>\n",
       "      <td>22</td>\n",
       "    </tr>\n",
       "    <tr>\n",
       "      <th>4</th>\n",
       "      <td>masters</td>\n",
       "      <td>18</td>\n",
       "    </tr>\n",
       "    <tr>\n",
       "      <th>6</th>\n",
       "      <td>ME</td>\n",
       "      <td>11</td>\n",
       "    </tr>\n",
       "    <tr>\n",
       "      <th>7</th>\n",
       "      <td>X</td>\n",
       "      <td>8</td>\n",
       "    </tr>\n",
       "  </tbody>\n",
       "</table>\n",
       "</div>"
      ],
      "text/plain": [
       "     degree  count\n",
       "1        BE    195\n",
       "3       phd     92\n",
       "0       msc     58\n",
       "2        MS     49\n",
       "5  graduate     35\n",
       "8        BS     22\n",
       "4   masters     18\n",
       "6        ME     11\n",
       "7         X      8"
      ]
     },
     "execution_count": 16,
     "metadata": {},
     "output_type": "execute_result"
    }
   ],
   "source": [
    "# convert dictionary degreelist to dataframe type\n",
    "\n",
    "\n",
    "degree_items = list(degree_count.items())\n",
    "\n",
    "degree_list = pd.DataFrame(degree_items)\n",
    "\n",
    "degree_list= degree_list.rename(columns={0:\"degree\",1:\"count\"}).reset_index().sort_values(by=\"count\", ascending=False)\n",
    "\n",
    "\n",
    "degree_list.drop(columns=\"index\")"
   ]
  },
  {
   "cell_type": "code",
   "execution_count": 17,
   "metadata": {},
   "outputs": [
    {
     "data": {
      "text/plain": [
       "<matplotlib.axes._subplots.AxesSubplot at 0x7fcda405be80>"
      ]
     },
     "execution_count": 17,
     "metadata": {},
     "output_type": "execute_result"
    },
    {
     "data": {
      "image/png": "[encoded data removed]",
      "text/plain": [
       "<Figure size 864x576 with 1 Axes>"
      ]
     },
     "metadata": {},
     "output_type": "display_data"
    }
   ],
   "source": [
    "# plot the degree count \n",
    "\n",
    "degree_list.plot.bar(x=\"degree\", y=\"count\", figsize=(12,8), rot=45,title='ca_ds_degree')"
   ]
  },
  {
   "cell_type": "code",
   "execution_count": 18,
   "metadata": {},
   "outputs": [
    {
     "name": "stderr",
     "output_type": "stream",
     "text": [
      "<ipython-input-18-0b12ddd84a80>:33: SettingWithCopyWarning: \n",
      "A value is trying to be set on a copy of a slice from a DataFrame\n",
      "\n",
      "See the caveats in the documentation: https://pandas.pydata.org/pandas-docs/stable/user_guide/indexing.html#returning-a-view-versus-a-copy\n",
      "  ca_ds['major'][i] = keyword_found\n"
     ]
    }
   ],
   "source": [
    "# major distribution\n",
    "\n",
    "from flashtext import KeywordProcessor\n",
    "\n",
    "keyword_processor = KeywordProcessor()\n",
    "\n",
    "major = [\"computer science\", \"statistics\", \"mathematics\", \"physics\", \"electrical engineering\", \"economics\",\"computer engineering\",\n",
    "        \"information systems\",\"business\", \"management science\", \"mechanical engineering\", \"chemistry\", \"finance\", \"biology\",\"psychology\",\"Engineering\",\n",
    "        \"information technology\",\"industrial engineering\",\"biomedical engineering\",\"chemical engineering\"]\n",
    "\n",
    "\n",
    "\n",
    "ca_ds[\"major\"] = ''\n",
    "\n",
    "for i in major:\n",
    "    \n",
    "    if i !=i:\n",
    "        \n",
    "        pass\n",
    "    \n",
    "    else:\n",
    "        \n",
    "        keyword_processor.add_keyword(i)\n",
    "        \n",
    "\n",
    "        \n",
    "for i  in range(len(ca_ds[\"description_clean\"])):\n",
    "    \n",
    "    \n",
    "    keyword_found = keyword_processor.extract_keywords(ca_ds[\"description_clean\"][i])\n",
    "    \n",
    "    \n",
    "    ca_ds['major'][i] = keyword_found\n"
   ]
  },
  {
   "cell_type": "code",
   "execution_count": 19,
   "metadata": {},
   "outputs": [],
   "source": [
    "# remove duplicate major information in each position and remove \"set()\"\n",
    "\n",
    "\n",
    "major_result=[]\n",
    "\n",
    "for i in range(len(ca_ds[\"major\"])):\n",
    "    \n",
    "    \n",
    "    item = set(ca_ds[\"major\"][i])\n",
    "        \n",
    "    for char in item:\n",
    "    \n",
    "            if item != \"set()\":\n",
    "      \n",
    "               major_result.append(item)"
   ]
  },
  {
   "cell_type": "code",
   "execution_count": 20,
   "metadata": {},
   "outputs": [],
   "source": [
    "# remove the outer list and count the numbers of different degrees \n",
    "#and save to a dictionary\n",
    "\n",
    "\n",
    "major_count = {}\n",
    "\n",
    "for w in major_result:\n",
    "    \n",
    "    for char in w:\n",
    "    \n",
    "        if char in major_count:\n",
    "        \n",
    "             major_count[char] += 1\n",
    "        \n",
    "        else:\n",
    "        \n",
    "              major_count[char] = 1"
   ]
  },
  {
   "cell_type": "code",
   "execution_count": 21,
   "metadata": {},
   "outputs": [],
   "source": [
    "# conver major count dictionary to datarame\n",
    "\n",
    "major_items = list(major_count.items())\n",
    "\n",
    "major_list = pd.DataFrame(major_items)\n",
    "\n",
    "\n",
    "major_list= major_list.rename(columns={0:\"ca_ds_major\",1:\"count\"}).reset_index().sort_values(by=\"count\",ascending=False)\n",
    "\n",
    "\n",
    "major_list=major_list.drop(columns=\"index\")"
   ]
  },
  {
   "cell_type": "code",
   "execution_count": 22,
   "metadata": {},
   "outputs": [
    {
     "data": {
      "text/plain": [
       "<matplotlib.axes._subplots.AxesSubplot at 0x7fcda41e4cd0>"
      ]
     },
     "execution_count": 22,
     "metadata": {},
     "output_type": "execute_result"
    },
    {
     "data": {
      "image/png": "[encoded data removed]",
      "text/plain": [
       "<Figure size 864x576 with 1 Axes>"
      ]
     },
     "metadata": {},
     "output_type": "display_data"
    }
   ],
   "source": [
    "major_list.plot.bar(x=\"ca_ds_major\",y=\"count\",figsize=(12,8),rot=30,title='ca_ds_major',color='green')"
   ]
  },
  {
   "cell_type": "code",
   "execution_count": null,
   "metadata": {},
   "outputs": [],
   "source": []
  },
  {
   "cell_type": "code",
   "execution_count": 23,
   "metadata": {},
   "outputs": [
    {
     "name": "stderr",
     "output_type": "stream",
     "text": [
      "<ipython-input-23-d99a4620cddb>:32: SettingWithCopyWarning: \n",
      "A value is trying to be set on a copy of a slice from a DataFrame\n",
      "\n",
      "See the caveats in the documentation: https://pandas.pydata.org/pandas-docs/stable/user_guide/indexing.html#returning-a-view-versus-a-copy\n",
      "  ca_ds[\"libraries\"][i] = keywords_found\n"
     ]
    }
   ],
   "source": [
    " # extract libraries for ca_data scientist\n",
    "\n",
    "from flashtext import KeywordProcessor\n",
    "\n",
    "\n",
    "keyword_processor = KeywordProcessor()\n",
    "\n",
    "\n",
    "ds_libraries = ['NumPy','Keras','Pandas','PyTorch','SciPy','Scikit-Learn','TensorFlow','Matplotlib','Seaborn',\n",
    "'Theano','OpenCV','Mahotas','SimpleITK','Pillow','Requests','Beautiful Soup','Selenium','ScraPy','PyTest','PyUnit']\n",
    "\n",
    "\n",
    "\n",
    "ca_ds[\"libraries\"]=''\n",
    "\n",
    "for i in ds_libraries:\n",
    "    \n",
    "    if i != i:\n",
    "        pass\n",
    "    \n",
    "    else:\n",
    "        \n",
    "        keyword_processor.add_keyword(i)\n",
    "        \n",
    "#keywords_found = keyword_processor.extract_keywords(ca_cloud[\"description_stop_re\"][0])\n",
    "\n",
    "\n",
    "for i in range(len(ca_ds)):\n",
    "    \n",
    "    keywords_found = keyword_processor.extract_keywords(ca_ds[\"description_clean\"][i])\n",
    "    \n",
    "    ca_ds[\"libraries\"][i] = keywords_found\n",
    "    "
   ]
  },
  {
   "cell_type": "code",
   "execution_count": 25,
   "metadata": {},
   "outputs": [
    {
     "data": {
      "text/html": [
       "<div>\n",
       "<style scoped>\n",
       "    .dataframe tbody tr th:only-of-type {\n",
       "        vertical-align: middle;\n",
       "    }\n",
       "\n",
       "    .dataframe tbody tr th {\n",
       "        vertical-align: top;\n",
       "    }\n",
       "\n",
       "    .dataframe thead th {\n",
       "        text-align: right;\n",
       "    }\n",
       "</style>\n",
       "<table border=\"1\" class=\"dataframe\">\n",
       "  <thead>\n",
       "    <tr style=\"text-align: right;\">\n",
       "      <th></th>\n",
       "      <th>library skill</th>\n",
       "      <th>count</th>\n",
       "    </tr>\n",
       "  </thead>\n",
       "  <tbody>\n",
       "    <tr>\n",
       "      <th>1</th>\n",
       "      <td>TensorFlow</td>\n",
       "      <td>38</td>\n",
       "    </tr>\n",
       "    <tr>\n",
       "      <th>0</th>\n",
       "      <td>PyTorch</td>\n",
       "      <td>26</td>\n",
       "    </tr>\n",
       "    <tr>\n",
       "      <th>6</th>\n",
       "      <td>Pandas</td>\n",
       "      <td>19</td>\n",
       "    </tr>\n",
       "    <tr>\n",
       "      <th>4</th>\n",
       "      <td>NumPy</td>\n",
       "      <td>16</td>\n",
       "    </tr>\n",
       "    <tr>\n",
       "      <th>3</th>\n",
       "      <td>Keras</td>\n",
       "      <td>15</td>\n",
       "    </tr>\n",
       "    <tr>\n",
       "      <th>2</th>\n",
       "      <td>Requests</td>\n",
       "      <td>11</td>\n",
       "    </tr>\n",
       "    <tr>\n",
       "      <th>5</th>\n",
       "      <td>SciPy</td>\n",
       "      <td>7</td>\n",
       "    </tr>\n",
       "    <tr>\n",
       "      <th>8</th>\n",
       "      <td>Matplotlib</td>\n",
       "      <td>6</td>\n",
       "    </tr>\n",
       "    <tr>\n",
       "      <th>7</th>\n",
       "      <td>OpenCV</td>\n",
       "      <td>4</td>\n",
       "    </tr>\n",
       "    <tr>\n",
       "      <th>10</th>\n",
       "      <td>Seaborn</td>\n",
       "      <td>3</td>\n",
       "    </tr>\n",
       "    <tr>\n",
       "      <th>9</th>\n",
       "      <td>Pillow</td>\n",
       "      <td>2</td>\n",
       "    </tr>\n",
       "    <tr>\n",
       "      <th>11</th>\n",
       "      <td>ScraPy</td>\n",
       "      <td>1</td>\n",
       "    </tr>\n",
       "    <tr>\n",
       "      <th>12</th>\n",
       "      <td>Theano</td>\n",
       "      <td>1</td>\n",
       "    </tr>\n",
       "  </tbody>\n",
       "</table>\n",
       "</div>"
      ],
      "text/plain": [
       "   library skill  count\n",
       "1     TensorFlow     38\n",
       "0        PyTorch     26\n",
       "6         Pandas     19\n",
       "4          NumPy     16\n",
       "3          Keras     15\n",
       "2       Requests     11\n",
       "5          SciPy      7\n",
       "8     Matplotlib      6\n",
       "7         OpenCV      4\n",
       "10       Seaborn      3\n",
       "9         Pillow      2\n",
       "11        ScraPy      1\n",
       "12        Theano      1"
      ]
     },
     "execution_count": 25,
     "metadata": {},
     "output_type": "execute_result"
    }
   ],
   "source": [
    "from nltk import flatten\n",
    "\n",
    "uniqueskillcount=0\n",
    "    \n",
    "library_skill_list =[i for i in ca_ds[\"libraries\"]]\n",
    "    \n",
    "library_skill = list(flatten([q for q in library_skill_list]))\n",
    "\n",
    "\n",
    "\n",
    "library_skill_count={}\n",
    "\n",
    "for w in library_skill:\n",
    "    \n",
    "    if w in library_skill_count:\n",
    "        \n",
    "        library_skill_count[w] += 1\n",
    "    else:\n",
    "        \n",
    "        library_skill_count[w] = 1\n",
    "        \n",
    "    \n",
    "\n",
    "# convert dictionary soft skill list to dataframe type\n",
    "library_items = list(library_skill_count.items())\n",
    "\n",
    "library_list = pd.DataFrame(library_items)\n",
    "\n",
    "library_list= library_list.rename(columns={0:\"library skill\",1:\"count\"}).reset_index().sort_values(by=\"count\",ascending=False)\n",
    "\n",
    "library_list.drop(columns=\"index\")"
   ]
  },
  {
   "cell_type": "code",
   "execution_count": 26,
   "metadata": {},
   "outputs": [
    {
     "data": {
      "text/plain": [
       "<matplotlib.axes._subplots.AxesSubplot at 0x7fcda5346ee0>"
      ]
     },
     "execution_count": 26,
     "metadata": {},
     "output_type": "execute_result"
    },
    {
     "data": {
      "image/png": "[encoded data removed]",
      "text/plain": [
       "<Figure size 864x576 with 1 Axes>"
      ]
     },
     "metadata": {},
     "output_type": "display_data"
    }
   ],
   "source": [
    "library_list.plot.bar(x=\"library skill\",y=\"count\",figsize=(12,8),rot=30,color='pink',title='ca_ds_library')"
   ]
  },
  {
   "cell_type": "code",
   "execution_count": 184,
   "metadata": {},
   "outputs": [],
   "source": [
    "ca_ml_jd= pd.read_csv(\"/Users/xugao/Desktop/updated BD/ca_machine+learning+engineer_jd9.csv\")\n",
    "ca_ml_id=pd.read_csv(\"/Users/xugao/Desktop/updated BD/ca_machine+learning+engineer_jobids9.csv\")\n",
    "\n",
    "ca_ml_jd['jobid']=ca_ml_jd['url'].apply(lambda x: x.split(\"=\")[1])\n",
    "ca_ml=pd.merge(ca_ml_jd,ca_ml_id, on='jobid',how='left')"
   ]
  },
  {
   "cell_type": "code",
   "execution_count": 117,
   "metadata": {},
   "outputs": [],
   "source": [
    "def cleaner(description):\n",
    "    #description= re.sub(r\"(?:\\@|http?\\://|https?\\://|www)\\S+\", \" \", description) \n",
    "    \n",
    "    description = re.sub(r\"won\\'t\", \"will not\", description) # fix contractions\n",
    "    description = re.sub(r\"can\\'t\", \"can not\", description)\n",
    "    description = re.sub(r\"n\\'t\", \" not\", description)\n",
    "    description = re.sub(r\"\\'re\", \" are\", description)\n",
    "    description = re.sub(r\"\\'s\", \" is\", description)\n",
    "    description = re.sub(r\"\\'d\", \" would\", description)\n",
    "    description = re.sub(r\"\\'ll\", \" will\", description)\n",
    "    description = re.sub(r\"\\'t\", \" not\", description)\n",
    "    description = re.sub(r\"\\'ve\", \" have\", description)\n",
    "    description = re.sub(r\"\\'m\", \" am\", description)\n",
    "    \n",
    "    description = re.sub(r\"[^a-zA-z]\", \" \", description) \n",
    "    description = re.sub(\"(^|\\W)\\d+($|\\W)\", \" \", description)  \n",
    "    description= re.sub('\\W+',' ',description)\n",
    "    description = re.sub(r\"\\s+\", \" \", description) \n",
    "    description = description.lower()  \n",
    "    description = description.strip() \n",
    "    description = re.sub(r\"Ã\",\"A\",description)\n",
    "    description = re.sub(r\"ã\",\"a\",description)\n",
    "    \n",
    "    return description"
   ]
  },
  {
   "cell_type": "code",
   "execution_count": 104,
   "metadata": {},
   "outputs": [
    {
     "ename": "TypeError",
     "evalue": "expected string or bytes-like object",
     "output_type": "error",
     "traceback": [
      "\u001b[0;31m---------------------------------------------------------------------------\u001b[0m",
      "\u001b[0;31mTypeError\u001b[0m                                 Traceback (most recent call last)",
      "\u001b[0;32m<ipython-input-104-6ac7700f6c7c>\u001b[0m in \u001b[0;36m<module>\u001b[0;34m\u001b[0m\n\u001b[1;32m      1\u001b[0m \u001b[0mca_ml\u001b[0m\u001b[0;34m[\u001b[0m\u001b[0;34m\"jobidlocation_clean\"\u001b[0m\u001b[0;34m]\u001b[0m\u001b[0;34m=\u001b[0m\u001b[0mca_ml\u001b[0m\u001b[0;34m[\u001b[0m\u001b[0;34m\"jobid_location\"\u001b[0m\u001b[0;34m]\u001b[0m\u001b[0;34m.\u001b[0m\u001b[0mapply\u001b[0m\u001b[0;34m(\u001b[0m\u001b[0mcleaner\u001b[0m\u001b[0;34m)\u001b[0m\u001b[0;34m\u001b[0m\u001b[0;34m\u001b[0m\u001b[0m\n\u001b[0;32m----> 2\u001b[0;31m \u001b[0mca_ml\u001b[0m\u001b[0;34m[\u001b[0m\u001b[0;34m'description_clean'\u001b[0m\u001b[0;34m]\u001b[0m\u001b[0;34m=\u001b[0m\u001b[0mca_ml\u001b[0m\u001b[0;34m[\u001b[0m\u001b[0;34m'description'\u001b[0m\u001b[0;34m]\u001b[0m\u001b[0;34m.\u001b[0m\u001b[0mapply\u001b[0m\u001b[0;34m(\u001b[0m\u001b[0mcleaner\u001b[0m\u001b[0;34m)\u001b[0m\u001b[0;34m\u001b[0m\u001b[0;34m\u001b[0m\u001b[0m\n\u001b[0m",
      "\u001b[0;32m/opt/anaconda3/lib/python3.8/site-packages/pandas/core/series.py\u001b[0m in \u001b[0;36mapply\u001b[0;34m(self, func, convert_dtype, args, **kwds)\u001b[0m\n\u001b[1;32m   3846\u001b[0m             \u001b[0;32melse\u001b[0m\u001b[0;34m:\u001b[0m\u001b[0;34m\u001b[0m\u001b[0;34m\u001b[0m\u001b[0m\n\u001b[1;32m   3847\u001b[0m                 \u001b[0mvalues\u001b[0m \u001b[0;34m=\u001b[0m \u001b[0mself\u001b[0m\u001b[0;34m.\u001b[0m\u001b[0mastype\u001b[0m\u001b[0;34m(\u001b[0m\u001b[0mobject\u001b[0m\u001b[0;34m)\u001b[0m\u001b[0;34m.\u001b[0m\u001b[0mvalues\u001b[0m\u001b[0;34m\u001b[0m\u001b[0;34m\u001b[0m\u001b[0m\n\u001b[0;32m-> 3848\u001b[0;31m                 \u001b[0mmapped\u001b[0m \u001b[0;34m=\u001b[0m \u001b[0mlib\u001b[0m\u001b[0;34m.\u001b[0m\u001b[0mmap_infer\u001b[0m\u001b[0;34m(\u001b[0m\u001b[0mvalues\u001b[0m\u001b[0;34m,\u001b[0m \u001b[0mf\u001b[0m\u001b[0;34m,\u001b[0m \u001b[0mconvert\u001b[0m\u001b[0;34m=\u001b[0m\u001b[0mconvert_dtype\u001b[0m\u001b[0;34m)\u001b[0m\u001b[0;34m\u001b[0m\u001b[0;34m\u001b[0m\u001b[0m\n\u001b[0m\u001b[1;32m   3849\u001b[0m \u001b[0;34m\u001b[0m\u001b[0m\n\u001b[1;32m   3850\u001b[0m         \u001b[0;32mif\u001b[0m \u001b[0mlen\u001b[0m\u001b[0;34m(\u001b[0m\u001b[0mmapped\u001b[0m\u001b[0;34m)\u001b[0m \u001b[0;32mand\u001b[0m \u001b[0misinstance\u001b[0m\u001b[0;34m(\u001b[0m\u001b[0mmapped\u001b[0m\u001b[0;34m[\u001b[0m\u001b[0;36m0\u001b[0m\u001b[0;34m]\u001b[0m\u001b[0;34m,\u001b[0m \u001b[0mSeries\u001b[0m\u001b[0;34m)\u001b[0m\u001b[0;34m:\u001b[0m\u001b[0;34m\u001b[0m\u001b[0;34m\u001b[0m\u001b[0m\n",
      "\u001b[0;32mpandas/_libs/lib.pyx\u001b[0m in \u001b[0;36mpandas._libs.lib.map_infer\u001b[0;34m()\u001b[0m\n",
      "\u001b[0;32m<ipython-input-103-9457b92d73d2>\u001b[0m in \u001b[0;36mcleaner\u001b[0;34m(description)\u001b[0m\n\u001b[1;32m      2\u001b[0m     \u001b[0;31m#description= re.sub(r\"(?:\\@|http?\\://|https?\\://|www)\\S+\", \" \", description)\u001b[0m\u001b[0;34m\u001b[0m\u001b[0;34m\u001b[0m\u001b[0;34m\u001b[0m\u001b[0m\n\u001b[1;32m      3\u001b[0m \u001b[0;34m\u001b[0m\u001b[0m\n\u001b[0;32m----> 4\u001b[0;31m     \u001b[0mdescription\u001b[0m \u001b[0;34m=\u001b[0m \u001b[0mre\u001b[0m\u001b[0;34m.\u001b[0m\u001b[0msub\u001b[0m\u001b[0;34m(\u001b[0m\u001b[0;34mr\"won\\'t\"\u001b[0m\u001b[0;34m,\u001b[0m \u001b[0;34m\"will not\"\u001b[0m\u001b[0;34m,\u001b[0m \u001b[0mdescription\u001b[0m\u001b[0;34m)\u001b[0m \u001b[0;31m# fix contractions\u001b[0m\u001b[0;34m\u001b[0m\u001b[0;34m\u001b[0m\u001b[0m\n\u001b[0m\u001b[1;32m      5\u001b[0m     \u001b[0mdescription\u001b[0m \u001b[0;34m=\u001b[0m \u001b[0mre\u001b[0m\u001b[0;34m.\u001b[0m\u001b[0msub\u001b[0m\u001b[0;34m(\u001b[0m\u001b[0;34mr\"can\\'t\"\u001b[0m\u001b[0;34m,\u001b[0m \u001b[0;34m\"can not\"\u001b[0m\u001b[0;34m,\u001b[0m \u001b[0mdescription\u001b[0m\u001b[0;34m)\u001b[0m\u001b[0;34m\u001b[0m\u001b[0;34m\u001b[0m\u001b[0m\n\u001b[1;32m      6\u001b[0m     \u001b[0mdescription\u001b[0m \u001b[0;34m=\u001b[0m \u001b[0mre\u001b[0m\u001b[0;34m.\u001b[0m\u001b[0msub\u001b[0m\u001b[0;34m(\u001b[0m\u001b[0;34mr\"n\\'t\"\u001b[0m\u001b[0;34m,\u001b[0m \u001b[0;34m\" not\"\u001b[0m\u001b[0;34m,\u001b[0m \u001b[0mdescription\u001b[0m\u001b[0;34m)\u001b[0m\u001b[0;34m\u001b[0m\u001b[0;34m\u001b[0m\u001b[0m\n",
      "\u001b[0;32m/opt/anaconda3/lib/python3.8/re.py\u001b[0m in \u001b[0;36msub\u001b[0;34m(pattern, repl, string, count, flags)\u001b[0m\n\u001b[1;32m    208\u001b[0m     \u001b[0ma\u001b[0m \u001b[0mcallable\u001b[0m\u001b[0;34m,\u001b[0m \u001b[0mit\u001b[0m\u001b[0;31m'\u001b[0m\u001b[0ms\u001b[0m \u001b[0mpassed\u001b[0m \u001b[0mthe\u001b[0m \u001b[0mMatch\u001b[0m \u001b[0mobject\u001b[0m \u001b[0;32mand\u001b[0m \u001b[0mmust\u001b[0m \u001b[0;32mreturn\u001b[0m\u001b[0;34m\u001b[0m\u001b[0;34m\u001b[0m\u001b[0m\n\u001b[1;32m    209\u001b[0m     a replacement string to be used.\"\"\"\n\u001b[0;32m--> 210\u001b[0;31m     \u001b[0;32mreturn\u001b[0m \u001b[0m_compile\u001b[0m\u001b[0;34m(\u001b[0m\u001b[0mpattern\u001b[0m\u001b[0;34m,\u001b[0m \u001b[0mflags\u001b[0m\u001b[0;34m)\u001b[0m\u001b[0;34m.\u001b[0m\u001b[0msub\u001b[0m\u001b[0;34m(\u001b[0m\u001b[0mrepl\u001b[0m\u001b[0;34m,\u001b[0m \u001b[0mstring\u001b[0m\u001b[0;34m,\u001b[0m \u001b[0mcount\u001b[0m\u001b[0;34m)\u001b[0m\u001b[0;34m\u001b[0m\u001b[0;34m\u001b[0m\u001b[0m\n\u001b[0m\u001b[1;32m    211\u001b[0m \u001b[0;34m\u001b[0m\u001b[0m\n\u001b[1;32m    212\u001b[0m \u001b[0;32mdef\u001b[0m \u001b[0msubn\u001b[0m\u001b[0;34m(\u001b[0m\u001b[0mpattern\u001b[0m\u001b[0;34m,\u001b[0m \u001b[0mrepl\u001b[0m\u001b[0;34m,\u001b[0m \u001b[0mstring\u001b[0m\u001b[0;34m,\u001b[0m \u001b[0mcount\u001b[0m\u001b[0;34m=\u001b[0m\u001b[0;36m0\u001b[0m\u001b[0;34m,\u001b[0m \u001b[0mflags\u001b[0m\u001b[0;34m=\u001b[0m\u001b[0;36m0\u001b[0m\u001b[0;34m)\u001b[0m\u001b[0;34m:\u001b[0m\u001b[0;34m\u001b[0m\u001b[0;34m\u001b[0m\u001b[0m\n",
      "\u001b[0;31mTypeError\u001b[0m: expected string or bytes-like object"
     ]
    }
   ],
   "source": [
    "ca_ml[\"jobidlocation_clean\"]=ca_ml[\"jobid_location\"].apply(cleaner)\n",
    "ca_ml['description_clean']=ca_ml['description'].apply(cleaner)"
   ]
  },
  {
   "cell_type": "code",
   "execution_count": 185,
   "metadata": {},
   "outputs": [
    {
     "ename": "KeyError",
     "evalue": "'jobidlocation_clean'",
     "output_type": "error",
     "traceback": [
      "\u001b[0;31m---------------------------------------------------------------------------\u001b[0m",
      "\u001b[0;31mKeyError\u001b[0m                                  Traceback (most recent call last)",
      "\u001b[0;32m/opt/anaconda3/lib/python3.8/site-packages/pandas/core/indexes/base.py\u001b[0m in \u001b[0;36mget_loc\u001b[0;34m(self, key, method, tolerance)\u001b[0m\n\u001b[1;32m   2645\u001b[0m             \u001b[0;32mtry\u001b[0m\u001b[0;34m:\u001b[0m\u001b[0;34m\u001b[0m\u001b[0;34m\u001b[0m\u001b[0m\n\u001b[0;32m-> 2646\u001b[0;31m                 \u001b[0;32mreturn\u001b[0m \u001b[0mself\u001b[0m\u001b[0;34m.\u001b[0m\u001b[0m_engine\u001b[0m\u001b[0;34m.\u001b[0m\u001b[0mget_loc\u001b[0m\u001b[0;34m(\u001b[0m\u001b[0mkey\u001b[0m\u001b[0;34m)\u001b[0m\u001b[0;34m\u001b[0m\u001b[0;34m\u001b[0m\u001b[0m\n\u001b[0m\u001b[1;32m   2647\u001b[0m             \u001b[0;32mexcept\u001b[0m \u001b[0mKeyError\u001b[0m\u001b[0;34m:\u001b[0m\u001b[0;34m\u001b[0m\u001b[0;34m\u001b[0m\u001b[0m\n",
      "\u001b[0;32mpandas/_libs/index.pyx\u001b[0m in \u001b[0;36mpandas._libs.index.IndexEngine.get_loc\u001b[0;34m()\u001b[0m\n",
      "\u001b[0;32mpandas/_libs/index.pyx\u001b[0m in \u001b[0;36mpandas._libs.index.IndexEngine.get_loc\u001b[0;34m()\u001b[0m\n",
      "\u001b[0;32mpandas/_libs/hashtable_class_helper.pxi\u001b[0m in \u001b[0;36mpandas._libs.hashtable.PyObjectHashTable.get_item\u001b[0;34m()\u001b[0m\n",
      "\u001b[0;32mpandas/_libs/hashtable_class_helper.pxi\u001b[0m in \u001b[0;36mpandas._libs.hashtable.PyObjectHashTable.get_item\u001b[0;34m()\u001b[0m\n",
      "\u001b[0;31mKeyError\u001b[0m: 'jobidlocation_clean'",
      "\nDuring handling of the above exception, another exception occurred:\n",
      "\u001b[0;31mKeyError\u001b[0m                                  Traceback (most recent call last)",
      "\u001b[0;32m<ipython-input-185-9865aa9e3f3a>\u001b[0m in \u001b[0;36m<module>\u001b[0;34m\u001b[0m\n\u001b[1;32m      6\u001b[0m \u001b[0;34m\u001b[0m\u001b[0m\n\u001b[1;32m      7\u001b[0m \u001b[0;31m# remove puctuation in location\u001b[0m\u001b[0;34m\u001b[0m\u001b[0;34m\u001b[0m\u001b[0;34m\u001b[0m\u001b[0m\n\u001b[0;32m----> 8\u001b[0;31m \u001b[0mtext\u001b[0m \u001b[0;34m=\u001b[0m \u001b[0mca_ml\u001b[0m\u001b[0;34m[\u001b[0m\u001b[0;34m'jobidlocation_clean'\u001b[0m\u001b[0;34m]\u001b[0m\u001b[0;34m\u001b[0m\u001b[0;34m\u001b[0m\u001b[0m\n\u001b[0m\u001b[1;32m      9\u001b[0m \u001b[0mca_ml\u001b[0m\u001b[0;34m[\u001b[0m\u001b[0;34m'jobidlocation_clean_pun'\u001b[0m\u001b[0;34m]\u001b[0m\u001b[0;34m=\u001b[0m\u001b[0;34m\"\"\u001b[0m\u001b[0;34m.\u001b[0m\u001b[0mjoin\u001b[0m\u001b[0;34m(\u001b[0m\u001b[0;34m[\u001b[0m\u001b[0mchar\u001b[0m \u001b[0;32mfor\u001b[0m \u001b[0mchar\u001b[0m \u001b[0;32min\u001b[0m \u001b[0mtext\u001b[0m \u001b[0;32mif\u001b[0m \u001b[0mchar\u001b[0m \u001b[0;32mnot\u001b[0m \u001b[0;32min\u001b[0m \u001b[0mstring\u001b[0m\u001b[0;34m.\u001b[0m\u001b[0mpunctuation\u001b[0m\u001b[0;34m]\u001b[0m\u001b[0;34m)\u001b[0m\u001b[0;34m\u001b[0m\u001b[0;34m\u001b[0m\u001b[0m\n",
      "\u001b[0;32m/opt/anaconda3/lib/python3.8/site-packages/pandas/core/frame.py\u001b[0m in \u001b[0;36m__getitem__\u001b[0;34m(self, key)\u001b[0m\n\u001b[1;32m   2798\u001b[0m             \u001b[0;32mif\u001b[0m \u001b[0mself\u001b[0m\u001b[0;34m.\u001b[0m\u001b[0mcolumns\u001b[0m\u001b[0;34m.\u001b[0m\u001b[0mnlevels\u001b[0m \u001b[0;34m>\u001b[0m \u001b[0;36m1\u001b[0m\u001b[0;34m:\u001b[0m\u001b[0;34m\u001b[0m\u001b[0;34m\u001b[0m\u001b[0m\n\u001b[1;32m   2799\u001b[0m                 \u001b[0;32mreturn\u001b[0m \u001b[0mself\u001b[0m\u001b[0;34m.\u001b[0m\u001b[0m_getitem_multilevel\u001b[0m\u001b[0;34m(\u001b[0m\u001b[0mkey\u001b[0m\u001b[0;34m)\u001b[0m\u001b[0;34m\u001b[0m\u001b[0;34m\u001b[0m\u001b[0m\n\u001b[0;32m-> 2800\u001b[0;31m             \u001b[0mindexer\u001b[0m \u001b[0;34m=\u001b[0m \u001b[0mself\u001b[0m\u001b[0;34m.\u001b[0m\u001b[0mcolumns\u001b[0m\u001b[0;34m.\u001b[0m\u001b[0mget_loc\u001b[0m\u001b[0;34m(\u001b[0m\u001b[0mkey\u001b[0m\u001b[0;34m)\u001b[0m\u001b[0;34m\u001b[0m\u001b[0;34m\u001b[0m\u001b[0m\n\u001b[0m\u001b[1;32m   2801\u001b[0m             \u001b[0;32mif\u001b[0m \u001b[0mis_integer\u001b[0m\u001b[0;34m(\u001b[0m\u001b[0mindexer\u001b[0m\u001b[0;34m)\u001b[0m\u001b[0;34m:\u001b[0m\u001b[0;34m\u001b[0m\u001b[0;34m\u001b[0m\u001b[0m\n\u001b[1;32m   2802\u001b[0m                 \u001b[0mindexer\u001b[0m \u001b[0;34m=\u001b[0m \u001b[0;34m[\u001b[0m\u001b[0mindexer\u001b[0m\u001b[0;34m]\u001b[0m\u001b[0;34m\u001b[0m\u001b[0;34m\u001b[0m\u001b[0m\n",
      "\u001b[0;32m/opt/anaconda3/lib/python3.8/site-packages/pandas/core/indexes/base.py\u001b[0m in \u001b[0;36mget_loc\u001b[0;34m(self, key, method, tolerance)\u001b[0m\n\u001b[1;32m   2646\u001b[0m                 \u001b[0;32mreturn\u001b[0m \u001b[0mself\u001b[0m\u001b[0;34m.\u001b[0m\u001b[0m_engine\u001b[0m\u001b[0;34m.\u001b[0m\u001b[0mget_loc\u001b[0m\u001b[0;34m(\u001b[0m\u001b[0mkey\u001b[0m\u001b[0;34m)\u001b[0m\u001b[0;34m\u001b[0m\u001b[0;34m\u001b[0m\u001b[0m\n\u001b[1;32m   2647\u001b[0m             \u001b[0;32mexcept\u001b[0m \u001b[0mKeyError\u001b[0m\u001b[0;34m:\u001b[0m\u001b[0;34m\u001b[0m\u001b[0;34m\u001b[0m\u001b[0m\n\u001b[0;32m-> 2648\u001b[0;31m                 \u001b[0;32mreturn\u001b[0m \u001b[0mself\u001b[0m\u001b[0;34m.\u001b[0m\u001b[0m_engine\u001b[0m\u001b[0;34m.\u001b[0m\u001b[0mget_loc\u001b[0m\u001b[0;34m(\u001b[0m\u001b[0mself\u001b[0m\u001b[0;34m.\u001b[0m\u001b[0m_maybe_cast_indexer\u001b[0m\u001b[0;34m(\u001b[0m\u001b[0mkey\u001b[0m\u001b[0;34m)\u001b[0m\u001b[0;34m)\u001b[0m\u001b[0;34m\u001b[0m\u001b[0;34m\u001b[0m\u001b[0m\n\u001b[0m\u001b[1;32m   2649\u001b[0m         \u001b[0mindexer\u001b[0m \u001b[0;34m=\u001b[0m \u001b[0mself\u001b[0m\u001b[0;34m.\u001b[0m\u001b[0mget_indexer\u001b[0m\u001b[0;34m(\u001b[0m\u001b[0;34m[\u001b[0m\u001b[0mkey\u001b[0m\u001b[0;34m]\u001b[0m\u001b[0;34m,\u001b[0m \u001b[0mmethod\u001b[0m\u001b[0;34m=\u001b[0m\u001b[0mmethod\u001b[0m\u001b[0;34m,\u001b[0m \u001b[0mtolerance\u001b[0m\u001b[0;34m=\u001b[0m\u001b[0mtolerance\u001b[0m\u001b[0;34m)\u001b[0m\u001b[0;34m\u001b[0m\u001b[0;34m\u001b[0m\u001b[0m\n\u001b[1;32m   2650\u001b[0m         \u001b[0;32mif\u001b[0m \u001b[0mindexer\u001b[0m\u001b[0;34m.\u001b[0m\u001b[0mndim\u001b[0m \u001b[0;34m>\u001b[0m \u001b[0;36m1\u001b[0m \u001b[0;32mor\u001b[0m \u001b[0mindexer\u001b[0m\u001b[0;34m.\u001b[0m\u001b[0msize\u001b[0m \u001b[0;34m>\u001b[0m \u001b[0;36m1\u001b[0m\u001b[0;34m:\u001b[0m\u001b[0;34m\u001b[0m\u001b[0;34m\u001b[0m\u001b[0m\n",
      "\u001b[0;32mpandas/_libs/index.pyx\u001b[0m in \u001b[0;36mpandas._libs.index.IndexEngine.get_loc\u001b[0;34m()\u001b[0m\n",
      "\u001b[0;32mpandas/_libs/index.pyx\u001b[0m in \u001b[0;36mpandas._libs.index.IndexEngine.get_loc\u001b[0;34m()\u001b[0m\n",
      "\u001b[0;32mpandas/_libs/hashtable_class_helper.pxi\u001b[0m in \u001b[0;36mpandas._libs.hashtable.PyObjectHashTable.get_item\u001b[0;34m()\u001b[0m\n",
      "\u001b[0;32mpandas/_libs/hashtable_class_helper.pxi\u001b[0m in \u001b[0;36mpandas._libs.hashtable.PyObjectHashTable.get_item\u001b[0;34m()\u001b[0m\n",
      "\u001b[0;31mKeyError\u001b[0m: 'jobidlocation_clean'"
     ]
    }
   ],
   "source": [
    "# remove punctuation\n",
    "\n",
    "import string\n",
    "from nltk.corpus import stopwords\n",
    "\n",
    "\n",
    "# remove puctuation in location\n",
    "text = ca_ml['jobidlocation_clean']\n",
    "ca_ml['jobidlocation_clean_pun']=\"\".join([char for char in text if char not in string.punctuation])"
   ]
  },
  {
   "cell_type": "code",
   "execution_count": null,
   "metadata": {},
   "outputs": [],
   "source": [
    "def remove_stopwords(text):\n",
    "    \n",
    "    text = ca_ml[\"description_clean_puc\"]\n",
    "    \n",
    "    return \" \".join([word for word in str(text).split() if word not in STOPWORDS])\n",
    "\n",
    "\n",
    "ca_ml[\"description_stop_re\"] = ca_ml[\"description_clean_puc\"].apply(lambda text: remove_stopwords(text))"
   ]
  },
  {
   "cell_type": "code",
   "execution_count": 176,
   "metadata": {},
   "outputs": [],
   "source": [
    "ca_de_jd=pd.read_csv(\"/Users/xugao/Desktop/updated BD/ca_data+engineer_jd9.csv\")\n",
    "ca_de_id=pd.read_csv(\"/Users/xugao/Desktop/updated BD/ca_data+engineer_jobids9.csv\")"
   ]
  },
  {
   "cell_type": "code",
   "execution_count": 177,
   "metadata": {},
   "outputs": [],
   "source": [
    "ca_de_jd['jobid']=ca_de_jd['url'].apply(lambda x: x.split(\"=\")[1])\n",
    "\n",
    "ca_de=pd.merge(ca_de_jd,ca_de_id, on='jobid',how='left')"
   ]
  },
  {
   "cell_type": "code",
   "execution_count": 178,
   "metadata": {},
   "outputs": [],
   "source": [
    "def cleaner(description):\n",
    "    description= re.sub(r\"(?:\\@|http?\\://|https?\\://|www)\\S+\", \" \", description) \n",
    "    \n",
    "    description = re.sub(r\"won\\'t\", \"will not\", description) # fix contractions\n",
    "    description = re.sub(r\"can\\'t\", \"can not\", description)\n",
    "    description = re.sub(r\"n\\'t\", \" not\", description)\n",
    "    description = re.sub(r\"\\'re\", \" are\", description)\n",
    "    description = re.sub(r\"\\'s\", \" is\", description)\n",
    "    description = re.sub(r\"\\'d\", \" would\", description)\n",
    "    description = re.sub(r\"\\'ll\", \" will\", description)\n",
    "    description = re.sub(r\"\\'t\", \" not\", description)\n",
    "    description = re.sub(r\"\\'ve\", \" have\", description)\n",
    "    description = re.sub(r\"\\'m\", \" am\", description)\n",
    "    \n",
    "    #description = re.sub(r\"[^a-zA-z]\", \" \", description) \n",
    "    description = re.sub(\"(^|\\W)\\d+($|\\W)\", \" \", description)  \n",
    "    description= re.sub('\\W+',' ',description)\n",
    "    description = re.sub(r\"\\s+\", \" \", description) \n",
    "    description = description.lower()  \n",
    "    description = description.strip() \n",
    "    description = re.sub(r\"Ã\",\"A\",description)\n",
    "    description = re.sub(r\"ã\",\"a\",description)\n",
    "    \n",
    "    \n",
    "    return description\n",
    "\n",
    "ca_de['description_clean']=ca_de['description'].apply(cleaner)\n",
    "ca_de[\"jobidlocation_clean\"]=ca_de[\"jobid_location\"].apply(cleaner)"
   ]
  },
  {
   "cell_type": "code",
   "execution_count": 179,
   "metadata": {},
   "outputs": [
    {
     "data": {
      "image/png": "[encoded data removed]",
      "text/plain": [
       "<Figure size 720x576 with 1 Axes>"
      ]
     },
     "metadata": {},
     "output_type": "display_data"
    }
   ],
   "source": [
    "plt.figure(figsize=(10,8))\n",
    "ca_de[\"jobidlocation_clean\"].value_counts().head().plot(kind='pie',autopct='%1.1f%%')\n",
    "circle =  plt.Circle( (0,0), 0.5, color='white')\n",
    "plot = plt.gcf()\n",
    "plot.gca().add_artist(circle)\n",
    " \n",
    "# display the plot\n",
    "plt.show()"
   ]
  },
  {
   "cell_type": "code",
   "execution_count": 180,
   "metadata": {},
   "outputs": [
    {
     "name": "stderr",
     "output_type": "stream",
     "text": [
      "<ipython-input-180-c011970db123>:30: SettingWithCopyWarning: \n",
      "A value is trying to be set on a copy of a slice from a DataFrame\n",
      "\n",
      "See the caveats in the documentation: https://pandas.pydata.org/pandas-docs/stable/user_guide/indexing.html#returning-a-view-versus-a-copy\n",
      "  ca_de['Hybride_remote'][i]=keywords_found\n"
     ]
    }
   ],
   "source": [
    "## extract htbrid and remote info from jobid_location and create a new column\n",
    "# remote and travail are both remote\n",
    "\n",
    "\n",
    "from flashtext import KeywordProcessor\n",
    "\n",
    "keyword_processor = KeywordProcessor()\n",
    "\n",
    "Hybride_remote= [\n",
    "            'travail hybride','remote','travail']\n",
    "\n",
    "ca_de[\"Hybride_remote\"]=''\n",
    "\n",
    "for i in Hybride_remote:\n",
    "    \n",
    "    if i != i:\n",
    "        \n",
    "        pass\n",
    "    \n",
    "    else:\n",
    "        \n",
    "        keyword_processor.add_keyword(i)\n",
    "        \n",
    "#keywords_found = keyword_processor.extract_keywords(ca_ds_jd[\"description_clean\"][0])\n",
    "\n",
    "for i in range(len(ca_de)):\n",
    "    \n",
    "    keywords_found = keyword_processor.extract_keywords(ca_de[\"jobidlocation_clean\"][i])\n",
    "\n",
    "    ca_de['Hybride_remote'][i]=keywords_found\n",
    "    "
   ]
  },
  {
   "cell_type": "code",
   "execution_count": 181,
   "metadata": {},
   "outputs": [],
   "source": [
    "# reomve square bracket\n",
    "ca_de['Hybride_remote']=ca_de['Hybride_remote'].astype(str).str.replace(\"[\\]\\[]\",'')\n",
    "\n",
    "ca_de['Hybride_remote'] = ca_de['Hybride_remote'].str.replace('travail','remote',regex=True)"
   ]
  },
  {
   "cell_type": "code",
   "execution_count": 14,
   "metadata": {},
   "outputs": [
    {
     "ename": "NameError",
     "evalue": "name 'ca_de' is not defined",
     "output_type": "error",
     "traceback": [
      "\u001b[0;31m---------------------------------------------------------------------------\u001b[0m",
      "\u001b[0;31mNameError\u001b[0m                                 Traceback (most recent call last)",
      "\u001b[0;32m<ipython-input-14-3679e3517e98>\u001b[0m in \u001b[0;36m<module>\u001b[0;34m\u001b[0m\n\u001b[1;32m      2\u001b[0m \u001b[0mplt\u001b[0m\u001b[0;34m.\u001b[0m\u001b[0mfigure\u001b[0m\u001b[0;34m(\u001b[0m\u001b[0mfigsize\u001b[0m\u001b[0;34m=\u001b[0m\u001b[0;34m(\u001b[0m\u001b[0;36m10\u001b[0m\u001b[0;34m,\u001b[0m\u001b[0;36m8\u001b[0m\u001b[0;34m)\u001b[0m\u001b[0;34m)\u001b[0m\u001b[0;34m\u001b[0m\u001b[0;34m\u001b[0m\u001b[0m\n\u001b[1;32m      3\u001b[0m \u001b[0;34m\u001b[0m\u001b[0m\n\u001b[0;32m----> 4\u001b[0;31m \u001b[0mx\u001b[0m\u001b[0;34m=\u001b[0m\u001b[0mca_de\u001b[0m\u001b[0;34m[\u001b[0m\u001b[0;34m'Hybride_remote'\u001b[0m\u001b[0;34m]\u001b[0m\u001b[0;34m.\u001b[0m\u001b[0mvalue_counts\u001b[0m\u001b[0;34m(\u001b[0m\u001b[0;34m)\u001b[0m\u001b[0;34m\u001b[0m\u001b[0;34m\u001b[0m\u001b[0m\n\u001b[0m\u001b[1;32m      5\u001b[0m \u001b[0;34m\u001b[0m\u001b[0m\n\u001b[1;32m      6\u001b[0m \u001b[0mlabels\u001b[0m \u001b[0;34m=\u001b[0m \u001b[0;34m[\u001b[0m\u001b[0;34m'on-site'\u001b[0m\u001b[0;34m,\u001b[0m\u001b[0;34m'remote'\u001b[0m\u001b[0;34m,\u001b[0m\u001b[0;34m'travail hybride'\u001b[0m\u001b[0;34m]\u001b[0m\u001b[0;34m\u001b[0m\u001b[0;34m\u001b[0m\u001b[0m\n",
      "\u001b[0;31mNameError\u001b[0m: name 'ca_de' is not defined"
     ]
    },
    {
     "data": {
      "text/plain": [
       "<Figure size 720x576 with 0 Axes>"
      ]
     },
     "metadata": {},
     "output_type": "display_data"
    }
   ],
   "source": [
    "plt.style.use('dark_background')\n",
    "plt.figure(figsize=(10,8))\n",
    "\n",
    "x=ca_de['Hybride_remote'].value_counts()\n",
    "\n",
    "labels = ['on-site','remote','travail hybride']\n",
    "plt.pie(x, explode=[0.0,0.1,0.2], autopct='%1.1f%%',labels=labels)\n",
    "plt.legend(title = \"Distribution on remote/hybride\")"
   ]
  },
  {
   "cell_type": "code",
   "execution_count": 44,
   "metadata": {},
   "outputs": [
    {
     "name": "stderr",
     "output_type": "stream",
     "text": [
      "<ipython-input-44-011b025fd9ad>:33: SettingWithCopyWarning: \n",
      "A value is trying to be set on a copy of a slice from a DataFrame\n",
      "\n",
      "See the caveats in the documentation: https://pandas.pydata.org/pandas-docs/stable/user_guide/indexing.html#returning-a-view-versus-a-copy\n",
      "  ca_de['education'][i]=keywords_found\n"
     ]
    }
   ],
   "source": [
    "# extract degree info and create a new column\n",
    "\n",
    "from flashtext import KeywordProcessor\n",
    "\n",
    "keyword_processor = KeywordProcessor()\n",
    "\n",
    "EDUCATION = [\n",
    "            'BE','B.E.', 'B.E', 'BS', 'B.S','C.A.','c.a.','B.Com','B. Com','M. Com', 'M.Com','M. Com .',\n",
    "            'ME', 'M.E', 'M.E.', 'MS', 'M.S','msc',\n",
    "            'BTECH', 'B.TECH', 'M.TECH', 'MTECH',\n",
    "            'PHD', 'phd', 'ph.d', 'Ph.D.','MBA','mba','graduate', 'post-graduate','5 year integrated masters','masters',\n",
    "            'SSC', 'HSC', 'CBSE', 'ICSE', 'X', 'XII'\n",
    "        ]\n",
    "\n",
    "ca_de[\"education\"]=''\n",
    "\n",
    "for i in EDUCATION:\n",
    "    \n",
    "    if i != i:\n",
    "        \n",
    "        pass\n",
    "    \n",
    "    else:\n",
    "        \n",
    "        keyword_processor.add_keyword(i)\n",
    "        \n",
    "#keywords_found = keyword_processor.extract_keywords(ca_ds_jd[\"description_clean\"][0])\n",
    "\n",
    "for i in range(len(ca_de)):\n",
    "    \n",
    "    keywords_found = keyword_processor.extract_keywords(ca_de[\"description_clean\"][i])\n",
    "\n",
    "    ca_de['education'][i]=keywords_found\n",
    "    "
   ]
  },
  {
   "cell_type": "code",
   "execution_count": 45,
   "metadata": {},
   "outputs": [],
   "source": [
    "# remove duplicate degree information in each position and remove \"set()\"\n",
    "\n",
    "\n",
    "education_result=[]\n",
    "\n",
    "for i in range(len(ca_de[\"education\"])):\n",
    "    \n",
    "    \n",
    "      item = set(ca_de[\"education\"][i])\n",
    "        \n",
    "      for char in item:\n",
    "    \n",
    "            if item != \"set()\":\n",
    "      \n",
    "               education_result.append(item)"
   ]
  },
  {
   "cell_type": "code",
   "execution_count": 46,
   "metadata": {},
   "outputs": [],
   "source": [
    "# remove the outer list and count the numbers of different degrees \n",
    "#and save to a dictionary\n",
    "\n",
    "\n",
    "degree_count = {}\n",
    "\n",
    "for w in education_result:\n",
    "    \n",
    "    for char in w:\n",
    "    \n",
    "        if char in degree_count:\n",
    "        \n",
    "             degree_count[char] += 1\n",
    "        \n",
    "        else:\n",
    "        \n",
    "              degree_count[char] = 1"
   ]
  },
  {
   "cell_type": "code",
   "execution_count": 47,
   "metadata": {},
   "outputs": [
    {
     "data": {
      "text/html": [
       "<div>\n",
       "<style scoped>\n",
       "    .dataframe tbody tr th:only-of-type {\n",
       "        vertical-align: middle;\n",
       "    }\n",
       "\n",
       "    .dataframe tbody tr th {\n",
       "        vertical-align: top;\n",
       "    }\n",
       "\n",
       "    .dataframe thead th {\n",
       "        text-align: right;\n",
       "    }\n",
       "</style>\n",
       "<table border=\"1\" class=\"dataframe\">\n",
       "  <thead>\n",
       "    <tr style=\"text-align: right;\">\n",
       "      <th></th>\n",
       "      <th>degree</th>\n",
       "      <th>count</th>\n",
       "    </tr>\n",
       "  </thead>\n",
       "  <tbody>\n",
       "    <tr>\n",
       "      <th>0</th>\n",
       "      <td>BE</td>\n",
       "      <td>208</td>\n",
       "    </tr>\n",
       "    <tr>\n",
       "      <th>1</th>\n",
       "      <td>MS</td>\n",
       "      <td>53</td>\n",
       "    </tr>\n",
       "    <tr>\n",
       "      <th>3</th>\n",
       "      <td>BS</td>\n",
       "      <td>28</td>\n",
       "    </tr>\n",
       "    <tr>\n",
       "      <th>2</th>\n",
       "      <td>graduate</td>\n",
       "      <td>25</td>\n",
       "    </tr>\n",
       "    <tr>\n",
       "      <th>4</th>\n",
       "      <td>ME</td>\n",
       "      <td>21</td>\n",
       "    </tr>\n",
       "    <tr>\n",
       "      <th>5</th>\n",
       "      <td>masters</td>\n",
       "      <td>11</td>\n",
       "    </tr>\n",
       "    <tr>\n",
       "      <th>6</th>\n",
       "      <td>phd</td>\n",
       "      <td>3</td>\n",
       "    </tr>\n",
       "    <tr>\n",
       "      <th>7</th>\n",
       "      <td>msc</td>\n",
       "      <td>2</td>\n",
       "    </tr>\n",
       "    <tr>\n",
       "      <th>8</th>\n",
       "      <td>X</td>\n",
       "      <td>2</td>\n",
       "    </tr>\n",
       "  </tbody>\n",
       "</table>\n",
       "</div>"
      ],
      "text/plain": [
       "     degree  count\n",
       "0        BE    208\n",
       "1        MS     53\n",
       "3        BS     28\n",
       "2  graduate     25\n",
       "4        ME     21\n",
       "5   masters     11\n",
       "6       phd      3\n",
       "7       msc      2\n",
       "8         X      2"
      ]
     },
     "execution_count": 47,
     "metadata": {},
     "output_type": "execute_result"
    }
   ],
   "source": [
    "# convert dictionary degreelist to dataframe type\n",
    "\n",
    "\n",
    "degree_items = list(degree_count.items())\n",
    "\n",
    "degree_list = pd.DataFrame(degree_items)\n",
    "\n",
    "degree_list= degree_list.rename(columns={0:\"degree\",1:\"count\"}).reset_index().sort_values(by=\"count\", ascending=False)\n",
    "\n",
    "\n",
    "degree_list.drop(columns=\"index\")\n",
    "\n",
    "degree_items = list(degree_count.items())"
   ]
  },
  {
   "cell_type": "code",
   "execution_count": 48,
   "metadata": {},
   "outputs": [
    {
     "data": {
      "text/plain": [
       "<matplotlib.axes._subplots.AxesSubplot at 0x7fcda58f78b0>"
      ]
     },
     "execution_count": 48,
     "metadata": {},
     "output_type": "execute_result"
    },
    {
     "data": {
      "image/png": "[encoded data removed]",
      "text/plain": [
       "<Figure size 864x576 with 1 Axes>"
      ]
     },
     "metadata": {},
     "output_type": "display_data"
    }
   ],
   "source": [
    "# plot the degree count \n",
    "\n",
    "degree_list.plot.bar(x=\"degree\", y=\"count\", figsize=(12,8), rot=45,title=\"ca_de_degree\")\n"
   ]
  },
  {
   "cell_type": "code",
   "execution_count": 60,
   "metadata": {},
   "outputs": [
    {
     "name": "stderr",
     "output_type": "stream",
     "text": [
      "<ipython-input-60-a291ea6e77de>:33: SettingWithCopyWarning: \n",
      "A value is trying to be set on a copy of a slice from a DataFrame\n",
      "\n",
      "See the caveats in the documentation: https://pandas.pydata.org/pandas-docs/stable/user_guide/indexing.html#returning-a-view-versus-a-copy\n",
      "  ca_de['major'][i] = keyword_found\n"
     ]
    }
   ],
   "source": [
    "# major distribution\n",
    "\n",
    "from flashtext import KeywordProcessor\n",
    "\n",
    "keyword_processor = KeywordProcessor()\n",
    "\n",
    "major = [\"computer science\", \"statistics\", \"mathematics\", \"physics\", \"electrical engineering\", \"economics\",\"computer engineering\",\n",
    "        \"information systems\",\"business\", \"management science\", \"mechanical engineering\", \"chemistry\", \"finance\", \"biology\",\"psychology\",\"Engineering\",\n",
    "        \"information technology\",\"industrial engineering\",\"biomedical engineering\",\"chemical engineering\"]\n",
    "\n",
    "\n",
    "\n",
    "ca_de[\"major\"] = ''\n",
    "\n",
    "for i in major:\n",
    "    \n",
    "    if i !=i:\n",
    "        \n",
    "        pass\n",
    "    \n",
    "    else:\n",
    "        \n",
    "        keyword_processor.add_keyword(i)\n",
    "        \n",
    "\n",
    "        \n",
    "for i  in range(len(ca_de[\"description_clean\"])):\n",
    "    \n",
    "    \n",
    "    keyword_found = keyword_processor.extract_keywords(ca_de[\"description_clean\"][i])\n",
    "    \n",
    "    \n",
    "    ca_de['major'][i] = keyword_found"
   ]
  },
  {
   "cell_type": "code",
   "execution_count": 61,
   "metadata": {},
   "outputs": [],
   "source": [
    "major_result=[]\n",
    "\n",
    "for i in range(len(ca_de[\"major\"])):\n",
    "    \n",
    "    \n",
    "    item = set(ca_de[\"major\"][i])\n",
    "        \n",
    "    for char in item:\n",
    "    \n",
    "            if item != \"set()\":\n",
    "      \n",
    "               major_result.append(item)"
   ]
  },
  {
   "cell_type": "code",
   "execution_count": 62,
   "metadata": {},
   "outputs": [],
   "source": [
    "\n",
    "de_major_count = {}\n",
    "\n",
    "for w in major_result:\n",
    "    \n",
    "    for char in w:\n",
    "    \n",
    "        if char in de_major_count:\n",
    "        \n",
    "             de_major_count[char] += 1\n",
    "        \n",
    "        else:\n",
    "        \n",
    "              de_major_count[char] = 1"
   ]
  },
  {
   "cell_type": "code",
   "execution_count": 63,
   "metadata": {},
   "outputs": [],
   "source": [
    "# conver major count dictionary to datarame\n",
    "\n",
    "major_items = list(de_major_count.items())\n",
    "\n",
    "major_list = pd.DataFrame(major_items)\n",
    "\n",
    "\n",
    "ca_de_major_list= major_list.rename(columns={0:\"ca_de_major\",1:\"count\"}).reset_index().sort_values(by=\"count\",ascending=False)\n",
    "\n",
    "\n",
    "ca_de_major_list=ca_de_major_list.drop(columns=\"index\")\n",
    "#ca_de_major_list.plot.bar(x=\"ca_de_major\",y=\"count\",figsize=(12,8),rot=30,color='red',title=\"ca_de_major\")"
   ]
  },
  {
   "cell_type": "code",
   "execution_count": 64,
   "metadata": {},
   "outputs": [
    {
     "data": {
      "text/plain": [
       "<matplotlib.axes._subplots.AxesSubplot at 0x7fcda5b806d0>"
      ]
     },
     "execution_count": 64,
     "metadata": {},
     "output_type": "execute_result"
    },
    {
     "data": {
      "image/png": "[encoded data removed]",
      "text/plain": [
       "<Figure size 864x576 with 1 Axes>"
      ]
     },
     "metadata": {},
     "output_type": "display_data"
    }
   ],
   "source": [
    "ca_de_major_list.plot.bar(x=\"ca_de_major\",y=\"count\",figsize=(12,8),rot=30,color='green',title=\"ca_de_major\")"
   ]
  },
  {
   "cell_type": "code",
   "execution_count": 65,
   "metadata": {},
   "outputs": [
    {
     "name": "stderr",
     "output_type": "stream",
     "text": [
      "<ipython-input-65-156ad77a2d29>:32: SettingWithCopyWarning: \n",
      "A value is trying to be set on a copy of a slice from a DataFrame\n",
      "\n",
      "See the caveats in the documentation: https://pandas.pydata.org/pandas-docs/stable/user_guide/indexing.html#returning-a-view-versus-a-copy\n",
      "  ca_de[\"libraries\"][i] = keywords_found\n"
     ]
    }
   ],
   "source": [
    " # extract libraries for ca_data scientist\n",
    "\n",
    "from flashtext import KeywordProcessor\n",
    "\n",
    "\n",
    "keyword_processor = KeywordProcessor()\n",
    "\n",
    "\n",
    "ds_libraries = ['NumPy','Keras','Pandas','PyTorch','SciPy','Scikit-Learn','TensorFlow','Matplotlib','Seaborn',\n",
    "'Theano','OpenCV','Mahotas','SimpleITK','Pillow','Requests','Beautiful Soup','Selenium','ScraPy','PyTest','PyUnit']\n",
    "\n",
    "\n",
    "\n",
    "ca_de[\"libraries\"]=''\n",
    "\n",
    "for i in ds_libraries:\n",
    "    \n",
    "    if i != i:\n",
    "        pass\n",
    "    \n",
    "    else:\n",
    "        \n",
    "        keyword_processor.add_keyword(i)\n",
    "        \n",
    "#keywords_found = keyword_processor.extract_keywords(ca_cloud[\"description_stop_re\"][0])\n",
    "\n",
    "\n",
    "for i in range(len(ca_de)):\n",
    "    \n",
    "    keywords_found = keyword_processor.extract_keywords(ca_de[\"description_clean\"][i])\n",
    "    \n",
    "    ca_de[\"libraries\"][i] = keywords_found\n",
    "    "
   ]
  },
  {
   "cell_type": "code",
   "execution_count": 66,
   "metadata": {},
   "outputs": [
    {
     "data": {
      "text/html": [
       "<div>\n",
       "<style scoped>\n",
       "    .dataframe tbody tr th:only-of-type {\n",
       "        vertical-align: middle;\n",
       "    }\n",
       "\n",
       "    .dataframe tbody tr th {\n",
       "        vertical-align: top;\n",
       "    }\n",
       "\n",
       "    .dataframe thead th {\n",
       "        text-align: right;\n",
       "    }\n",
       "</style>\n",
       "<table border=\"1\" class=\"dataframe\">\n",
       "  <thead>\n",
       "    <tr style=\"text-align: right;\">\n",
       "      <th></th>\n",
       "      <th>library skill</th>\n",
       "      <th>count</th>\n",
       "    </tr>\n",
       "  </thead>\n",
       "  <tbody>\n",
       "    <tr>\n",
       "      <th>0</th>\n",
       "      <td>Requests</td>\n",
       "      <td>14</td>\n",
       "    </tr>\n",
       "    <tr>\n",
       "      <th>1</th>\n",
       "      <td>Pandas</td>\n",
       "      <td>11</td>\n",
       "    </tr>\n",
       "    <tr>\n",
       "      <th>7</th>\n",
       "      <td>NumPy</td>\n",
       "      <td>7</td>\n",
       "    </tr>\n",
       "    <tr>\n",
       "      <th>2</th>\n",
       "      <td>TensorFlow</td>\n",
       "      <td>6</td>\n",
       "    </tr>\n",
       "    <tr>\n",
       "      <th>4</th>\n",
       "      <td>PyTorch</td>\n",
       "      <td>4</td>\n",
       "    </tr>\n",
       "    <tr>\n",
       "      <th>8</th>\n",
       "      <td>SciPy</td>\n",
       "      <td>4</td>\n",
       "    </tr>\n",
       "    <tr>\n",
       "      <th>3</th>\n",
       "      <td>Keras</td>\n",
       "      <td>3</td>\n",
       "    </tr>\n",
       "    <tr>\n",
       "      <th>6</th>\n",
       "      <td>Selenium</td>\n",
       "      <td>3</td>\n",
       "    </tr>\n",
       "    <tr>\n",
       "      <th>5</th>\n",
       "      <td>ScraPy</td>\n",
       "      <td>2</td>\n",
       "    </tr>\n",
       "    <tr>\n",
       "      <th>9</th>\n",
       "      <td>Matplotlib</td>\n",
       "      <td>1</td>\n",
       "    </tr>\n",
       "    <tr>\n",
       "      <th>10</th>\n",
       "      <td>Seaborn</td>\n",
       "      <td>1</td>\n",
       "    </tr>\n",
       "    <tr>\n",
       "      <th>11</th>\n",
       "      <td>PyTest</td>\n",
       "      <td>1</td>\n",
       "    </tr>\n",
       "  </tbody>\n",
       "</table>\n",
       "</div>"
      ],
      "text/plain": [
       "   library skill  count\n",
       "0       Requests     14\n",
       "1         Pandas     11\n",
       "7          NumPy      7\n",
       "2     TensorFlow      6\n",
       "4        PyTorch      4\n",
       "8          SciPy      4\n",
       "3          Keras      3\n",
       "6       Selenium      3\n",
       "5         ScraPy      2\n",
       "9     Matplotlib      1\n",
       "10       Seaborn      1\n",
       "11        PyTest      1"
      ]
     },
     "execution_count": 66,
     "metadata": {},
     "output_type": "execute_result"
    }
   ],
   "source": [
    "from nltk import flatten\n",
    "\n",
    "uniqueskillcount=0\n",
    "    \n",
    "library_skill_list =[i for i in ca_de[\"libraries\"]]\n",
    "    \n",
    "library_skill = list(flatten([q for q in library_skill_list]))\n",
    "\n",
    "\n",
    "\n",
    "de_library_skill_count={}\n",
    "\n",
    "for w in library_skill:\n",
    "    \n",
    "    if w in de_library_skill_count:\n",
    "        \n",
    "        de_library_skill_count[w] += 1\n",
    "    else:\n",
    "        \n",
    "        de_library_skill_count[w] = 1\n",
    "        \n",
    "    \n",
    "\n",
    "# convert dictionary soft skill list to dataframe type\n",
    "library_items = list(de_library_skill_count.items())\n",
    "\n",
    "library_list = pd.DataFrame(library_items)\n",
    "\n",
    "cade_library_list= library_list.rename(columns={0:\"library skill\",1:\"count\"}).reset_index().sort_values(by=\"count\",ascending=False)\n",
    "\n",
    "cade_library_list.drop(columns=\"index\")"
   ]
  },
  {
   "cell_type": "code",
   "execution_count": 67,
   "metadata": {},
   "outputs": [],
   "source": [
    "# remove the outer list and count the numbers of different degrees \n",
    "#and save to a dictionary\n",
    "\n",
    "\n",
    "major_count = {}\n",
    "\n",
    "for w in major_result:\n",
    "    \n",
    "    for char in w:\n",
    "    \n",
    "        if char in major_count:\n",
    "        \n",
    "             major_count[char] += 1\n",
    "        \n",
    "        else:\n",
    "        \n",
    "              major_count[char] = 1"
   ]
  },
  {
   "cell_type": "code",
   "execution_count": 68,
   "metadata": {},
   "outputs": [
    {
     "data": {
      "text/plain": [
       "<matplotlib.axes._subplots.AxesSubplot at 0x7fcda5c0d7c0>"
      ]
     },
     "execution_count": 68,
     "metadata": {},
     "output_type": "execute_result"
    },
    {
     "data": {
      "image/png": "[encoded data removed]",
      "text/plain": [
       "<Figure size 864x576 with 1 Axes>"
      ]
     },
     "metadata": {},
     "output_type": "display_data"
    }
   ],
   "source": [
    "cade_library_list.plot.bar(x=\"library skill\",y=\"count\",figsize=(12,8),rot=30,color='pink',title=\"ca_de_library_list\")"
   ]
  },
  {
   "cell_type": "code",
   "execution_count": 24,
   "metadata": {},
   "outputs": [],
   "source": [
    "us_da_jd = pd.read_csv(\"/Users/xugao/Downloads/us_data%2Banalyst_jd15.csv\")\n"
   ]
  },
  {
   "cell_type": "code",
   "execution_count": 25,
   "metadata": {},
   "outputs": [],
   "source": [
    "us_da_id = pd.read_csv(\"/Users/xugao/Downloads/us_data%2Banalyst_jobids15.csv\")\n"
   ]
  },
  {
   "cell_type": "code",
   "execution_count": 10,
   "metadata": {},
   "outputs": [
    {
     "data": {
      "text/html": [
       "<div>\n",
       "<style scoped>\n",
       "    .dataframe tbody tr th:only-of-type {\n",
       "        vertical-align: middle;\n",
       "    }\n",
       "\n",
       "    .dataframe tbody tr th {\n",
       "        vertical-align: top;\n",
       "    }\n",
       "\n",
       "    .dataframe thead th {\n",
       "        text-align: right;\n",
       "    }\n",
       "</style>\n",
       "<table border=\"1\" class=\"dataframe\">\n",
       "  <thead>\n",
       "    <tr style=\"text-align: right;\">\n",
       "      <th></th>\n",
       "      <th>url</th>\n",
       "      <th>description</th>\n",
       "      <th>jobid</th>\n",
       "      <th>jobid_location</th>\n",
       "    </tr>\n",
       "  </thead>\n",
       "  <tbody>\n",
       "    <tr>\n",
       "      <th>0</th>\n",
       "      <td>https://www.indeed.com/viewjob?jk=4762cea6d145...</td>\n",
       "      <td>\\n\\nSummary\\n Staff whose work requires or pot...</td>\n",
       "      <td>4762cea6d1458598</td>\n",
       "      <td>Yucca Valley, CA 92284+2 locations</td>\n",
       "    </tr>\n",
       "    <tr>\n",
       "      <th>1</th>\n",
       "      <td>https://www.indeed.com/viewjob?jk=f90a445f132b...</td>\n",
       "      <td>Position Web Analyst\\nLocation Sunnyvale-CA\\nD...</td>\n",
       "      <td>f90a445f132baea0</td>\n",
       "      <td>Sunnyvale, CA</td>\n",
       "    </tr>\n",
       "    <tr>\n",
       "      <th>2</th>\n",
       "      <td>https://www.indeed.com/viewjob?jk=519eff9ef9e1...</td>\n",
       "      <td>A Los Angeles based healthcare management comp...</td>\n",
       "      <td>519eff9ef9e10c71</td>\n",
       "      <td>Los Angeles, CA 90010Â (Koreatown area)</td>\n",
       "    </tr>\n",
       "    <tr>\n",
       "      <th>3</th>\n",
       "      <td>https://www.indeed.com/viewjob?jk=ed15bbd6c2b5...</td>\n",
       "      <td>\\n at Maravai LifeSciences \\n \\n  San Diego, C...</td>\n",
       "      <td>ed15bbd6c2b5f01e</td>\n",
       "      <td>San Diego, CA</td>\n",
       "    </tr>\n",
       "    <tr>\n",
       "      <th>4</th>\n",
       "      <td>https://www.indeed.com/viewjob?jk=c9e6b1c87042...</td>\n",
       "      <td>\\nIvy Energy is hiring for a Service Data Anal...</td>\n",
       "      <td>c9e6b1c87042c00b</td>\n",
       "      <td>San Diego, CA</td>\n",
       "    </tr>\n",
       "    <tr>\n",
       "      <th>...</th>\n",
       "      <td>...</td>\n",
       "      <td>...</td>\n",
       "      <td>...</td>\n",
       "      <td>...</td>\n",
       "    </tr>\n",
       "    <tr>\n",
       "      <th>471</th>\n",
       "      <td>https://www.indeed.com/viewjob?jk=a1342c4fe682...</td>\n",
       "      <td>\\n\\nTeam Name:\\n\\n Job Title: Senior Data/Repo...</td>\n",
       "      <td>a1342c4fe682af3e</td>\n",
       "      <td>Irvine, CA 92618</td>\n",
       "    </tr>\n",
       "    <tr>\n",
       "      <th>472</th>\n",
       "      <td>https://www.indeed.com/viewjob?jk=f8177577d09f...</td>\n",
       "      <td>\\n\\n\\n\\nJOB DESCRIPTION \\nJob / Position Title...</td>\n",
       "      <td>f8177577d09f6373</td>\n",
       "      <td>Anaheim, CA</td>\n",
       "    </tr>\n",
       "    <tr>\n",
       "      <th>473</th>\n",
       "      <td>https://www.indeed.com/viewjob?jk=dd722d58aefe...</td>\n",
       "      <td>\\nAs a company whose mission is to be the most...</td>\n",
       "      <td>dd722d58aefe721f</td>\n",
       "      <td>Hybrid remote in Buena Park, CA 90621</td>\n",
       "    </tr>\n",
       "    <tr>\n",
       "      <th>474</th>\n",
       "      <td>https://www.indeed.com/viewjob?jk=2fc31920fc01...</td>\n",
       "      <td>Job No: 524439 \\n\\nWork Type: Staff \\n\\nLocati...</td>\n",
       "      <td>2fc31920fc013292</td>\n",
       "      <td>San Luis Obispo, CA 93407</td>\n",
       "    </tr>\n",
       "    <tr>\n",
       "      <th>475</th>\n",
       "      <td>https://www.indeed.com/viewjob?jk=1dbbd47ed8eb...</td>\n",
       "      <td>LISI AEROSPACE is ranked 60th in the global ae...</td>\n",
       "      <td>1dbbd47ed8eba63f</td>\n",
       "      <td>Industry, CA 91745</td>\n",
       "    </tr>\n",
       "  </tbody>\n",
       "</table>\n",
       "<p>476 rows × 4 columns</p>\n",
       "</div>"
      ],
      "text/plain": [
       "                                                   url  \\\n",
       "0    https://www.indeed.com/viewjob?jk=4762cea6d145...   \n",
       "1    https://www.indeed.com/viewjob?jk=f90a445f132b...   \n",
       "2    https://www.indeed.com/viewjob?jk=519eff9ef9e1...   \n",
       "3    https://www.indeed.com/viewjob?jk=ed15bbd6c2b5...   \n",
       "4    https://www.indeed.com/viewjob?jk=c9e6b1c87042...   \n",
       "..                                                 ...   \n",
       "471  https://www.indeed.com/viewjob?jk=a1342c4fe682...   \n",
       "472  https://www.indeed.com/viewjob?jk=f8177577d09f...   \n",
       "473  https://www.indeed.com/viewjob?jk=dd722d58aefe...   \n",
       "474  https://www.indeed.com/viewjob?jk=2fc31920fc01...   \n",
       "475  https://www.indeed.com/viewjob?jk=1dbbd47ed8eb...   \n",
       "\n",
       "                                           description             jobid  \\\n",
       "0    \\n\\nSummary\\n Staff whose work requires or pot...  4762cea6d1458598   \n",
       "1    Position Web Analyst\\nLocation Sunnyvale-CA\\nD...  f90a445f132baea0   \n",
       "2    A Los Angeles based healthcare management comp...  519eff9ef9e10c71   \n",
       "3    \\n at Maravai LifeSciences \\n \\n  San Diego, C...  ed15bbd6c2b5f01e   \n",
       "4    \\nIvy Energy is hiring for a Service Data Anal...  c9e6b1c87042c00b   \n",
       "..                                                 ...               ...   \n",
       "471  \\n\\nTeam Name:\\n\\n Job Title: Senior Data/Repo...  a1342c4fe682af3e   \n",
       "472  \\n\\n\\n\\nJOB DESCRIPTION \\nJob / Position Title...  f8177577d09f6373   \n",
       "473  \\nAs a company whose mission is to be the most...  dd722d58aefe721f   \n",
       "474  Job No: 524439 \\n\\nWork Type: Staff \\n\\nLocati...  2fc31920fc013292   \n",
       "475  LISI AEROSPACE is ranked 60th in the global ae...  1dbbd47ed8eba63f   \n",
       "\n",
       "                              jobid_location  \n",
       "0         Yucca Valley, CA 92284+2 locations  \n",
       "1                              Sunnyvale, CA  \n",
       "2    Los Angeles, CA 90010Â (Koreatown area)  \n",
       "3                              San Diego, CA  \n",
       "4                              San Diego, CA  \n",
       "..                                       ...  \n",
       "471                         Irvine, CA 92618  \n",
       "472                              Anaheim, CA  \n",
       "473    Hybrid remote in Buena Park, CA 90621  \n",
       "474                San Luis Obispo, CA 93407  \n",
       "475                       Industry, CA 91745  \n",
       "\n",
       "[476 rows x 4 columns]"
      ]
     },
     "execution_count": 10,
     "metadata": {},
     "output_type": "execute_result"
    }
   ],
   "source": [
    "us_da_jd['jobid']=us_da_jd['url'].apply(lambda x : x.split(\"=\")[1])\n",
    "us_da=pd.merge(us_da_jd,us_da_id, how=\"left\",on=\"jobid\")\n",
    "us_da.drop(['Unnamed: 0_x','Unnamed: 0_y'],axis=1)"
   ]
  },
  {
   "cell_type": "code",
   "execution_count": 11,
   "metadata": {},
   "outputs": [],
   "source": [
    "def cleaner(description):\n",
    "    description= re.sub(r\"(?:\\@|http?\\://|https?\\://|www)\\S+\", \" \", description) \n",
    "    \n",
    "    description = re.sub(r\"won\\'t\", \"will not\", description) # fix contractions\n",
    "    description = re.sub(r\"can\\'t\", \"can not\", description)\n",
    "    description = re.sub(r\"n\\'t\", \" not\", description)\n",
    "    description = re.sub(r\"\\'re\", \" are\", description)\n",
    "    description = re.sub(r\"\\'s\", \" is\", description)\n",
    "    description = re.sub(r\"\\'d\", \" would\", description)\n",
    "    description = re.sub(r\"\\'ll\", \" will\", description)\n",
    "    description = re.sub(r\"\\'t\", \" not\", description)\n",
    "    description = re.sub(r\"\\'ve\", \" have\", description)\n",
    "    description = re.sub(r\"\\'m\", \" am\", description)\n",
    "    \n",
    "    #description = re.sub(r\"[^a-zA-z]\", \" \", description) \n",
    "    description = re.sub(\"(^|\\W)\\d+($|\\W)\", \" \", description)  \n",
    "    description= re.sub('\\W+',' ',description)\n",
    "    description = re.sub(r\"\\s+\", \" \", description) \n",
    "    description = description.lower()  \n",
    "    description = description.strip() \n",
    "    description = re.sub(r\"Ã\",\"A\",description)\n",
    "    description = re.sub(r\"ã\",\"a\",description)\n",
    "    \n",
    "    \n",
    "    return description\n",
    "\n",
    "us_da['description_clean']=us_da['description'].apply(cleaner)\n",
    "us_da[\"jobidlocation_clean\"]=us_da[\"jobid_location\"].apply(cleaner)"
   ]
  },
  {
   "cell_type": "code",
   "execution_count": 12,
   "metadata": {},
   "outputs": [
    {
     "data": {
      "image/png": "[encoded data removed]",
      "text/plain": [
       "<Figure size 720x576 with 1 Axes>"
      ]
     },
     "metadata": {},
     "output_type": "display_data"
    }
   ],
   "source": [
    "plt.figure(figsize=(10,8))\n",
    "us_da[\"jobidlocation_clean\"].value_counts().head().plot(kind='pie',autopct='%1.1f%%')\n",
    "circle =  plt.Circle( (0,0), 0.5, color='white')\n",
    "plot = plt.gcf()\n",
    "plot.gca().add_artist(circle)\n",
    " \n",
    "# display the plot\n",
    "plt.show()"
   ]
  },
  {
   "cell_type": "code",
   "execution_count": 13,
   "metadata": {},
   "outputs": [
    {
     "name": "stderr",
     "output_type": "stream",
     "text": [
      "<ipython-input-13-af119733d55a>:30: SettingWithCopyWarning: \n",
      "A value is trying to be set on a copy of a slice from a DataFrame\n",
      "\n",
      "See the caveats in the documentation: https://pandas.pydata.org/pandas-docs/stable/user_guide/indexing.html#returning-a-view-versus-a-copy\n",
      "  us_da['Hybride_remote'][i]=keywords_found\n"
     ]
    }
   ],
   "source": [
    "## extract htbrid and remote info from jobid_location and create a new column\n",
    "# remote and travail are both remote\n",
    "\n",
    "\n",
    "from flashtext import KeywordProcessor\n",
    "\n",
    "keyword_processor = KeywordProcessor()\n",
    "\n",
    "Hybride_remote= [\n",
    "            'travail hybride','remote','travail']\n",
    "\n",
    "us_da[\"Hybride_remote\"]=''\n",
    "\n",
    "for i in Hybride_remote:\n",
    "    \n",
    "    if i != i:\n",
    "        \n",
    "        pass\n",
    "    \n",
    "    else:\n",
    "        \n",
    "        keyword_processor.add_keyword(i)\n",
    "        \n",
    "#keywords_found = keyword_processor.extract_keywords(ca_ds_jd[\"description_clean\"][0])\n",
    "\n",
    "for i in range(len(us_da)):\n",
    "    \n",
    "    keywords_found = keyword_processor.extract_keywords(us_da[\"jobidlocation_clean\"][i])\n",
    "\n",
    "    us_da['Hybride_remote'][i]=keywords_found\n",
    "    "
   ]
  },
  {
   "cell_type": "code",
   "execution_count": 17,
   "metadata": {},
   "outputs": [],
   "source": [
    "# reomve square bracket\n",
    "us_da['Hybride_remote']=us_da['Hybride_remote'].astype(str).str.replace(\"[\\]\\[]\",'')\n",
    "\n",
    "us_da['Hybride_remote'] = us_da['Hybride_remote'].str.replace('travail','remote',regex=True)"
   ]
  },
  {
   "cell_type": "code",
   "execution_count": 20,
   "metadata": {},
   "outputs": [
    {
     "data": {
      "text/plain": [
       "            368\n",
       "'remote'    108\n",
       "Name: Hybride_remote, dtype: int64"
      ]
     },
     "execution_count": 20,
     "metadata": {},
     "output_type": "execute_result"
    }
   ],
   "source": [
    "us_da['Hybride_remote'].value_counts()"
   ]
  },
  {
   "cell_type": "code",
   "execution_count": 22,
   "metadata": {},
   "outputs": [
    {
     "data": {
      "text/plain": [
       "<matplotlib.legend.Legend at 0x7f9114d71100>"
      ]
     },
     "execution_count": 22,
     "metadata": {},
     "output_type": "execute_result"
    },
    {
     "data": {
      "image/png": "[encoded data removed]",
      "text/plain": [
       "<Figure size 720x576 with 1 Axes>"
      ]
     },
     "metadata": {},
     "output_type": "display_data"
    }
   ],
   "source": [
    "plt.style.use('dark_background')\n",
    "plt.figure(figsize=(10,8))\n",
    "\n",
    "x=us_da['Hybride_remote'].value_counts()\n",
    "\n",
    "labels = ['on-site','remote']\n",
    "plt.pie(x, explode=[0.0,0.1], autopct='%1.1f%%',labels=labels)\n",
    "plt.legend(title = \"US_DA Distribution on remote/hybride\")"
   ]
  },
  {
   "cell_type": "code",
   "execution_count": 23,
   "metadata": {},
   "outputs": [
    {
     "name": "stderr",
     "output_type": "stream",
     "text": [
      "<ipython-input-23-0fd3ab2a14d4>:33: SettingWithCopyWarning: \n",
      "A value is trying to be set on a copy of a slice from a DataFrame\n",
      "\n",
      "See the caveats in the documentation: https://pandas.pydata.org/pandas-docs/stable/user_guide/indexing.html#returning-a-view-versus-a-copy\n",
      "  us_da['education'][i]=keywords_found\n"
     ]
    }
   ],
   "source": [
    "# extract degree info and create a new column\n",
    "\n",
    "from flashtext import KeywordProcessor\n",
    "\n",
    "keyword_processor = KeywordProcessor()\n",
    "\n",
    "EDUCATION = [\n",
    "            'BE','B.E.', 'B.E', 'BS', 'B.S','C.A.','c.a.','B.Com','B. Com','M. Com', 'M.Com','M. Com .',\n",
    "            'ME', 'M.E', 'M.E.', 'MS', 'M.S','msc',\n",
    "            'BTECH', 'B.TECH', 'M.TECH', 'MTECH',\n",
    "            'PHD', 'phd', 'ph.d', 'Ph.D.','MBA','mba','graduate', 'post-graduate','5 year integrated masters','masters',\n",
    "            'SSC', 'HSC', 'CBSE', 'ICSE', 'X', 'XII'\n",
    "        ]\n",
    "\n",
    "us_da[\"education\"]=''\n",
    "\n",
    "for i in EDUCATION:\n",
    "    \n",
    "    if i != i:\n",
    "        \n",
    "        pass\n",
    "    \n",
    "    else:\n",
    "        \n",
    "        keyword_processor.add_keyword(i)\n",
    "        \n",
    "#keywords_found = keyword_processor.extract_keywords(ca_ds_jd[\"description_clean\"][0])\n",
    "\n",
    "for i in range(len(us_da)):\n",
    "    \n",
    "    keywords_found = keyword_processor.extract_keywords(us_da[\"description_clean\"][i])\n",
    "\n",
    "    us_da['education'][i]=keywords_found\n",
    "    "
   ]
  },
  {
   "cell_type": "code",
   "execution_count": 26,
   "metadata": {},
   "outputs": [],
   "source": [
    "# remove duplicate degree information in each position and remove \"set()\"\n",
    "\n",
    "\n",
    "education_result=[]\n",
    "\n",
    "for i in range(len(us_da[\"education\"])):\n",
    "    \n",
    "    \n",
    "      item = set(us_da[\"education\"][i])\n",
    "        \n",
    "      for char in item:\n",
    "    \n",
    "            if item != \"set()\":\n",
    "      \n",
    "               education_result.append(item)"
   ]
  },
  {
   "cell_type": "code",
   "execution_count": 27,
   "metadata": {},
   "outputs": [],
   "source": [
    "# remove the outer list and count the numbers of different degrees \n",
    "#and save to a dictionary\n",
    "\n",
    "\n",
    "degree_count = {}\n",
    "\n",
    "for w in education_result:\n",
    "    \n",
    "    for char in w:\n",
    "    \n",
    "        if char in degree_count:\n",
    "        \n",
    "             degree_count[char] += 1\n",
    "        \n",
    "        else:\n",
    "        \n",
    "              degree_count[char] = 1"
   ]
  },
  {
   "cell_type": "code",
   "execution_count": 28,
   "metadata": {},
   "outputs": [
    {
     "data": {
      "text/html": [
       "<div>\n",
       "<style scoped>\n",
       "    .dataframe tbody tr th:only-of-type {\n",
       "        vertical-align: middle;\n",
       "    }\n",
       "\n",
       "    .dataframe tbody tr th {\n",
       "        vertical-align: top;\n",
       "    }\n",
       "\n",
       "    .dataframe thead th {\n",
       "        text-align: right;\n",
       "    }\n",
       "</style>\n",
       "<table border=\"1\" class=\"dataframe\">\n",
       "  <thead>\n",
       "    <tr style=\"text-align: right;\">\n",
       "      <th></th>\n",
       "      <th>degree</th>\n",
       "      <th>count</th>\n",
       "    </tr>\n",
       "  </thead>\n",
       "  <tbody>\n",
       "    <tr>\n",
       "      <th>0</th>\n",
       "      <td>BE</td>\n",
       "      <td>552</td>\n",
       "    </tr>\n",
       "    <tr>\n",
       "      <th>1</th>\n",
       "      <td>MS</td>\n",
       "      <td>161</td>\n",
       "    </tr>\n",
       "    <tr>\n",
       "      <th>2</th>\n",
       "      <td>BS</td>\n",
       "      <td>105</td>\n",
       "    </tr>\n",
       "    <tr>\n",
       "      <th>3</th>\n",
       "      <td>graduate</td>\n",
       "      <td>46</td>\n",
       "    </tr>\n",
       "    <tr>\n",
       "      <th>7</th>\n",
       "      <td>masters</td>\n",
       "      <td>46</td>\n",
       "    </tr>\n",
       "    <tr>\n",
       "      <th>4</th>\n",
       "      <td>mba</td>\n",
       "      <td>24</td>\n",
       "    </tr>\n",
       "    <tr>\n",
       "      <th>8</th>\n",
       "      <td>phd</td>\n",
       "      <td>24</td>\n",
       "    </tr>\n",
       "    <tr>\n",
       "      <th>5</th>\n",
       "      <td>ME</td>\n",
       "      <td>17</td>\n",
       "    </tr>\n",
       "    <tr>\n",
       "      <th>6</th>\n",
       "      <td>X</td>\n",
       "      <td>16</td>\n",
       "    </tr>\n",
       "  </tbody>\n",
       "</table>\n",
       "</div>"
      ],
      "text/plain": [
       "     degree  count\n",
       "0        BE    552\n",
       "1        MS    161\n",
       "2        BS    105\n",
       "3  graduate     46\n",
       "7   masters     46\n",
       "4       mba     24\n",
       "8       phd     24\n",
       "5        ME     17\n",
       "6         X     16"
      ]
     },
     "execution_count": 28,
     "metadata": {},
     "output_type": "execute_result"
    }
   ],
   "source": [
    "# convert dictionary degreelist to dataframe type\n",
    "\n",
    "\n",
    "degree_items = list(degree_count.items())\n",
    "\n",
    "degree_list = pd.DataFrame(degree_items)\n",
    "\n",
    "degree_list= degree_list.rename(columns={0:\"degree\",1:\"count\"}).reset_index().sort_values(by=\"count\", ascending=False)\n",
    "\n",
    "\n",
    "degree_list.drop(columns=\"index\")"
   ]
  },
  {
   "cell_type": "code",
   "execution_count": 29,
   "metadata": {},
   "outputs": [
    {
     "data": {
      "text/plain": [
       "<matplotlib.axes._subplots.AxesSubplot at 0x7f91158780a0>"
      ]
     },
     "execution_count": 29,
     "metadata": {},
     "output_type": "execute_result"
    },
    {
     "data": {
      "image/png": "[encoded data removed]",
      "text/plain": [
       "<Figure size 864x576 with 1 Axes>"
      ]
     },
     "metadata": {},
     "output_type": "display_data"
    }
   ],
   "source": [
    "# plot the degree count \n",
    "\n",
    "degree_list.plot.bar(x=\"degree\", y=\"count\", figsize=(12,8), rot=45,title=\"us_da_degree\")"
   ]
  },
  {
   "cell_type": "code",
   "execution_count": 30,
   "metadata": {},
   "outputs": [
    {
     "name": "stderr",
     "output_type": "stream",
     "text": [
      "<ipython-input-30-9f28112e5cf6>:33: SettingWithCopyWarning: \n",
      "A value is trying to be set on a copy of a slice from a DataFrame\n",
      "\n",
      "See the caveats in the documentation: https://pandas.pydata.org/pandas-docs/stable/user_guide/indexing.html#returning-a-view-versus-a-copy\n",
      "  us_da['major'][i] = keyword_found\n"
     ]
    }
   ],
   "source": [
    "# major distribution\n",
    "\n",
    "from flashtext import KeywordProcessor\n",
    "\n",
    "keyword_processor = KeywordProcessor()\n",
    "\n",
    "major = [\"computer science\", \"statistics\", \"mathematics\", \"physics\", \"electrical engineering\", \"economics\",\"computer engineering\",\n",
    "        \"information systems\",\"business\", \"management science\", \"mechanical engineering\", \"chemistry\", \"finance\", \"biology\",\"psychology\",\"Engineering\",\n",
    "        \"information technology\",\"industrial engineering\",\"biomedical engineering\",\"chemical engineering\"]\n",
    "\n",
    "\n",
    "\n",
    "us_da[\"major\"] = ''\n",
    "\n",
    "for i in major:\n",
    "    \n",
    "    if i !=i:\n",
    "        \n",
    "        pass\n",
    "    \n",
    "    else:\n",
    "        \n",
    "        keyword_processor.add_keyword(i)\n",
    "        \n",
    "\n",
    "        \n",
    "for i  in range(len(us_da[\"description_clean\"])):\n",
    "    \n",
    "    \n",
    "    keyword_found = keyword_processor.extract_keywords(us_da[\"description_clean\"][i])\n",
    "    \n",
    "    \n",
    "    us_da['major'][i] = keyword_found"
   ]
  },
  {
   "cell_type": "code",
   "execution_count": 42,
   "metadata": {},
   "outputs": [],
   "source": [
    "# remove the outer list and count the numbers of different degrees \n",
    "#and save to a dictionary\n",
    "\n",
    "\n",
    "major_result=[]\n",
    "\n",
    "for i in range(len(us_da[\"major\"])):\n",
    "    \n",
    "    \n",
    "    item = set(us_da[\"major\"][i])\n",
    "        \n",
    "    for char in item:\n",
    "    \n",
    "            if item != \"set()\":\n",
    "      \n",
    "               major_result.append(item)"
   ]
  },
  {
   "cell_type": "code",
   "execution_count": 46,
   "metadata": {},
   "outputs": [],
   "source": [
    "da_major_count = {}\n",
    "\n",
    "for w in major_result:\n",
    "    \n",
    "    for char in w:\n",
    "    \n",
    "        if char in da_major_count:\n",
    "        \n",
    "             da_major_count[char] += 1\n",
    "        \n",
    "        else:\n",
    "        \n",
    "              da_major_count[char] = 0"
   ]
  },
  {
   "cell_type": "code",
   "execution_count": 50,
   "metadata": {},
   "outputs": [],
   "source": [
    "# conver major count dictionary to datarame\n",
    "\n",
    "major_items = list(da_major_count.items())\n",
    "\n",
    "major_list = pd.DataFrame(major_items)\n",
    "\n",
    "\n",
    "us_da_major_list= major_list.rename(columns={0:\"us_da_major\",1:\"count\"}).reset_index().sort_values(by=\"count\",ascending=False)\n",
    "\n",
    "\n",
    "us_da_major_list=us_da_major_list.drop(columns=\"index\")\n",
    "#ca_de_major_list.plot.bar(x=\"ca_de_major\",y=\"count\",figsize=(12,8),rot=30,color='red',title=\"ca_de_major\")"
   ]
  },
  {
   "cell_type": "code",
   "execution_count": 51,
   "metadata": {},
   "outputs": [
    {
     "data": {
      "text/plain": [
       "<matplotlib.axes._subplots.AxesSubplot at 0x7f911590ca00>"
      ]
     },
     "execution_count": 51,
     "metadata": {},
     "output_type": "execute_result"
    },
    {
     "data": {
      "image/png": "[encoded data removed]",
      "text/plain": [
       "<Figure size 864x576 with 1 Axes>"
      ]
     },
     "metadata": {},
     "output_type": "display_data"
    }
   ],
   "source": [
    "us_da_major_list.plot.bar(x=\"us_da_major\",y=\"count\",figsize=(12,8),rot=30,color='green',title=\"us_da_major\")"
   ]
  },
  {
   "cell_type": "code",
   "execution_count": 52,
   "metadata": {},
   "outputs": [
    {
     "name": "stderr",
     "output_type": "stream",
     "text": [
      "<ipython-input-52-982d18c6ebb4>:32: SettingWithCopyWarning: \n",
      "A value is trying to be set on a copy of a slice from a DataFrame\n",
      "\n",
      "See the caveats in the documentation: https://pandas.pydata.org/pandas-docs/stable/user_guide/indexing.html#returning-a-view-versus-a-copy\n",
      "  us_da[\"libraries\"][i] = keywords_found\n"
     ]
    }
   ],
   "source": [
    " # extract libraries for ca_data scientist\n",
    "\n",
    "from flashtext import KeywordProcessor\n",
    "\n",
    "\n",
    "keyword_processor = KeywordProcessor()\n",
    "\n",
    "\n",
    "ds_libraries = ['NumPy','Keras','Pandas','PyTorch','SciPy','Scikit-Learn','TensorFlow','Matplotlib','Seaborn',\n",
    "'Theano','OpenCV','Mahotas','SimpleITK','Pillow','Requests','Beautiful Soup','Selenium','ScraPy','PyTest','PyUnit']\n",
    "\n",
    "\n",
    "\n",
    "us_da[\"libraries\"]=''\n",
    "\n",
    "for i in ds_libraries:\n",
    "    \n",
    "    if i != i:\n",
    "        pass\n",
    "    \n",
    "    else:\n",
    "        \n",
    "        keyword_processor.add_keyword(i)\n",
    "        \n",
    "#keywords_found = keyword_processor.extract_keywords(ca_cloud[\"description_stop_re\"][0])\n",
    "\n",
    "\n",
    "for i in range(len(us_da)):\n",
    "    \n",
    "    keywords_found = keyword_processor.extract_keywords(us_da[\"description_clean\"][i])\n",
    "    \n",
    "    us_da[\"libraries\"][i] = keywords_found\n",
    "    "
   ]
  },
  {
   "cell_type": "code",
   "execution_count": 53,
   "metadata": {},
   "outputs": [
    {
     "data": {
      "text/html": [
       "<div>\n",
       "<style scoped>\n",
       "    .dataframe tbody tr th:only-of-type {\n",
       "        vertical-align: middle;\n",
       "    }\n",
       "\n",
       "    .dataframe tbody tr th {\n",
       "        vertical-align: top;\n",
       "    }\n",
       "\n",
       "    .dataframe thead th {\n",
       "        text-align: right;\n",
       "    }\n",
       "</style>\n",
       "<table border=\"1\" class=\"dataframe\">\n",
       "  <thead>\n",
       "    <tr style=\"text-align: right;\">\n",
       "      <th></th>\n",
       "      <th>library skill</th>\n",
       "      <th>count</th>\n",
       "    </tr>\n",
       "  </thead>\n",
       "  <tbody>\n",
       "    <tr>\n",
       "      <th>0</th>\n",
       "      <td>Requests</td>\n",
       "      <td>133</td>\n",
       "    </tr>\n",
       "    <tr>\n",
       "      <th>1</th>\n",
       "      <td>Pandas</td>\n",
       "      <td>9</td>\n",
       "    </tr>\n",
       "    <tr>\n",
       "      <th>3</th>\n",
       "      <td>Matplotlib</td>\n",
       "      <td>3</td>\n",
       "    </tr>\n",
       "    <tr>\n",
       "      <th>2</th>\n",
       "      <td>Seaborn</td>\n",
       "      <td>2</td>\n",
       "    </tr>\n",
       "    <tr>\n",
       "      <th>4</th>\n",
       "      <td>TensorFlow</td>\n",
       "      <td>2</td>\n",
       "    </tr>\n",
       "    <tr>\n",
       "      <th>5</th>\n",
       "      <td>NumPy</td>\n",
       "      <td>2</td>\n",
       "    </tr>\n",
       "    <tr>\n",
       "      <th>6</th>\n",
       "      <td>PyTest</td>\n",
       "      <td>1</td>\n",
       "    </tr>\n",
       "    <tr>\n",
       "      <th>7</th>\n",
       "      <td>PyTorch</td>\n",
       "      <td>1</td>\n",
       "    </tr>\n",
       "  </tbody>\n",
       "</table>\n",
       "</div>"
      ],
      "text/plain": [
       "  library skill  count\n",
       "0      Requests    133\n",
       "1        Pandas      9\n",
       "3    Matplotlib      3\n",
       "2       Seaborn      2\n",
       "4    TensorFlow      2\n",
       "5         NumPy      2\n",
       "6        PyTest      1\n",
       "7       PyTorch      1"
      ]
     },
     "execution_count": 53,
     "metadata": {},
     "output_type": "execute_result"
    }
   ],
   "source": [
    "from nltk import flatten\n",
    "\n",
    "uniqueskillcount=0\n",
    "    \n",
    "library_skill_list =[i for i in us_da[\"libraries\"]]\n",
    "    \n",
    "library_skill = list(flatten([q for q in library_skill_list]))\n",
    "\n",
    "\n",
    "\n",
    "da_library_skill_count={}\n",
    "\n",
    "for w in library_skill:\n",
    "    \n",
    "    if w in da_library_skill_count:\n",
    "        \n",
    "        da_library_skill_count[w] += 1\n",
    "    else:\n",
    "        \n",
    "        da_library_skill_count[w] = 1\n",
    "        \n",
    "    \n",
    "\n",
    "# convert dictionary soft skill list to dataframe type\n",
    "library_items = list(da_library_skill_count.items())\n",
    "\n",
    "library_list = pd.DataFrame(library_items)\n",
    "\n",
    "usda_library_list= library_list.rename(columns={0:\"library skill\",1:\"count\"}).reset_index().sort_values(by=\"count\",ascending=False)\n",
    "\n",
    "usda_library_list.drop(columns=\"index\")"
   ]
  },
  {
   "cell_type": "code",
   "execution_count": 55,
   "metadata": {},
   "outputs": [
    {
     "data": {
      "text/plain": [
       "<matplotlib.axes._subplots.AxesSubplot at 0x7f9116e2d190>"
      ]
     },
     "execution_count": 55,
     "metadata": {},
     "output_type": "execute_result"
    },
    {
     "data": {
      "image/png": "[encoded data removed]",
      "text/plain": [
       "<Figure size 864x576 with 1 Axes>"
      ]
     },
     "metadata": {},
     "output_type": "display_data"
    }
   ],
   "source": [
    "usda_library_list.plot.bar(x=\"library skill\",y=\"count\",figsize=(12,8),rot=30,color='pink',title=\"us_da_library_list\")"
   ]
  },
  {
   "cell_type": "markdown",
   "metadata": {},
   "source": [
    "## Create the additional columns\n",
    "## Job title (One of the 4 listed above)\n",
    "## city\n",
    "## State/Province\n",
    "## Country,Remote (binary)Hybrid (binary) On-site (binary)"
   ]
  }
 ],
 "metadata": {
  "kernelspec": {
   "display_name": "Python 3",
   "language": "python",
   "name": "python3"
  },
  "language_info": {
   "codemirror_mode": {
    "name": "ipython",
    "version": 3
   },
   "file_extension": ".py",
   "mimetype": "text/x-python",
   "name": "python",
   "nbconvert_exporter": "python",
   "pygments_lexer": "ipython3",
   "version": "3.8.3"
  }
 },
 "nbformat": 4,
 "nbformat_minor": 4
}
